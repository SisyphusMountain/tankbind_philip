{
 "cells": [
  {
   "cell_type": "code",
   "execution_count": null,
   "metadata": {},
   "outputs": [],
   "source": [
    "import torch"
   ]
  },
  {
   "cell_type": "markdown",
   "metadata": {},
   "source": [
    "Open the dataset, and extract the ligand positions and protein positions\n"
   ]
  },
  {
   "cell_type": "code",
   "execution_count": null,
   "metadata": {},
   "outputs": [],
   "source": [
    "compound = torch.load(\"/fs/pool/pool-marsot/pdbbind/pdbbind2020/dataset/processed/compound.pt\")"
   ]
  },
  {
   "cell_type": "code",
   "execution_count": null,
   "metadata": {},
   "outputs": [],
   "source": [
    "protein = torch.load(\"/fs/pool/pool-marsot/pdbbind/pdbbind2020/dataset/processed/protein.pt\")"
   ]
  },
  {
   "cell_type": "code",
   "execution_count": null,
   "metadata": {},
   "outputs": [],
   "source": [
    "for tens in compound[\"3zzf\"]:\n",
    "    print(tens.shape)"
   ]
  },
  {
   "cell_type": "code",
   "execution_count": null,
   "metadata": {},
   "outputs": [],
   "source": [
    "for tens in protein[\"3zzf\"]:\n",
    "    print(tens.shape)"
   ]
  },
  {
   "cell_type": "markdown",
   "metadata": {},
   "source": [
    "generate a dictionary of protein-ligand coordinates"
   ]
  },
  {
   "cell_type": "code",
   "execution_count": 3,
   "metadata": {},
   "outputs": [],
   "source": [
    "import os\n",
    "import torch\n",
    "if not os.path.exists(\"/fs/pool/pool-marsot/pdbbind/pdbbind2020/dataset/processed/all_dict_coords.pt\"):\n",
    "    all_dict_coords = {}\n",
    "    for key in compound.keys():\n",
    "        dict_coords = {}\n",
    "        dict_coords[\"compound\"] = torch.tensor(compound[key][0])\n",
    "        dict_coords[\"protein\"] = protein[key][0].to(dtype=torch.float64)\n",
    "        all_dict_coords[key] = dict_coords\n",
    "    torch.save(all_dict_coords, \"/fs/pool/pool-marsot/pdbbind/pdbbind2020/dataset/processed/all_dict_coords.pt\")\n",
    "else:\n",
    "    all_dict_coords = torch.load(\"/fs/pool/pool-marsot/pdbbind/pdbbind2020/dataset/processed/all_dict_coords.pt\")"
   ]
  },
  {
   "cell_type": "markdown",
   "metadata": {},
   "source": [
    "Implementing MDS with noised pairwise distance coordinates"
   ]
  },
  {
   "cell_type": "code",
   "execution_count": null,
   "metadata": {},
   "outputs": [],
   "source": [
    "complex_name = \"3zzf\"\n",
    "ligand_coords = all_dict_coords[complex_name][\"compound\"]\n",
    "protein_coords = all_dict_coords[complex_name][\"protein\"]\n",
    "true_pairwise_distances = torch.cdist(protein_coords, ligand_coords)\n",
    "noised_pairwise_distances = true_pairwise_distances + torch.randn_like(true_pairwise_distances) * 0\n",
    "# Using a mask for the distances lower than 10\n",
    "distances_lower_than_10 = torch.where(true_pairwise_distances < 10, torch.ones_like(true_pairwise_distances), torch.zeros_like(true_pairwise_distances))"
   ]
  },
  {
   "cell_type": "code",
   "execution_count": null,
   "metadata": {},
   "outputs": [],
   "source": [
    "N = 2\n",
    "M = 3\n",
    "torch.arange((N+M)**2).reshape(N+M, N+M)"
   ]
  },
  {
   "cell_type": "code",
   "execution_count": null,
   "metadata": {},
   "outputs": [],
   "source": [
    "torch.arange((N+M)**2).reshape(N+M, N+M)[N:, :N]"
   ]
  },
  {
   "cell_type": "code",
   "execution_count": null,
   "metadata": {},
   "outputs": [],
   "source": [
    "complex_name = \"3zzf\"\n",
    "ligand_coords = all_dict_coords[complex_name][\"compound\"]\n",
    "protein_coords = all_dict_coords[complex_name][\"protein\"]\n",
    "true_pairwise_distances = torch.cdist(protein_coords, ligand_coords)\n",
    "noised_pairwise_distances = true_pairwise_distances + torch.randn_like(true_pairwise_distances) * 0 \n",
    "# Using a mask for the distances lower than 10\n",
    "distances_lower_than_10 = torch.where(true_pairwise_distances < 10, torch.ones_like(true_pairwise_distances), torch.zeros_like(true_pairwise_distances))\n",
    "n = protein_coords.shape[0]\n",
    "m = ligand_coords.shape[0]\n",
    "V = torch.zeros(n+m, n+m, dtype=torch.float64)\n",
    "V[n:, :n] = -distances_lower_than_10.T\n",
    "V[:n, n:] = -distances_lower_than_10\n",
    "initial_x = torch.zeros(n+m, 3, dtype=torch.float64)\n",
    "initial_x[:n] = protein_coords\n",
    "initial_x[n:] = torch.randn_like(ligand_coords)\n",
    "V[range(len(V)), range(len(V))] = -torch.sum(V, dim=1)\n",
    "diag_prot = torch.diag(torch.sum(distances_lower_than_10, dim=1))\n",
    "diag_lig = torch.diag(torch.sum(distances_lower_than_10, dim=0))\n",
    "initial_x = torch.zeros(n+m, 3, dtype=torch.float64)\n",
    "initial_x[:n] = protein_coords\n",
    "initial_x[n:] = torch.randn_like(ligand_coords)\n",
    "ratio_up = torch.zeros(n+m, n+m, dtype=torch.float64)\n",
    "ratio_down = torch.zeros(n+m, n+m, dtype=torch.float64)\n",
    "\n",
    "distances_lower_than_10.shape\n",
    "weights = torch.zeros(n+m, n+m, dtype=torch.float64)\n",
    "weights[n:, :n] = distances_lower_than_10.T\n",
    "weights[:n, n:] = distances_lower_than_10\n",
    "V_3_plus = torch.linalg.pinv(V[n:, n:].to(torch.float64))\n",
    "V_2 = V[n:, :n].to(torch.float64)\n",
    "ratio_up[:n, n:] = noised_pairwise_distances\n",
    "ratio_up[n:, :n] = noised_pairwise_distances.T\n",
    "\n",
    "for _ in range(100):\n",
    "    computed_pairwise_distances = torch.cdist(protein_coords, initial_x[n:])\n",
    "    ratio_down[:n, n:] = computed_pairwise_distances\n",
    "    ratio_down[n:, :n] = computed_pairwise_distances.T\n",
    "    ratio = torch.nan_to_num(ratio_up/ratio_down, nan=0.0).to(dtype=torch.float64)\n",
    "    B = (-ratio*weights)\n",
    "    B[range(len(B)), range(len(B))] = -torch.sum(B, dim=1)\n",
    "\n",
    "    B_2_T = B[n:, :n]\n",
    "    B_3 = B[n:, n:]\n",
    "    z_1 = initial_x[:n]\n",
    "    z_2 = initial_x[n:]\n",
    "    x = initial_x[:n]\n",
    "    y = initial_x[n:]\n",
    "    initial_x[n:] = V_3_plus@(B_2_T@initial_x[:n])\n",
    "    print(torch.norm(initial_x[n:] - ligand_coords))"
   ]
  },
  {
   "cell_type": "code",
   "execution_count": null,
   "metadata": {},
   "outputs": [],
   "source": [
    "computed_pairwise_distances = torch.cdist(protein_coords, ligand_coords)\n",
    "ratio_down[:n, n:] = computed_pairwise_distances\n",
    "ratio_down[n:, :n] = computed_pairwise_distances.T\n",
    "ratio = torch.nan_to_num(ratio_up/ratio_down, nan=0.0).to(dtype=torch.float64)\n",
    "B = (-ratio*weights)\n",
    "B[range(len(B)), range(len(B))] = -torch.sum(B, dim=1)"
   ]
  },
  {
   "cell_type": "code",
   "execution_count": null,
   "metadata": {},
   "outputs": [],
   "source": [
    "torch.where(B!=V)"
   ]
  },
  {
   "cell_type": "code",
   "execution_count": null,
   "metadata": {},
   "outputs": [],
   "source": [
    "B[41, 41], V[41,41]"
   ]
  },
  {
   "cell_type": "code",
   "execution_count": null,
   "metadata": {},
   "outputs": [],
   "source": [
    "V = torch.zeros(n+m, n+m, dtype=torch.float64)\n",
    "V[n:, :n] = -distances_lower_than_10.T\n",
    "V[:n, n:] = -distances_lower_than_10\n",
    "V[range(len(V)), range(len(V))] = -torch.sum(V, dim=1)"
   ]
  },
  {
   "cell_type": "code",
   "execution_count": null,
   "metadata": {},
   "outputs": [],
   "source": [
    "V.diagonal()"
   ]
  },
  {
   "cell_type": "code",
   "execution_count": null,
   "metadata": {},
   "outputs": [],
   "source": [
    "V.diagonal()"
   ]
  },
  {
   "cell_type": "code",
   "execution_count": null,
   "metadata": {},
   "outputs": [],
   "source": [
    "torch.where(B!=V)"
   ]
  },
  {
   "cell_type": "code",
   "execution_count": null,
   "metadata": {},
   "outputs": [],
   "source": [
    "weights.sum()"
   ]
  },
  {
   "cell_type": "code",
   "execution_count": null,
   "metadata": {},
   "outputs": [],
   "source": [
    "import matplotlib.pyplot as plt\n",
    "import torch\n",
    "\n",
    "# Assuming your previous code is already executed and initial_x is initialized\n",
    "\n",
    "def plot_2d_projection(initial_x, n, iteration):\n",
    "    plt.figure(figsize=(10, 6))\n",
    "    # Extracting coordinates\n",
    "    x_coords = initial_x[:, 0].numpy()\n",
    "    y_coords = initial_x[:, 1].numpy()\n",
    "\n",
    "    # Plotting points before n in blue\n",
    "    plt.scatter(x_coords[:n], y_coords[:n], c='blue', label='Protein Coords')\n",
    "    # Plotting points after n in red\n",
    "    plt.scatter(x_coords[n:], y_coords[n:], c='red', label='Ligand Coords')\n",
    "\n",
    "    # Adding title and legend\n",
    "    plt.title(f'2D Projection at Iteration {iteration}')\n",
    "    plt.xlabel('X')\n",
    "    plt.ylabel('Y')\n",
    "    plt.legend()\n",
    "    plt.show()\n",
    "noised_pairwise_distances = true_pairwise_distances + torch.randn_like(true_pairwise_distances) * 1\n",
    "\n",
    "initial_x[n:] = ligand_coords\n",
    "# Running the iterations and plotting\n",
    "V = torch.zeros(n+m, n+m, dtype=torch.float64)\n",
    "V[n:, :n] = -distances_lower_than_10.T\n",
    "V[:n, n:] = -distances_lower_than_10\n",
    "V[range(len(V)), range(len(V))] = -torch.sum(V, dim=1)\n",
    "initial_x = torch.zeros(n+m, 3, dtype=torch.float64)\n",
    "initial_x[:n] = protein_coords\n",
    "initial_x[n:] = torch.randn_like(ligand_coords)\n",
    "\n",
    "ratio_up = torch.zeros(n+m, n+m, dtype=torch.float64)\n",
    "ratio_down = torch.zeros(n+m, n+m, dtype=torch.float64)\n",
    "weights = torch.zeros(n+m, n+m, dtype=torch.float64)\n",
    "weights[n:, :n] = distances_lower_than_10.T\n",
    "weights[:n, n:] = distances_lower_than_10\n",
    "V_3_plus = torch.linalg.pinv(V[n:, n:].to(torch.float64))\n",
    "V_2 = V[n:, :n].to(torch.float64)\n",
    "ratio_up[:n, n:] = noised_pairwise_distances\n",
    "ratio_up[n:, :n] = noised_pairwise_distances.T\n",
    "\n",
    "for iteration in range(100):\n",
    "    computed_pairwise_distances = torch.cdist(protein_coords, initial_x[n:])\n",
    "    ratio_down[:n, n:] = computed_pairwise_distances\n",
    "    ratio_down[n:, :n] = computed_pairwise_distances.T\n",
    "    ratio = torch.nan_to_num(ratio_up / ratio_down, nan=0.0).to(dtype=torch.float64)\n",
    "    B = (-ratio * weights)\n",
    "    B[range(len(B)), range(len(B))] = -torch.sum(B, dim=1)\n",
    "\n",
    "    B_2_T = B[n:, :n]\n",
    "    V_2_T = V[n:, :n]\n",
    "    B_3 = B[n:, n:]\n",
    "    x = initial_x[:n]\n",
    "    y = initial_x[n:]\n",
    "    initial_x[n:] = V_3_plus @ (B_2_T @ x + B_3@y - V_2_T@x)\n",
    "    \n",
    "    # Print the norm difference as in your code\n",
    "    print(torch.norm(initial_x[n:] - ligand_coords))\n",
    "    \n",
    "    # Plot the 2D projection\n",
    "    #plot_2d_projection(initial_x, n, iteration)\n"
   ]
  },
  {
   "cell_type": "code",
   "execution_count": null,
   "metadata": {},
   "outputs": [],
   "source": [
    "complex_name = \"3zzf\"\n",
    "ligand_coords = all_dict_coords[complex_name][\"compound\"]\n",
    "protein_coords = all_dict_coords[complex_name][\"protein\"]\n",
    "true_pairwise_distances = torch.cdist(protein_coords, ligand_coords)\n",
    "noised_pairwise_distances = true_pairwise_distances + torch.randn_like(true_pairwise_distances) * 0 \n",
    "# Using a mask for the distances lower than 10\n",
    "# distances_lower_than_10 = torch.where(true_pairwise_distances < 10, torch.ones_like(true_pairwise_distances), torch.zeros_like(true_pairwise_distances))\n",
    "n = protein_coords.shape[0]\n",
    "m = ligand_coords.shape[0]\n",
    "V = torch.zeros(n+m, n+m, dtype=torch.float64)\n",
    "V[n:, :n] = -torch.ones(m, n)\n",
    "V[:n, n:] = -torch.ones(n, m)\n",
    "diag_prot = torch.diag(torch.sum(distances_lower_than_10, dim=1))\n",
    "diag_lig = torch.diag(torch.sum(distances_lower_than_10, dim=0))\n",
    "V[n:, n:] = diag_lig\n",
    "V[:n, :n] = diag_prot\n",
    "initial_x = torch.zeros(n+m, 3, dtype=torch.float64)\n",
    "initial_x[:n] = protein_coords\n",
    "initial_x[n:] = torch.randn_like(ligand_coords)\n",
    "V[range(len(V)), range(len(V))] = torch.sum(V, dim=1)\n",
    "ratio_up = torch.zeros(n+m, n+m, dtype=torch.float64)\n",
    "ratio_down = torch.zeros(n+m, n+m, dtype=torch.float64)\n",
    "\n",
    "distances_lower_than_10.shape\n",
    "weights = torch.zeros(n+m, n+m, dtype=torch.float64)\n",
    "weights[n:, :n] = distances_lower_than_10.T\n",
    "weights[:n, n:] = distances_lower_than_10\n",
    "V_3_plus = torch.linalg.pinv(V[n:, n:].to(torch.float64))\n",
    "V_2 = V[n:, :n].to(torch.float64)\n",
    "ratio_up[:n, n:] = noised_pairwise_distances\n",
    "ratio_up[n:, :n] = noised_pairwise_distances.T\n",
    "\n",
    "for _ in range(100):\n",
    "    computed_pairwise_distances = torch.cdist(protein_coords, initial_x[n:])\n",
    "    ratio_down[:n, n:] = computed_pairwise_distances\n",
    "    ratio_down[n:, :n] = computed_pairwise_distances.T\n",
    "    ratio = torch.nan_to_num(ratio_up/ratio_down, nan=0.0).to(dtype=torch.float64)\n",
    "    B = (-ratio*weights)\n",
    "    B[range(len(B)), range(len(B))] = -torch.sum(B, dim=1)\n",
    "\n",
    "    B_2_T = B[n:, :n]\n",
    "    B_3 = B[n:, n:]\n",
    "    z_1 = initial_x[:n]\n",
    "    z_2 = initial_x[n:]\n",
    "    x = initial_x[:n]\n",
    "    y = initial_x[n:]\n",
    "    initial_x[n:] = V_3_plus@(B_2_T@initial_x[:n])\n",
    "    print(torch.norm(initial_x[n:] - ligand_coords))"
   ]
  },
  {
   "cell_type": "markdown",
   "metadata": {},
   "source": [
    "Version with ligand structure penalty"
   ]
  },
  {
   "cell_type": "code",
   "execution_count": null,
   "metadata": {},
   "outputs": [],
   "source": [
    "import matplotlib.pyplot as plt\n",
    "import torch\n",
    "\n",
    "# Assuming your previous code is already executed and initial_x is initialized\n",
    "s = 100\n",
    "\n",
    "\n",
    "def plot_2d_projection(initial_x, n, iteration):\n",
    "    plt.figure(figsize=(10, 6))\n",
    "    # Extracting coordinates\n",
    "    x_coords = initial_x[:, 0].numpy()\n",
    "    y_coords = initial_x[:, 1].numpy()\n",
    "\n",
    "    # Plotting points before n in blue\n",
    "    plt.scatter(x_coords[:n], y_coords[:n], c='blue', label='Protein Coords')\n",
    "    # Plotting points after n in red\n",
    "    plt.scatter(x_coords[n:], y_coords[n:], c='red', label='Ligand Coords')\n",
    "\n",
    "    # Adding title and legend\n",
    "    plt.title(f'2D Projection at Iteration {iteration}')\n",
    "    plt.xlabel('X')\n",
    "    plt.ylabel('Y')\n",
    "    plt.legend()\n",
    "    plt.show()\n",
    "noised_pairwise_distances = true_pairwise_distances + torch.randn_like(true_pairwise_distances) * 1\n",
    "pairwise_distances_lig = torch.cdist(ligand_coords, ligand_coords)\n",
    "\n",
    "\n",
    "initial_x[n:] = ligand_coords\n",
    "# Running the iterations and plotting\n",
    "V = torch.zeros(n+m, n+m, dtype=torch.float64)\n",
    "V[n:, :n] = -distances_lower_than_10.T\n",
    "V[:n, n:] = -distances_lower_than_10\n",
    "V[range(len(V)), range(len(V))] = -torch.sum(V, dim=1)\n",
    "\n",
    "V_lig = torch.zeros(n+m, n+m)\n",
    "pen_matrix = torch.ones(m,m)\n",
    "pen_matrix = m*torch.eye(m) - pen_matrix\n",
    "V_lig[n:, n:] = pen_matrix\n",
    "\n",
    "V = V + s*V_lig\n",
    "\n",
    "\n",
    "initial_x = torch.zeros(n+m, 3, dtype=torch.float64)\n",
    "initial_x[:n] = protein_coords\n",
    "initial_x[n:] = torch.randn_like(ligand_coords)\n",
    "\n",
    "ratio_up = torch.zeros(n+m, n+m, dtype=torch.float64)\n",
    "ratio_down = torch.zeros(n+m, n+m, dtype=torch.float64)\n",
    "weights = torch.zeros(n+m, n+m, dtype=torch.float64)\n",
    "weights[n:, :n] = distances_lower_than_10.T\n",
    "weights[:n, n:] = distances_lower_than_10\n",
    "V_3_plus = torch.linalg.pinv(V[n:, n:].to(torch.float64))\n",
    "V_2 = V[n:, :n].to(torch.float64)\n",
    "ratio_up[:n, n:] = noised_pairwise_distances\n",
    "ratio_up[n:, :n] = noised_pairwise_distances.T\n",
    "\n",
    "ratio_up_lig = pairwise_distances_lig\n",
    "ratio_down_lig = torch.zeros(n+m, n+m, dtype=torch.float64)\n",
    "weights_lig = torch.ones(m,m)-torch.eye(m)\n",
    "\n",
    "for iteration in range(10000):\n",
    "    computed_pairwise_distances = torch.cdist(protein_coords, initial_x[n:])\n",
    "    ratio_down[:n, n:] = computed_pairwise_distances\n",
    "    ratio_down[n:, :n] = computed_pairwise_distances.T\n",
    "    ratio = torch.nan_to_num(ratio_up / ratio_down, nan=0.0).to(dtype=torch.float64)\n",
    "    B = (-ratio * weights)\n",
    "    B[range(len(B)), range(len(B))] = -torch.sum(B, dim=1)\n",
    "\n",
    "\n",
    "    computed_pairwise_distances_lig = torch.cdist(initial_x[n:], initial_x[n:])\n",
    "    ratio_down_lig = computed_pairwise_distances_lig\n",
    "    ratio_lig = torch.nan_to_num(ratio_up_lig / ratio_down_lig, nan=0.0).to(dtype=torch.float64)\n",
    "    B_lig = torch.zeros(n+m, n+m)\n",
    "    B_lig[n:,n:] = (-ratio_lig * weights_lig)\n",
    "    B_lig[range(len(B_lig)), range(len(B_lig))] = -torch.sum(B_lig, dim=1)\n",
    "\n",
    "    B = B + s*B_lig\n",
    "\n",
    "    B_2_T = B[n:, :n]\n",
    "    V_2_T = V[n:, :n]\n",
    "    B_3 = B[n:, n:]\n",
    "    x = initial_x[:n]\n",
    "    y = initial_x[n:]\n",
    "    initial_x[n:] = V_3_plus @ (B_2_T @ x + B_3@y - V_2_T@x)\n",
    "    \n",
    "    # Print the norm difference as in your code\n",
    "    # print(torch.norm(initial_x[n:] - ligand_coords).item())\n",
    "    \n",
    "    # Plot the 2D projection\n",
    "    #plot_2d_projection(initial_x, n, iteration)\n"
   ]
  },
  {
   "cell_type": "code",
   "execution_count": null,
   "metadata": {},
   "outputs": [],
   "source": [
    "plot_2d_projection(initial_x, n, iteration)"
   ]
  },
  {
   "cell_type": "code",
   "execution_count": null,
   "metadata": {},
   "outputs": [],
   "source": [
    "plot_2d_projection(initial_x, n, iteration)"
   ]
  },
  {
   "cell_type": "code",
   "execution_count": null,
   "metadata": {},
   "outputs": [],
   "source": [
    "import plotly.graph_objects as go\n",
    "import torch\n",
    "\n",
    "# Assuming your previous code is already executed and initial_x is initialized\n",
    "\n",
    "def plot_3d_projection(initial_x, ligand_coords, n, iteration):\n",
    "    # Extracting coordinates\n",
    "    x_coords = initial_x[:, 0].numpy()\n",
    "    y_coords = initial_x[:, 1].numpy()\n",
    "    z_coords = initial_x[:, 2].numpy()\n",
    "\n",
    "    ligand_x = ligand_coords[:, 0].numpy()\n",
    "    ligand_y = ligand_coords[:, 1].numpy()\n",
    "    ligand_z = ligand_coords[:, 2].numpy()\n",
    "\n",
    "    # Creating the 3D scatter plot\n",
    "    fig = go.Figure()\n",
    "\n",
    "    # Adding points before n in blue\n",
    "    fig.add_trace(go.Scatter3d(\n",
    "        x=x_coords[:n], y=y_coords[:n], z=z_coords[:n],\n",
    "        mode='markers', marker=dict(size=5, color='blue'),\n",
    "        name='Protein Coords'\n",
    "    ))\n",
    "\n",
    "    # Adding points after n in red\n",
    "    fig.add_trace(go.Scatter3d(\n",
    "        x=x_coords[n:], y=y_coords[n:], z=z_coords[n:],\n",
    "        mode='markers', marker=dict(size=5, color='red'),\n",
    "        name='Ligand Coords'\n",
    "    ))\n",
    "\n",
    "    # Adding true ligand positions in green\n",
    "    fig.add_trace(go.Scatter3d(\n",
    "        x=ligand_x, y=ligand_y, z=ligand_z,\n",
    "        mode='markers', marker=dict(size=5, color='green'),\n",
    "        name='True Ligand Coords'\n",
    "    ))\n",
    "\n",
    "    # Updating layout\n",
    "    fig.update_layout(\n",
    "        title=f'3D Projection at Iteration {iteration}',\n",
    "        scene=dict(\n",
    "            xaxis_title='X',\n",
    "            yaxis_title='Y',\n",
    "            zaxis_title='Z'\n",
    "        )\n",
    "    )\n",
    "\n",
    "    fig.show()\n"
   ]
  },
  {
   "cell_type": "code",
   "execution_count": null,
   "metadata": {},
   "outputs": [],
   "source": [
    "plot_3d_projection(initial_x, ligand_coords, n, iteration)"
   ]
  },
  {
   "cell_type": "code",
   "execution_count": null,
   "metadata": {},
   "outputs": [],
   "source": [
    "import plotly.graph_objects as go\n",
    "import torch\n",
    "\n",
    "def plot_3d_projection(initial_x, ligand_coords, n, iteration):\n",
    "    # Extracting coordinates\n",
    "    x_coords = initial_x[:, 0].cpu().numpy()\n",
    "    y_coords = initial_x[:, 1].cpu().numpy()\n",
    "    z_coords = initial_x[:, 2].cpu().numpy()\n",
    "\n",
    "    ligand_x = ligand_coords[:, 0].cpu().numpy()\n",
    "    ligand_y = ligand_coords[:, 1].cpu().numpy()\n",
    "    ligand_z = ligand_coords[:, 2].cpu().numpy()\n",
    "\n",
    "    # Creating the 3D scatter plot\n",
    "    fig = go.Figure()\n",
    "\n",
    "    # Adding points before n in blue\n",
    "    fig.add_trace(go.Scatter3d(\n",
    "        x=x_coords[:n], y=y_coords[:n], z=z_coords[:n],\n",
    "        mode='markers', marker=dict(size=5, color='blue'),\n",
    "        name='Protein Coords'\n",
    "    ))\n",
    "\n",
    "    # Adding points after n in red\n",
    "    fig.add_trace(go.Scatter3d(\n",
    "        x=x_coords[n:], y=y_coords[n:], z=z_coords[n:],\n",
    "        mode='markers', marker=dict(size=5, color='red'),\n",
    "        name='Ligand Coords'\n",
    "    ))\n",
    "\n",
    "    # Adding true ligand positions in green\n",
    "    fig.add_trace(go.Scatter3d(\n",
    "        x=ligand_x, y=ligand_y, z=ligand_z,\n",
    "        mode='markers', marker=dict(size=5, color='green'),\n",
    "        name='True Ligand Coords'\n",
    "    ))\n",
    "\n",
    "    # Updating layout\n",
    "    fig.update_layout(\n",
    "        title=f'3D Projection at Iteration {iteration}',\n",
    "        scene=dict(\n",
    "            xaxis_title='X',\n",
    "            yaxis_title='Y',\n",
    "            zaxis_title='Z'\n",
    "        ),\n",
    "        width=1200,  # Adjust the width as needed\n",
    "        height=1200,   # Adjust the height as needed\n",
    "    )\n",
    "\n",
    "    fig.show()\n",
    "\n",
    "def iterative_optimization(protein_coords, ligand_coords, iterations, device, s=10, noise=1):\n",
    "    protein_coords = protein_coords.to(device)\n",
    "    ligand_coords = ligand_coords.to(device)\n",
    "    true_pairwise_distances = torch.cdist(protein_coords, ligand_coords)\n",
    "    noised_pairwise_distances = true_pairwise_distances + torch.randn_like(true_pairwise_distances, device=device) * noise\n",
    "    pairwise_distances_lig = torch.cdist(ligand_coords, ligand_coords)\n",
    "    \n",
    "    n = protein_coords.shape[0]\n",
    "    m = ligand_coords.shape[0]\n",
    "\n",
    "    distances_lower_than_10 = torch.where(true_pairwise_distances < 10, torch.ones_like(true_pairwise_distances, device=device), torch.zeros_like(true_pairwise_distances, device=device))\n",
    "\n",
    "    V = torch.zeros(n+m, n+m, device=device)\n",
    "    V[n:, :n] = -distances_lower_than_10.T\n",
    "    V[:n, n:] = -distances_lower_than_10\n",
    "    V[range(len(V)), range(len(V))] = -torch.sum(V, dim=1)\n",
    "\n",
    "    V_lig = torch.zeros(n+m, n+m, device=device)\n",
    "    pen_matrix = torch.ones(m, m, device=device)\n",
    "    pen_matrix = m * torch.eye(m, device=device) - pen_matrix\n",
    "    V_lig[n:, n:] = pen_matrix\n",
    "\n",
    "    V = V + s * V_lig\n",
    "\n",
    "    initial_x = torch.zeros(n+m, 3, device=device)\n",
    "    initial_x[:n] = protein_coords\n",
    "    initial_x[n:] = torch.randn_like(ligand_coords, device=device)\n",
    "\n",
    "    ratio_up = torch.zeros(n+m, n+m, device=device)\n",
    "    ratio_down = torch.zeros(n+m, n+m, device=device)\n",
    "    weights = torch.zeros(n+m, n+m, device=device)\n",
    "    weights[n:, :n] = distances_lower_than_10.T\n",
    "    weights[:n, n:] = distances_lower_than_10\n",
    "    V_3_plus = torch.linalg.pinv(V[n:, n:])\n",
    "    V_2 = V[n:, :n]\n",
    "    ratio_up[:n, n:] = noised_pairwise_distances\n",
    "    ratio_up[n:, :n] = noised_pairwise_distances.T\n",
    "\n",
    "    ratio_up_lig = pairwise_distances_lig\n",
    "    ratio_down_lig = torch.zeros(n+m, n+m, device=device)\n",
    "    weights_lig = torch.ones(m, m, device=device) - torch.eye(m, device=device)\n",
    "\n",
    "\n",
    "    for iteration in range(iterations):\n",
    "        computed_pairwise_distances = torch.cdist(protein_coords, initial_x[n:])\n",
    "        ratio_down[:n, n:] = computed_pairwise_distances\n",
    "        ratio_down[n:, :n] = computed_pairwise_distances.T\n",
    "        ratio = torch.nan_to_num(ratio_up / ratio_down, nan=0.0)\n",
    "        B = (-ratio * weights)\n",
    "        B[range(len(B)), range(len(B))] = -torch.sum(B, dim=1)\n",
    "\n",
    "        computed_pairwise_distances_lig = torch.cdist(initial_x[n:], initial_x[n:])\n",
    "        ratio_down_lig = computed_pairwise_distances_lig\n",
    "        ratio_lig = torch.nan_to_num(ratio_up_lig / ratio_down_lig, nan=0.0)\n",
    "        B_lig = torch.zeros(n+m, n+m, device=device)\n",
    "        B_lig[n:, n:] = (-ratio_lig * weights_lig)\n",
    "        B_lig[range(len(B_lig)), range(len(B_lig))] = -torch.sum(B_lig, dim=1)\n",
    "\n",
    "        B = B + s * B_lig\n",
    "\n",
    "        B_2_T = B[n:, :n]\n",
    "        V_2_T = V[n:, :n]\n",
    "        B_3 = B[n:, n:]\n",
    "        x = initial_x[:n]\n",
    "        y = initial_x[n:]\n",
    "        initial_x[n:] = V_3_plus @ (B_2_T @ x + B_3 @ y - V_2_T @ x)\n",
    "        \n",
    "        # Print the norm difference as in your code\n",
    "        print(f\"Iteration {iteration}: RMSD =\", (torch.norm(initial_x[n:] - ligand_coords)/m).item())\n",
    "        print(\"Ligand pairwise distance constraint:\", (torch.norm(computed_pairwise_distances_lig - pairwise_distances_lig)/m).item())\n",
    "\n",
    "\n",
    "    plot_3d_projection(initial_x, ligand_coords, n, iteration)\n",
    "\n",
    "# Example usage\n",
    "device = \"cpu\"\n",
    "iterations = 1000\n",
    "\n",
    "iterative_optimization(protein_coords.to(torch.float32), ligand_coords.to(torch.float32), iterations=10000, device=\"cpu\", s=100)\n"
   ]
  },
  {
   "cell_type": "markdown",
   "metadata": {},
   "source": [
    "1. Take 1000 examples for benchmarking\n",
    "2. Implement several initializations\n",
    "3. Look at error distribution for the model."
   ]
  },
  {
   "cell_type": "code",
   "execution_count": 13,
   "metadata": {},
   "outputs": [],
   "source": [
    "#!/usr/bin/env python3\n",
    "# -*- coding: UTF8 -*-\n",
    "# Author: Guillaume Bouvier -- guillaume.bouvier@pasteur.fr\n",
    "# https://research.pasteur.fr/en/member/guillaume-bouvier/\n",
    "# 2020-10-01 11:39:39 (UTC+0200)\n",
    "import torch\n",
    "def find_rigid_alignment(A, B):\n",
    "    \"\"\"\n",
    "    See: https://en.wikipedia.org/wiki/Kabsch_algorithm\n",
    "    2-D or 3-D registration with known correspondences.\n",
    "    Registration occurs in the zero centered coordinate system, and then\n",
    "    must be transported back.\n",
    "        Args:\n",
    "        -    A: Torch tensor of shape (N,D) -- Point Cloud to Align (source)\n",
    "        -    B: Torch tensor of shape (N,D) -- Reference Point Cloud (target)\n",
    "        Returns:\n",
    "        -    R: optimal rotation\n",
    "        -    t: optimal translation\n",
    "    Test on rotation + translation and on rotation + translation + reflection\n",
    "        >>> A = torch.tensor([[1., 1.], [2., 2.], [1.5, 3.]], dtype=torch.float)\n",
    "        >>> R0 = torch.tensor([[np.cos(60), -np.sin(60)], [np.sin(60), np.cos(60)]], dtype=torch.float)\n",
    "        >>> B = (R0.mm(A.T)).T\n",
    "        >>> t0 = torch.tensor([3., 3.])\n",
    "        >>> B += t0\n",
    "        >>> R, t = find_rigid_alignment(A, B)\n",
    "        >>> A_aligned = (R.mm(A.T)).T + t\n",
    "        >>> rmsd = torch.sqrt(((A_aligned - B)**2).sum(axis=1).mean())\n",
    "        >>> rmsd\n",
    "        tensor(3.7064e-07)\n",
    "        >>> B *= torch.tensor([-1., 1.])\n",
    "        >>> R, t = find_rigid_alignment(A, B)\n",
    "        >>> A_aligned = (R.mm(A.T)).T + t\n",
    "        >>> rmsd = torch.sqrt(((A_aligned - B)**2).sum(axis=1).mean())\n",
    "        >>> rmsd\n",
    "        tensor(3.7064e-07)\n",
    "    \"\"\"\n",
    "    a_mean = A.mean(axis=0)\n",
    "    b_mean = B.mean(axis=0)\n",
    "    A_c = A - a_mean\n",
    "    B_c = B - b_mean\n",
    "    # Covariance matrix\n",
    "    H = A_c.T.mm(B_c)\n",
    "    U, S, V = torch.svd(H)\n",
    "    # Rotation matrix\n",
    "    R = V.mm(U.T)\n",
    "    # Translation vector\n",
    "    t = b_mean[None, :] - R.mm(a_mean[None, :].T).T\n",
    "    t = t.T\n",
    "    return R, t.squeeze()"
   ]
  },
  {
   "cell_type": "code",
   "execution_count": 24,
   "metadata": {},
   "outputs": [],
   "source": [
    "def rigid_MDS(protein_coords, protein_ligand_distances, ligand_coords, iterations, true_ligand_coords):\n",
    "    x = protein_coords\n",
    "    y = ligand_coords\n",
    "    n = x.shape[0]\n",
    "    m = y.shape[0]\n",
    "    weights = (protein_ligand_distances < 10).float()\n",
    "    sum_i_w_ij = weights.sum(dim=0)\n",
    "    root_sum = torch.sqrt(sum_i_w_ij)\n",
    "    nonzero_weights = sum_i_w_ij > 0\n",
    "    for _ in range(iterations):\n",
    "        y_minus_x = y.unsqueeze(0) - x.unsqueeze(1)\n",
    "        normalized_y_minus_x = y_minus_x / torch.norm(y_minus_x, dim=-1, keepdim=True)\n",
    "        x_i_minus_normalized_y_minus_x = x.unsqueeze(1) - normalized_y_minus_x\n",
    "        z = torch.einsum(\"ijk, ijk, ijk -> jk\", weights.unsqueeze(-1).repeat(1,1,3), protein_ligand_distances.unsqueeze(-1).repeat(1,1,3), x_i_minus_normalized_y_minus_x)\n",
    "        z = z/root_sum.unsqueeze(-1)\n",
    "        y_temp = y*root_sum.unsqueeze(-1)\n",
    "        z = z[nonzero_weights]\n",
    "        y_temp = y_temp[nonzero_weights]\n",
    "        R, t = find_rigid_alignment(z, y_temp)\n",
    "        y = (R.mm(y.T)).T + t\n",
    "        print(torch.norm(y - true_ligand_coords))\n",
    "    return y\n"
   ]
  },
  {
   "cell_type": "code",
   "execution_count": 28,
   "metadata": {},
   "outputs": [],
   "source": [
    "import torch\n",
    "complex_name = \"3zzf\"\n",
    "true_ligand_coords = all_dict_coords[complex_name][\"compound\"].float()\n",
    "ligand_coords = (orthogonal@true_ligand_coords.float().T + translation.T).T.float()\n",
    "protein_coords = all_dict_coords[complex_name][\"protein\"].float()\n",
    "true_pairwise_distances = torch.cdist(protein_coords, true_ligand_coords)\n",
    "protein_ligand_distances = true_pairwise_distances + torch.randn_like(true_pairwise_distances) * 0"
   ]
  },
  {
   "cell_type": "code",
   "execution_count": 30,
   "metadata": {},
   "outputs": [],
   "source": [
    "iterations = 1000"
   ]
  },
  {
   "cell_type": "code",
   "execution_count": 38,
   "metadata": {},
   "outputs": [
    {
     "name": "stdout",
     "output_type": "stream",
     "text": [
      "torch.norm(y - true_ligand_coords)=tensor(4031.4268)\n",
      "torch.norm(x_i_minus_normalized_y_minus_x)=tensor(2732.8696)\n",
      "torch.norm(z)=tensor(4643.7939)\n"
     ]
    }
   ],
   "source": [
    "x = protein_coords\n",
    "y = true_ligand_coords\n",
    "n = x.shape[0]\n",
    "m = y.shape[0]\n",
    "weights = (protein_ligand_distances < 10).float()\n",
    "sum_i_w_ij = weights.sum(dim=0)\n",
    "root_sum = torch.sqrt(sum_i_w_ij)\n",
    "nonzero_weights = sum_i_w_ij > 0\n",
    "for _ in range(1):\n",
    "    y_minus_x = y.unsqueeze(0) - x.unsqueeze(1)\n",
    "    normalized_y_minus_x = y_minus_x / torch.norm(y_minus_x, dim=-1, keepdim=True)\n",
    "    x_i_minus_normalized_y_minus_x = x.unsqueeze(1) - normalized_y_minus_x\n",
    "    z = torch.einsum(\"ijk, ijk, ijk -> jk\", weights.unsqueeze(-1).repeat(1,1,3), protein_ligand_distances.unsqueeze(-1).repeat(1,1,3), x_i_minus_normalized_y_minus_x)\n",
    "    z = z/root_sum.unsqueeze(-1)\n",
    "    y_temp = y*root_sum.unsqueeze(-1)\n",
    "    z = z[nonzero_weights]\n",
    "    y_temp = y_temp[nonzero_weights]\n",
    "    R, t = find_rigid_alignment(z, y_temp)\n",
    "    y = (R.T.mm(y.T)).T + t\n",
    "\n",
    "    print(f\"{torch.norm(y - true_ligand_coords)=}\")\n",
    "    print(f\"{torch.norm(x_i_minus_normalized_y_minus_x)=}\")\n",
    "    print(f\"{torch.norm(z)=}\")"
   ]
  },
  {
   "cell_type": "markdown",
   "metadata": {},
   "source": [
    "create a random rotation"
   ]
  },
  {
   "cell_type": "code",
   "execution_count": 84,
   "metadata": {},
   "outputs": [],
   "source": [
    "import torch\n",
    "model = torch.nn.Linear(1,1)"
   ]
  },
  {
   "cell_type": "code",
   "execution_count": 86,
   "metadata": {},
   "outputs": [
    {
     "data": {
      "text/plain": [
       "False"
      ]
     },
     "execution_count": 86,
     "metadata": {},
     "output_type": "execute_result"
    }
   ],
   "source": [
    "model.eval()\n",
    "model.training"
   ]
  },
  {
   "cell_type": "code",
   "execution_count": 40,
   "metadata": {},
   "outputs": [
    {
     "data": {
      "text/plain": [
       "torch.Size([291, 13, 3])"
      ]
     },
     "execution_count": 40,
     "metadata": {},
     "output_type": "execute_result"
    }
   ],
   "source": [
    "y_minus_x.shape"
   ]
  },
  {
   "cell_type": "code",
   "execution_count": 7,
   "metadata": {},
   "outputs": [
    {
     "name": "stdout",
     "output_type": "stream",
     "text": [
      "tensor(9.9522e-07)\n"
     ]
    }
   ],
   "source": [
    "antisymmetric = torch.randn(3,3)\n",
    "antisymmetric = antisymmetric - antisymmetric.T\n",
    "orthogonal = torch.linalg.matrix_exp(antisymmetric)\n",
    "print(torch.norm(orthogonal.T@orthogonal - torch.eye(3)))\n",
    "translation = torch.randn(1,3)"
   ]
  },
  {
   "cell_type": "code",
   "execution_count": 8,
   "metadata": {},
   "outputs": [
    {
     "data": {
      "text/plain": [
       "torch.Size([13, 3])"
      ]
     },
     "execution_count": 8,
     "metadata": {},
     "output_type": "execute_result"
    }
   ],
   "source": [
    "ligand_coords.shape"
   ]
  },
  {
   "cell_type": "code",
   "execution_count": 11,
   "metadata": {},
   "outputs": [],
   "source": [
    "modified_ligand = (orthogonal@ligand_coords.float().T + translation.T).T"
   ]
  },
  {
   "cell_type": "code",
   "execution_count": 25,
   "metadata": {},
   "outputs": [
    {
     "name": "stdout",
     "output_type": "stream",
     "text": [
      "tensor(4090.4473)\n",
      "tensor(20454.3301)\n",
      "tensor(112338.9219)\n",
      "tensor(618140.3750)\n",
      "tensor(3336762.5000)\n",
      "tensor(18184386.)\n",
      "tensor(99951360.)\n",
      "tensor(5.3396e+08)\n",
      "tensor(2.7573e+09)\n",
      "tensor(1.4756e+10)\n",
      "tensor(7.7721e+10)\n",
      "tensor(4.1139e+11)\n",
      "tensor(2.1088e+12)\n",
      "tensor(1.0684e+13)\n",
      "tensor(5.4984e+13)\n",
      "tensor(2.8686e+14)\n",
      "tensor(1.4824e+15)\n",
      "tensor(7.8356e+15)\n",
      "tensor(4.2594e+16)\n",
      "tensor(2.2440e+17)\n",
      "tensor(1.1414e+18)\n",
      "tensor(5.8695e+18)\n",
      "tensor(inf)\n",
      "tensor(inf)\n",
      "tensor(inf)\n",
      "tensor(inf)\n",
      "tensor(inf)\n",
      "tensor(inf)\n",
      "tensor(inf)\n",
      "tensor(inf)\n",
      "tensor(inf)\n",
      "tensor(inf)\n",
      "tensor(inf)\n",
      "tensor(inf)\n",
      "tensor(inf)\n",
      "tensor(inf)\n",
      "tensor(inf)\n",
      "tensor(inf)\n",
      "tensor(inf)\n",
      "tensor(inf)\n",
      "tensor(inf)\n",
      "tensor(inf)\n",
      "tensor(inf)\n",
      "tensor(inf)\n",
      "tensor(inf)\n",
      "tensor(inf)\n",
      "tensor(inf)\n"
     ]
    },
    {
     "ename": "_LinAlgError",
     "evalue": "linalg.svd: The algorithm failed to converge because the input matrix contained non-finite values.",
     "output_type": "error",
     "traceback": [
      "\u001b[0;31m---------------------------------------------------------------------------\u001b[0m",
      "\u001b[0;31m_LinAlgError\u001b[0m                              Traceback (most recent call last)",
      "Cell \u001b[0;32mIn[25], line 1\u001b[0m\n\u001b[0;32m----> 1\u001b[0m \u001b[43mrigid_MDS\u001b[49m\u001b[43m(\u001b[49m\u001b[43mprotein_coords\u001b[49m\u001b[38;5;241;43m=\u001b[39;49m\u001b[43mprotein_coords\u001b[49m\u001b[38;5;241;43m.\u001b[39;49m\u001b[43mfloat\u001b[49m\u001b[43m(\u001b[49m\u001b[43m)\u001b[49m\u001b[43m,\u001b[49m\u001b[43m \u001b[49m\u001b[43mprotein_ligand_distances\u001b[49m\u001b[38;5;241;43m=\u001b[39;49m\u001b[43mnoised_pairwise_distances\u001b[49m\u001b[38;5;241;43m.\u001b[39;49m\u001b[43mfloat\u001b[49m\u001b[43m(\u001b[49m\u001b[43m)\u001b[49m\u001b[43m,\u001b[49m\u001b[43m \u001b[49m\u001b[43mligand_coords\u001b[49m\u001b[38;5;241;43m=\u001b[39;49m\u001b[43mmodified_ligand\u001b[49m\u001b[43m,\u001b[49m\u001b[43m \u001b[49m\u001b[43miterations\u001b[49m\u001b[38;5;241;43m=\u001b[39;49m\u001b[38;5;241;43m100\u001b[39;49m\u001b[43m,\u001b[49m\u001b[43m \u001b[49m\u001b[43mtrue_ligand_coords\u001b[49m\u001b[38;5;241;43m=\u001b[39;49m\u001b[43mligand_coords\u001b[49m\u001b[38;5;241;43m.\u001b[39;49m\u001b[43mfloat\u001b[49m\u001b[43m(\u001b[49m\u001b[43m)\u001b[49m\u001b[43m)\u001b[49m\n",
      "Cell \u001b[0;32mIn[24], line 19\u001b[0m, in \u001b[0;36mrigid_MDS\u001b[0;34m(protein_coords, protein_ligand_distances, ligand_coords, iterations, true_ligand_coords)\u001b[0m\n\u001b[1;32m     17\u001b[0m z \u001b[38;5;241m=\u001b[39m z[nonzero_weights]\n\u001b[1;32m     18\u001b[0m y_temp \u001b[38;5;241m=\u001b[39m y_temp[nonzero_weights]\n\u001b[0;32m---> 19\u001b[0m R, t \u001b[38;5;241m=\u001b[39m \u001b[43mfind_rigid_alignment\u001b[49m\u001b[43m(\u001b[49m\u001b[43mz\u001b[49m\u001b[43m,\u001b[49m\u001b[43m \u001b[49m\u001b[43my_temp\u001b[49m\u001b[43m)\u001b[49m\n\u001b[1;32m     20\u001b[0m y \u001b[38;5;241m=\u001b[39m (R\u001b[38;5;241m.\u001b[39mmm(y\u001b[38;5;241m.\u001b[39mT))\u001b[38;5;241m.\u001b[39mT \u001b[38;5;241m+\u001b[39m t\n\u001b[1;32m     21\u001b[0m \u001b[38;5;28mprint\u001b[39m(torch\u001b[38;5;241m.\u001b[39mnorm(y \u001b[38;5;241m-\u001b[39m true_ligand_coords))\n",
      "Cell \u001b[0;32mIn[13], line 43\u001b[0m, in \u001b[0;36mfind_rigid_alignment\u001b[0;34m(A, B)\u001b[0m\n\u001b[1;32m     41\u001b[0m \u001b[38;5;66;03m# Covariance matrix\u001b[39;00m\n\u001b[1;32m     42\u001b[0m H \u001b[38;5;241m=\u001b[39m A_c\u001b[38;5;241m.\u001b[39mT\u001b[38;5;241m.\u001b[39mmm(B_c)\n\u001b[0;32m---> 43\u001b[0m U, S, V \u001b[38;5;241m=\u001b[39m \u001b[43mtorch\u001b[49m\u001b[38;5;241;43m.\u001b[39;49m\u001b[43msvd\u001b[49m\u001b[43m(\u001b[49m\u001b[43mH\u001b[49m\u001b[43m)\u001b[49m\n\u001b[1;32m     44\u001b[0m \u001b[38;5;66;03m# Rotation matrix\u001b[39;00m\n\u001b[1;32m     45\u001b[0m R \u001b[38;5;241m=\u001b[39m V\u001b[38;5;241m.\u001b[39mmm(U\u001b[38;5;241m.\u001b[39mT)\n",
      "\u001b[0;31m_LinAlgError\u001b[0m: linalg.svd: The algorithm failed to converge because the input matrix contained non-finite values."
     ]
    }
   ],
   "source": [
    "rigid_MDS(protein_coords=protein_coords.float(), protein_ligand_distances=noised_pairwise_distances.float(), ligand_coords=modified_ligand, iterations=100, true_ligand_coords=ligand_coords.float())"
   ]
  },
  {
   "cell_type": "markdown",
   "metadata": {},
   "source": []
  },
  {
   "cell_type": "code",
   "execution_count": 59,
   "metadata": {},
   "outputs": [],
   "source": [
    "def optimize_ligand_position(protein_coords, pairwise_distances_lig, noised_pairwise_distances, s, num_iterations=1000, true_ligand_coords=None):\n",
    "    n = protein_coords.shape[0]\n",
    "    m = pairwise_distances_lig.shape[0]\n",
    "    initial_x = torch.zeros(n+m, 3, dtype=torch.float64)\n",
    "    initial_x[:n] = protein_coords\n",
    "    initial_x[n:] = torch.randn(m, 3, dtype=torch.float64)\n",
    "    distances_lower_than_10 = torch.where(noised_pairwise_distances < 10, torch.ones_like(noised_pairwise_distances), torch.zeros_like(noised_pairwise_distances))   \n",
    "    V = torch.zeros(n+m, n+m, dtype=torch.float64)\n",
    "    V[n:, :n] = -distances_lower_than_10.T\n",
    "    V[:n, n:] = -distances_lower_than_10\n",
    "    V[range(len(V)), range(len(V))] = -torch.sum(V, dim=1)\n",
    "\n",
    "    V_lig = torch.zeros(n+m, n+m)\n",
    "    pen_matrix = m*torch.eye(m) - torch.ones(m,m)\n",
    "    V_lig[n:, n:] = pen_matrix\n",
    "\n",
    "    V = V + s*V_lig\n",
    "\n",
    "    ratio_up = torch.zeros(n+m, n+m, dtype=torch.float64)\n",
    "    ratio_down = torch.zeros(n+m, n+m, dtype=torch.float64)\n",
    "    weights = torch.zeros(n+m, n+m, dtype=torch.float64)\n",
    "    weights[n:, :n] = distances_lower_than_10.T\n",
    "    weights[:n, n:] = distances_lower_than_10\n",
    "    V_3_plus = torch.linalg.pinv(V[n:, n:].to(torch.float64))\n",
    "    V_2 = V[n:, :n].to(torch.float64)\n",
    "    ratio_up[:n, n:] = noised_pairwise_distances\n",
    "    ratio_up[n:, :n] = noised_pairwise_distances.T\n",
    "\n",
    "    ratio_up_lig = pairwise_distances_lig\n",
    "    ratio_down_lig = torch.zeros(n+m, n+m, dtype=torch.float64)\n",
    "    weights_lig = torch.ones(m,m)-torch.eye(m)\n",
    "\n",
    "    for iter in range(num_iterations):\n",
    "        computed_pairwise_distances = torch.cdist(protein_coords, initial_x[n:])\n",
    "        ratio_down[:n, n:] = computed_pairwise_distances\n",
    "        ratio_down[n:, :n] = computed_pairwise_distances.T\n",
    "        ratio = torch.nan_to_num(ratio_up / ratio_down, nan=0.0).to(dtype=torch.float64)\n",
    "        B = (-ratio * weights)\n",
    "        B[range(len(B)), range(len(B))] = -torch.sum(B, dim=1)\n",
    "\n",
    "        computed_pairwise_distances_lig = torch.cdist(initial_x[n:], initial_x[n:])\n",
    "        ratio_down_lig = computed_pairwise_distances_lig\n",
    "        ratio_lig = torch.nan_to_num(ratio_up_lig / ratio_down_lig, nan=0.0).to(dtype=torch.float64)\n",
    "        B_lig = torch.zeros(n+m, n+m)\n",
    "        B_lig[n:,n:] = (-ratio_lig * weights_lig)\n",
    "        B_lig[range(len(B_lig)), range(len(B_lig))] = -torch.sum(B_lig, dim=1)\n",
    "\n",
    "        B = B + s*B_lig\n",
    "\n",
    "        B_2_T = B[n:, :n]\n",
    "        V_2_T = V[n:, :n]\n",
    "        B_3 = B[n:, n:]\n",
    "        x = initial_x[:n]\n",
    "        y = initial_x[n:]\n",
    "        initial_x[n:] = V_3_plus @ (B_2_T @ x + B_3@y - V_2_T@x)\n",
    "\n",
    "    \n",
    "    return initial_x[n:]"
   ]
  },
  {
   "cell_type": "code",
   "execution_count": 54,
   "metadata": {},
   "outputs": [],
   "source": [
    "protein_coords = all_dict_coords[\"3zzf\"][\"protein\"]\n",
    "ligand_coords = all_dict_coords[\"3zzf\"][\"compound\"]\n",
    "true_pairwise_distances = torch.cdist(protein_coords, ligand_coords)\n",
    "noised_pairwise_distances = true_pairwise_distances + torch.randn_like(true_pairwise_distances) * 0\n",
    "ligand_pairwise_distances = torch.cdist(ligand_coords, ligand_coords)"
   ]
  },
  {
   "cell_type": "code",
   "execution_count": 60,
   "metadata": {},
   "outputs": [
    {
     "name": "stdout",
     "output_type": "stream",
     "text": [
      "tensor(2.1300e-05, dtype=torch.float64)\n"
     ]
    }
   ],
   "source": [
    "result = optimize_ligand_position(protein_coords=protein_coords,\n",
    "                            pairwise_distances_lig=ligand_pairwise_distances,\n",
    "                            noised_pairwise_distances=noised_pairwise_distances,\n",
    "                            s=10,\n",
    "                            num_iterations=1000)\n",
    "print(torch.norm(result - ligand_coords))"
   ]
  },
  {
   "cell_type": "code",
   "execution_count": 57,
   "metadata": {},
   "outputs": [],
   "source": [
    "def optimize_ligand_position(protein_coords, pairwise_distances_lig, noised_pairwise_distances, s, num_iterations=1000, num_initializations=10,):\n",
    "    n = protein_coords.shape[0]\n",
    "    m = pairwise_distances_lig.shape[0]\n",
    "    \n",
    "    # Initialize batch of ligand coordinates\n",
    "    initial_x = torch.zeros(num_initializations, n+m, 3, dtype=torch.float64)\n",
    "    initial_x[:, :n] = protein_coords.unsqueeze(0).repeat(num_initializations, 1, 1)\n",
    "    initial_x[:, n:] = torch.randn(num_initializations, m, 3, dtype=torch.float64)\n",
    "\n",
    "    distances_lower_than_10 = torch.where(noised_pairwise_distances < 10, torch.ones_like(noised_pairwise_distances), torch.zeros_like(noised_pairwise_distances))   \n",
    "    \n",
    "    V = torch.zeros(n+m, n+m, dtype=torch.float64)\n",
    "    V[n:, :n] = -distances_lower_than_10.T\n",
    "    V[:n, n:] = -distances_lower_than_10\n",
    "    V[range(len(V)), range(len(V))] = -torch.sum(V, dim=1)\n",
    "\n",
    "    V_lig = torch.zeros(n+m, n+m)\n",
    "    pen_matrix = m*torch.eye(m) - torch.ones(m,m)\n",
    "    V_lig[n:, n:] = pen_matrix\n",
    "\n",
    "    V = V + s*V_lig\n",
    "\n",
    "    ratio_up = torch.zeros(n+m, n+m, dtype=torch.float64)\n",
    "    weights = torch.zeros(n+m, n+m, dtype=torch.float64)\n",
    "    weights[n:, :n] = distances_lower_than_10.T\n",
    "    weights[:n, n:] = distances_lower_than_10\n",
    "    V_3_plus = torch.linalg.pinv(V[n:, n:].to(torch.float64))\n",
    "    V_2 = V[n:, :n].to(torch.float64)\n",
    "    ratio_up[:n, n:] = noised_pairwise_distances\n",
    "    ratio_up[n:, :n] = noised_pairwise_distances.T\n",
    "\n",
    "    ratio_up_lig = pairwise_distances_lig\n",
    "    weights_lig = torch.ones(m,m)-torch.eye(m)\n",
    "\n",
    "    for _ in range(num_iterations):\n",
    "        computed_pairwise_distances = torch.cdist(protein_coords.unsqueeze(0), initial_x[:, n:])\n",
    "        ratio_down = torch.zeros_like(ratio_up).unsqueeze(0).repeat(num_initializations, 1, 1, 1)\n",
    "        ratio_down[:, :n, n:] = computed_pairwise_distances\n",
    "        ratio_down[:, n:, :n] = computed_pairwise_distances.transpose(1, 2)\n",
    "        ratio = torch.nan_to_num(ratio_up.unsqueeze(0) / ratio_down, nan=0.0).to(dtype=torch.float64)\n",
    "        B = (-ratio * weights.unsqueeze(0))\n",
    "        B[:, range(len(B[0])), range(len(B[0]))] = -torch.sum(B, dim=2)\n",
    "\n",
    "        computed_pairwise_distances_lig = torch.cdist(initial_x[:, n:], initial_x[:, n:])\n",
    "        ratio_lig = torch.nan_to_num(ratio_up_lig.unsqueeze(0) / computed_pairwise_distances_lig, nan=0.0).to(dtype=torch.float64)\n",
    "        B_lig = torch.zeros(num_initializations, n+m, n+m)\n",
    "        B_lig[:, n:, n:] = (-ratio_lig * weights_lig.unsqueeze(0))\n",
    "        B_lig[:, range(len(B_lig[0])), range(len(B_lig[0]))] = -torch.sum(B_lig, dim=2)\n",
    "\n",
    "        B = B + s*B_lig\n",
    "\n",
    "        B_2_T = B[:, n:, :n]\n",
    "        V_2_T = V[n:, :n].unsqueeze(0)\n",
    "        B_3 = B[:, n:, n:]\n",
    "        x = initial_x[:, :n]\n",
    "        y = initial_x[:, n:]\n",
    "        initial_x[:, n:] = V_3_plus @ (B_2_T @ x + B_3@y - V_2_T@x)\n",
    "\n",
    "    # Calculate the fit metric for all initializations\n",
    "    fit = torch.norm(torch.clamp(torch.cdist(initial_x[:, :n], initial_x[:, n:]), max=10) - noised_pairwise_distances.unsqueeze(0), dim=(1,2)) + \\\n",
    "          s * torch.norm(torch.cdist(initial_x[:, n:], initial_x[:, n:]) - pairwise_distances_lig.unsqueeze(0), dim=(1,2))\n",
    "\n",
    "    best_index = torch.argmin(fit)\n",
    "    best_ligand_coords = initial_x[best_index, n:]\n",
    "\n",
    "    return best_ligand_coords"
   ]
  },
  {
   "cell_type": "code",
   "execution_count": 58,
   "metadata": {},
   "outputs": [
    {
     "ename": "RuntimeError",
     "evalue": "The expanded size of the tensor (304) must match the existing size (13) at non-singleton dimension 3.  Target sizes: [10, 1, 13, 304].  Tensor sizes: [10, 291, 13]",
     "output_type": "error",
     "traceback": [
      "\u001b[0;31m---------------------------------------------------------------------------\u001b[0m",
      "\u001b[0;31mRuntimeError\u001b[0m                              Traceback (most recent call last)",
      "Cell \u001b[0;32mIn[58], line 1\u001b[0m\n\u001b[0;32m----> 1\u001b[0m result \u001b[38;5;241m=\u001b[39m \u001b[43moptimize_ligand_position\u001b[49m\u001b[43m(\u001b[49m\u001b[43mprotein_coords\u001b[49m\u001b[38;5;241;43m=\u001b[39;49m\u001b[43mprotein_coords\u001b[49m\u001b[43m,\u001b[49m\n\u001b[1;32m      2\u001b[0m \u001b[43m                            \u001b[49m\u001b[43mpairwise_distances_lig\u001b[49m\u001b[38;5;241;43m=\u001b[39;49m\u001b[43mligand_pairwise_distances\u001b[49m\u001b[43m,\u001b[49m\n\u001b[1;32m      3\u001b[0m \u001b[43m                            \u001b[49m\u001b[43mnoised_pairwise_distances\u001b[49m\u001b[38;5;241;43m=\u001b[39;49m\u001b[43mnoised_pairwise_distances\u001b[49m\u001b[43m,\u001b[49m\n\u001b[1;32m      4\u001b[0m \u001b[43m                            \u001b[49m\u001b[43ms\u001b[49m\u001b[38;5;241;43m=\u001b[39;49m\u001b[38;5;241;43m10\u001b[39;49m\u001b[43m,\u001b[49m\n\u001b[1;32m      5\u001b[0m \u001b[43m                            \u001b[49m\u001b[43mnum_iterations\u001b[49m\u001b[38;5;241;43m=\u001b[39;49m\u001b[38;5;241;43m1000\u001b[39;49m\u001b[43m)\u001b[49m\n\u001b[1;32m      6\u001b[0m \u001b[38;5;28mprint\u001b[39m(torch\u001b[38;5;241m.\u001b[39mnorm(result \u001b[38;5;241m-\u001b[39m ligand_coords))\n",
      "Cell \u001b[0;32mIn[57], line 38\u001b[0m, in \u001b[0;36moptimize_ligand_position\u001b[0;34m(protein_coords, pairwise_distances_lig, noised_pairwise_distances, s, num_iterations, num_initializations)\u001b[0m\n\u001b[1;32m     36\u001b[0m computed_pairwise_distances \u001b[38;5;241m=\u001b[39m torch\u001b[38;5;241m.\u001b[39mcdist(protein_coords\u001b[38;5;241m.\u001b[39munsqueeze(\u001b[38;5;241m0\u001b[39m), initial_x[:, n:])\n\u001b[1;32m     37\u001b[0m ratio_down \u001b[38;5;241m=\u001b[39m torch\u001b[38;5;241m.\u001b[39mzeros_like(ratio_up)\u001b[38;5;241m.\u001b[39munsqueeze(\u001b[38;5;241m0\u001b[39m)\u001b[38;5;241m.\u001b[39mrepeat(num_initializations, \u001b[38;5;241m1\u001b[39m, \u001b[38;5;241m1\u001b[39m, \u001b[38;5;241m1\u001b[39m)\n\u001b[0;32m---> 38\u001b[0m \u001b[43mratio_down\u001b[49m\u001b[43m[\u001b[49m\u001b[43m:\u001b[49m\u001b[43m,\u001b[49m\u001b[43m \u001b[49m\u001b[43m:\u001b[49m\u001b[43mn\u001b[49m\u001b[43m,\u001b[49m\u001b[43m \u001b[49m\u001b[43mn\u001b[49m\u001b[43m:\u001b[49m\u001b[43m]\u001b[49m \u001b[38;5;241m=\u001b[39m computed_pairwise_distances\n\u001b[1;32m     39\u001b[0m ratio_down[:, n:, :n] \u001b[38;5;241m=\u001b[39m computed_pairwise_distances\u001b[38;5;241m.\u001b[39mtranspose(\u001b[38;5;241m1\u001b[39m, \u001b[38;5;241m2\u001b[39m)\n\u001b[1;32m     40\u001b[0m ratio \u001b[38;5;241m=\u001b[39m torch\u001b[38;5;241m.\u001b[39mnan_to_num(ratio_up\u001b[38;5;241m.\u001b[39munsqueeze(\u001b[38;5;241m0\u001b[39m) \u001b[38;5;241m/\u001b[39m ratio_down, nan\u001b[38;5;241m=\u001b[39m\u001b[38;5;241m0.0\u001b[39m)\u001b[38;5;241m.\u001b[39mto(dtype\u001b[38;5;241m=\u001b[39mtorch\u001b[38;5;241m.\u001b[39mfloat64)\n",
      "\u001b[0;31mRuntimeError\u001b[0m: The expanded size of the tensor (304) must match the existing size (13) at non-singleton dimension 3.  Target sizes: [10, 1, 13, 304].  Tensor sizes: [10, 291, 13]"
     ]
    }
   ],
   "source": [
    "result = optimize_ligand_position(protein_coords=protein_coords,\n",
    "                            pairwise_distances_lig=ligand_pairwise_distances,\n",
    "                            noised_pairwise_distances=noised_pairwise_distances,\n",
    "                            s=10,\n",
    "                            num_iterations=1000)\n",
    "print(torch.norm(result - ligand_coords))"
   ]
  },
  {
   "cell_type": "code",
   "execution_count": 76,
   "metadata": {},
   "outputs": [],
   "source": [
    "import torch\n",
    "from tqdm import tqdm\n",
    "import matplotlib.pyplot as plt\n",
    "\n",
    "def optimize_ligand_position(protein_coords, pairwise_distances_lig, noised_pairwise_distances, s, num_iterations=1000, num_initializations=10, true_ligand_coords=None, show_loss_curves=False, show_tqdm=False, device=None):\n",
    "    if device is None:\n",
    "        device = torch.device(\"cuda\" if torch.cuda.is_available() else \"cpu\")\n",
    "    \n",
    "    # Move input tensors to the specified device\n",
    "    protein_coords = protein_coords.to(device)\n",
    "    pairwise_distances_lig = pairwise_distances_lig.to(device)\n",
    "    noised_pairwise_distances = noised_pairwise_distances.to(device)\n",
    "\n",
    "    n = protein_coords.shape[0]\n",
    "    m = pairwise_distances_lig.shape[0]\n",
    "    \n",
    "    # Initialize batch of ligand coordinates on the device\n",
    "    initial_x = torch.zeros(num_initializations, n+m, 3, dtype=torch.float64, device=device)\n",
    "    initial_x[:, :n] = protein_coords.unsqueeze(0).repeat(num_initializations, 1, 1)\n",
    "    initial_x[:, n:] = torch.randn(num_initializations, m, 3, dtype=torch.float64, device=device)\n",
    "\n",
    "    distances_lower_than_10 = torch.where(noised_pairwise_distances < 10, torch.ones_like(noised_pairwise_distances), torch.zeros_like(noised_pairwise_distances))   \n",
    "    \n",
    "    V = torch.zeros(n+m, n+m, dtype=torch.float64, device=device)\n",
    "    V[n:, :n] = -distances_lower_than_10.T\n",
    "    V[:n, n:] = -distances_lower_than_10\n",
    "    V[range(len(V)), range(len(V))] = -torch.sum(V, dim=1)\n",
    "\n",
    "    V_lig = torch.zeros(n+m, n+m, device=device)\n",
    "    pen_matrix = m*torch.eye(m, device=device) - torch.ones(m,m, device=device)\n",
    "    V_lig[n:, n:] = pen_matrix\n",
    "\n",
    "    V = V + s*V_lig\n",
    "\n",
    "    ratio_up = torch.zeros(n+m, n+m, dtype=torch.float64, device=device)\n",
    "    weights = torch.zeros(n+m, n+m, dtype=torch.float64, device=device)\n",
    "    weights[n:, :n] = distances_lower_than_10.T\n",
    "    weights[:n, n:] = distances_lower_than_10\n",
    "    V_3_plus = torch.linalg.pinv(V[n:, n:].to(torch.float64))\n",
    "    V_2 = V[n:, :n].to(torch.float64)\n",
    "    ratio_up[:n, n:] = noised_pairwise_distances\n",
    "    ratio_up[n:, :n] = noised_pairwise_distances.T\n",
    "\n",
    "    ratio_up_lig = pairwise_distances_lig\n",
    "    weights_lig = torch.ones(m,m, device=device) - torch.eye(m, device=device)\n",
    "\n",
    "    # Initialize loss tracking if needed\n",
    "    if show_loss_curves:\n",
    "        loss_history = torch.zeros(num_initializations, num_iterations, device=device)\n",
    "\n",
    "    # Progress bar\n",
    "    if show_tqdm:\n",
    "        pbar = tqdm(range(num_iterations), desc=\"Optimizing\")\n",
    "    else:\n",
    "        pbar = range(num_iterations)\n",
    "\n",
    "    for iteration in pbar:\n",
    "        computed_pairwise_distances = torch.cdist(protein_coords.unsqueeze(0), initial_x[:, n:])\n",
    "        ratio_down = torch.zeros(num_initializations, n+m, n+m, dtype=torch.float64, device=device)\n",
    "        ratio_down[:, :n, n:] = computed_pairwise_distances\n",
    "        ratio_down[:, n:, :n] = computed_pairwise_distances.transpose(1, 2)\n",
    "        ratio = torch.nan_to_num(ratio_up.unsqueeze(0) / ratio_down, nan=0.0).to(dtype=torch.float64)\n",
    "        B = (-ratio * weights.unsqueeze(0))\n",
    "        B[:, range(n+m), range(n+m)] = -torch.sum(B, dim=2)\n",
    "\n",
    "        computed_pairwise_distances_lig = torch.cdist(initial_x[:, n:], initial_x[:, n:])\n",
    "        ratio_lig = torch.nan_to_num(ratio_up_lig.unsqueeze(0) / computed_pairwise_distances_lig, nan=0.0).to(dtype=torch.float64)\n",
    "        B_lig = torch.zeros(num_initializations, n+m, n+m, device=device)\n",
    "        B_lig[:, n:, n:] = (-ratio_lig * weights_lig.unsqueeze(0))\n",
    "        B_lig[:, range(n+m), range(n+m)] = -torch.sum(B_lig, dim=2)\n",
    "\n",
    "        B = B + s*B_lig\n",
    "\n",
    "        B_2_T = B[:, n:, :n]\n",
    "        V_2_T = V[n:, :n].unsqueeze(0)\n",
    "        B_3 = B[:, n:, n:]\n",
    "        x = initial_x[:, :n]\n",
    "        y = initial_x[:, n:]\n",
    "        initial_x[:, n:] = V_3_plus @ (B_2_T @ x + B_3@y - V_2_T@x)\n",
    "\n",
    "        # Calculate and store loss only if show_loss_curves is True\n",
    "        if show_loss_curves:\n",
    "            loss = torch.norm(torch.clamp(torch.cdist(initial_x[:, :n], initial_x[:, n:]), max=10) - noised_pairwise_distances.unsqueeze(0), dim=(1,2)) + \\\n",
    "                   s * torch.norm(torch.cdist(initial_x[:, n:], initial_x[:, n:]) - pairwise_distances_lig.unsqueeze(0), dim=(1,2))\n",
    "            loss_history[:, iteration] = loss\n",
    "            if show_tqdm:\n",
    "                pbar.set_postfix({'Best Loss': torch.min(loss).item()})\n",
    "\n",
    "    # Close progress bar\n",
    "    if show_tqdm:\n",
    "        pbar.close()\n",
    "\n",
    "    # Compute final loss\n",
    "    final_loss = torch.norm(torch.clamp(torch.cdist(initial_x[:, :n], initial_x[:, n:]), max=10) - noised_pairwise_distances.unsqueeze(0), dim=(1,2)) + \\\n",
    "                 s * torch.norm(torch.cdist(initial_x[:, n:], initial_x[:, n:]) - pairwise_distances_lig.unsqueeze(0), dim=(1,2))\n",
    "\n",
    "    # Plot loss curves if requested\n",
    "    if show_loss_curves:\n",
    "        plt.figure(figsize=(10, 6))\n",
    "        for i in range(num_initializations):\n",
    "            plt.plot(loss_history[i].cpu().numpy(), label=f'Run {i+1}')\n",
    "        plt.xlabel('Iteration')\n",
    "        plt.ylabel('Loss')\n",
    "        plt.title('Loss Curves for Different Initializations')\n",
    "        plt.legend()\n",
    "        plt.yscale('log')  # Using log scale for better visualization\n",
    "        plt.show()\n",
    "\n",
    "    best_index = torch.argmin(final_loss)\n",
    "    best_ligand_coords = initial_x[best_index, n:]\n",
    "\n",
    "    return best_ligand_coords.cpu()  # Return the result on CPU"
   ]
  },
  {
   "cell_type": "code",
   "execution_count": 64,
   "metadata": {},
   "outputs": [
    {
     "name": "stderr",
     "output_type": "stream",
     "text": [
      "Optimizing:  44%|██████████████████████████████████████████████████████████████████████████████████████████████▏                                                                                                                       | 440/1000 [00:56<01:11,  7.80it/s, Best Loss=855]\n"
     ]
    },
    {
     "ename": "KeyboardInterrupt",
     "evalue": "",
     "output_type": "error",
     "traceback": [
      "\u001b[0;31m---------------------------------------------------------------------------\u001b[0m",
      "\u001b[0;31mKeyboardInterrupt\u001b[0m                         Traceback (most recent call last)",
      "Cell \u001b[0;32mIn[64], line 1\u001b[0m\n\u001b[0;32m----> 1\u001b[0m result \u001b[38;5;241m=\u001b[39m \u001b[43moptimize_ligand_position\u001b[49m\u001b[43m(\u001b[49m\u001b[43mprotein_coords\u001b[49m\u001b[38;5;241;43m=\u001b[39;49m\u001b[43mprotein_coords\u001b[49m\u001b[43m,\u001b[49m\n\u001b[1;32m      2\u001b[0m \u001b[43m                            \u001b[49m\u001b[43mpairwise_distances_lig\u001b[49m\u001b[38;5;241;43m=\u001b[39;49m\u001b[43mligand_pairwise_distances\u001b[49m\u001b[43m,\u001b[49m\n\u001b[1;32m      3\u001b[0m \u001b[43m                            \u001b[49m\u001b[43mnoised_pairwise_distances\u001b[49m\u001b[38;5;241;43m=\u001b[39;49m\u001b[43mnoised_pairwise_distances\u001b[49m\u001b[43m,\u001b[49m\n\u001b[1;32m      4\u001b[0m \u001b[43m                            \u001b[49m\u001b[43ms\u001b[49m\u001b[38;5;241;43m=\u001b[39;49m\u001b[38;5;241;43m10\u001b[39;49m\u001b[43m,\u001b[49m\n\u001b[1;32m      5\u001b[0m \u001b[43m                            \u001b[49m\u001b[43mnum_iterations\u001b[49m\u001b[38;5;241;43m=\u001b[39;49m\u001b[38;5;241;43m1000\u001b[39;49m\u001b[43m)\u001b[49m\n\u001b[1;32m      6\u001b[0m \u001b[38;5;28mprint\u001b[39m(torch\u001b[38;5;241m.\u001b[39mnorm(result \u001b[38;5;241m-\u001b[39m ligand_coords))\n",
      "Cell \u001b[0;32mIn[63], line 67\u001b[0m, in \u001b[0;36moptimize_ligand_position\u001b[0;34m(protein_coords, pairwise_distances_lig, noised_pairwise_distances, s, num_iterations, num_initializations, true_ligand_coords, show_loss_curves)\u001b[0m\n\u001b[1;32m     65\u001b[0m x \u001b[38;5;241m=\u001b[39m initial_x[:, :n]\n\u001b[1;32m     66\u001b[0m y \u001b[38;5;241m=\u001b[39m initial_x[:, n:]\n\u001b[0;32m---> 67\u001b[0m initial_x[:, n:] \u001b[38;5;241m=\u001b[39m V_3_plus \u001b[38;5;241m@\u001b[39m (\u001b[43mB_2_T\u001b[49m\u001b[43m \u001b[49m\u001b[38;5;241;43m@\u001b[39;49m\u001b[43m \u001b[49m\u001b[43mx\u001b[49m \u001b[38;5;241m+\u001b[39m B_3\u001b[38;5;129m@y\u001b[39m \u001b[38;5;241m-\u001b[39m V_2_T\u001b[38;5;129m@x\u001b[39m)\n\u001b[1;32m     69\u001b[0m \u001b[38;5;66;03m# Calculate and store loss\u001b[39;00m\n\u001b[1;32m     70\u001b[0m loss \u001b[38;5;241m=\u001b[39m torch\u001b[38;5;241m.\u001b[39mnorm(torch\u001b[38;5;241m.\u001b[39mclamp(torch\u001b[38;5;241m.\u001b[39mcdist(initial_x[:, :n], initial_x[:, n:]), \u001b[38;5;28mmax\u001b[39m\u001b[38;5;241m=\u001b[39m\u001b[38;5;241m10\u001b[39m) \u001b[38;5;241m-\u001b[39m noised_pairwise_distances\u001b[38;5;241m.\u001b[39munsqueeze(\u001b[38;5;241m0\u001b[39m), dim\u001b[38;5;241m=\u001b[39m(\u001b[38;5;241m1\u001b[39m,\u001b[38;5;241m2\u001b[39m)) \u001b[38;5;241m+\u001b[39m \\\n\u001b[1;32m     71\u001b[0m        s \u001b[38;5;241m*\u001b[39m torch\u001b[38;5;241m.\u001b[39mnorm(torch\u001b[38;5;241m.\u001b[39mcdist(initial_x[:, n:], initial_x[:, n:]) \u001b[38;5;241m-\u001b[39m pairwise_distances_lig\u001b[38;5;241m.\u001b[39munsqueeze(\u001b[38;5;241m0\u001b[39m), dim\u001b[38;5;241m=\u001b[39m(\u001b[38;5;241m1\u001b[39m,\u001b[38;5;241m2\u001b[39m))\n",
      "\u001b[0;31mKeyboardInterrupt\u001b[0m: "
     ]
    }
   ],
   "source": [
    "result = optimize_ligand_position(protein_coords=protein_coords,\n",
    "                            pairwise_distances_lig=ligand_pairwise_distances,\n",
    "                            noised_pairwise_distances=noised_pairwise_distances,\n",
    "                            s=10,\n",
    "                            num_iterations=1000)\n",
    "print(torch.norm(result - ligand_coords))"
   ]
  },
  {
   "cell_type": "code",
   "execution_count": 77,
   "metadata": {},
   "outputs": [
    {
     "data": {
      "application/vnd.jupyter.widget-view+json": {
       "model_id": "e1099ffa93b04d31aa6b5ed7df92363d",
       "version_major": 2,
       "version_minor": 0
      },
      "text/plain": [
       "  0%|          | 0/10 [00:00<?, ?it/s]"
      ]
     },
     "metadata": {},
     "output_type": "display_data"
    },
    {
     "name": "stdout",
     "output_type": "stream",
     "text": [
      "3zzf: 3.728381869493643e-06\n"
     ]
    },
    {
     "ename": "KeyboardInterrupt",
     "evalue": "",
     "output_type": "error",
     "traceback": [
      "\u001b[0;31m---------------------------------------------------------------------------\u001b[0m",
      "\u001b[0;31mKeyboardInterrupt\u001b[0m                         Traceback (most recent call last)",
      "Cell \u001b[0;32mIn[77], line 12\u001b[0m\n\u001b[1;32m     10\u001b[0m noised_pairwise_distances \u001b[38;5;241m=\u001b[39m true_pairwise_distances \u001b[38;5;241m+\u001b[39m torch\u001b[38;5;241m.\u001b[39mrandn_like(true_pairwise_distances) \u001b[38;5;241m*\u001b[39m random_noise\n\u001b[1;32m     11\u001b[0m ligand_pairwise_distances \u001b[38;5;241m=\u001b[39m torch\u001b[38;5;241m.\u001b[39mcdist(ligand_coords, ligand_coords)\n\u001b[0;32m---> 12\u001b[0m result \u001b[38;5;241m=\u001b[39m \u001b[43moptimize_ligand_position\u001b[49m\u001b[43m(\u001b[49m\u001b[43mprotein_coords\u001b[49m\u001b[38;5;241;43m=\u001b[39;49m\u001b[43mprotein_coords\u001b[49m\u001b[43m,\u001b[49m\n\u001b[1;32m     13\u001b[0m \u001b[43m                        \u001b[49m\u001b[43mpairwise_distances_lig\u001b[49m\u001b[38;5;241;43m=\u001b[39;49m\u001b[43mligand_pairwise_distances\u001b[49m\u001b[43m,\u001b[49m\n\u001b[1;32m     14\u001b[0m \u001b[43m                        \u001b[49m\u001b[43mnoised_pairwise_distances\u001b[49m\u001b[38;5;241;43m=\u001b[39;49m\u001b[43mnoised_pairwise_distances\u001b[49m\u001b[43m,\u001b[49m\n\u001b[1;32m     15\u001b[0m \u001b[43m                        \u001b[49m\u001b[43ms\u001b[49m\u001b[38;5;241;43m=\u001b[39;49m\u001b[38;5;241;43m1\u001b[39;49m\u001b[43m,\u001b[49m\n\u001b[1;32m     16\u001b[0m \u001b[43m                        \u001b[49m\u001b[43mnum_initializations\u001b[49m\u001b[38;5;241;43m=\u001b[39;49m\u001b[38;5;241;43m1\u001b[39;49m\u001b[43m,\u001b[49m\n\u001b[1;32m     17\u001b[0m \u001b[43m                        \u001b[49m\u001b[43mnum_iterations\u001b[49m\u001b[38;5;241;43m=\u001b[39;49m\u001b[38;5;241;43m100\u001b[39;49m\u001b[43m,\u001b[49m\n\u001b[1;32m     18\u001b[0m \u001b[43m                        \u001b[49m\u001b[43mdevice\u001b[49m\u001b[38;5;241;43m=\u001b[39;49m\u001b[38;5;124;43m\"\u001b[39;49m\u001b[38;5;124;43mcpu\u001b[39;49m\u001b[38;5;124;43m\"\u001b[39;49m\u001b[43m)\u001b[49m\n\u001b[1;32m     19\u001b[0m rmsd \u001b[38;5;241m=\u001b[39m torch\u001b[38;5;241m.\u001b[39mnorm(result \u001b[38;5;241m-\u001b[39m ligand_coords)\n\u001b[1;32m     20\u001b[0m list_result_rmsd\u001b[38;5;241m.\u001b[39mappend(rmsd)\n",
      "Cell \u001b[0;32mIn[76], line 59\u001b[0m, in \u001b[0;36moptimize_ligand_position\u001b[0;34m(protein_coords, pairwise_distances_lig, noised_pairwise_distances, s, num_iterations, num_initializations, true_ligand_coords, show_loss_curves, show_tqdm, device)\u001b[0m\n\u001b[1;32m     57\u001b[0m \u001b[38;5;28;01mfor\u001b[39;00m iteration \u001b[38;5;129;01min\u001b[39;00m pbar:\n\u001b[1;32m     58\u001b[0m     computed_pairwise_distances \u001b[38;5;241m=\u001b[39m torch\u001b[38;5;241m.\u001b[39mcdist(protein_coords\u001b[38;5;241m.\u001b[39munsqueeze(\u001b[38;5;241m0\u001b[39m), initial_x[:, n:])\n\u001b[0;32m---> 59\u001b[0m     ratio_down \u001b[38;5;241m=\u001b[39m \u001b[43mtorch\u001b[49m\u001b[38;5;241;43m.\u001b[39;49m\u001b[43mzeros\u001b[49m\u001b[43m(\u001b[49m\u001b[43mnum_initializations\u001b[49m\u001b[43m,\u001b[49m\u001b[43m \u001b[49m\u001b[43mn\u001b[49m\u001b[38;5;241;43m+\u001b[39;49m\u001b[43mm\u001b[49m\u001b[43m,\u001b[49m\u001b[43m \u001b[49m\u001b[43mn\u001b[49m\u001b[38;5;241;43m+\u001b[39;49m\u001b[43mm\u001b[49m\u001b[43m,\u001b[49m\u001b[43m \u001b[49m\u001b[43mdtype\u001b[49m\u001b[38;5;241;43m=\u001b[39;49m\u001b[43mtorch\u001b[49m\u001b[38;5;241;43m.\u001b[39;49m\u001b[43mfloat64\u001b[49m\u001b[43m,\u001b[49m\u001b[43m \u001b[49m\u001b[43mdevice\u001b[49m\u001b[38;5;241;43m=\u001b[39;49m\u001b[43mdevice\u001b[49m\u001b[43m)\u001b[49m\n\u001b[1;32m     60\u001b[0m     ratio_down[:, :n, n:] \u001b[38;5;241m=\u001b[39m computed_pairwise_distances\n\u001b[1;32m     61\u001b[0m     ratio_down[:, n:, :n] \u001b[38;5;241m=\u001b[39m computed_pairwise_distances\u001b[38;5;241m.\u001b[39mtranspose(\u001b[38;5;241m1\u001b[39m, \u001b[38;5;241m2\u001b[39m)\n",
      "\u001b[0;31mKeyboardInterrupt\u001b[0m: "
     ]
    }
   ],
   "source": [
    "from tqdm.notebook import tqdm\n",
    "list_protein_names = list(all_dict_coords.keys())\n",
    "test_protein_names = list_protein_names[:10]\n",
    "random_noise = 1\n",
    "list_result_rmsd = []\n",
    "for protein_name in tqdm(test_protein_names):\n",
    "    protein_coords = all_dict_coords[protein_name][\"protein\"]\n",
    "    ligand_coords = all_dict_coords[protein_name][\"compound\"]\n",
    "    true_pairwise_distances = torch.cdist(protein_coords, ligand_coords)\n",
    "    noised_pairwise_distances = true_pairwise_distances + torch.randn_like(true_pairwise_distances) * random_noise\n",
    "    ligand_pairwise_distances = torch.cdist(ligand_coords, ligand_coords)\n",
    "    result = optimize_ligand_position(protein_coords=protein_coords,\n",
    "                            pairwise_distances_lig=ligand_pairwise_distances,\n",
    "                            noised_pairwise_distances=noised_pairwise_distances,\n",
    "                            s=10,\n",
    "                            num_initializations=1,\n",
    "                            num_iterations=100,\n",
    "                            device=\"cpu\")\n",
    "    rmsd = torch.norm(result - ligand_coords)\n",
    "    list_result_rmsd.append(rmsd)\n",
    "    print(f\"{protein_name}: {rmsd}\")"
   ]
  },
  {
   "cell_type": "code",
   "execution_count": 80,
   "metadata": {},
   "outputs": [
    {
     "name": "stdout",
     "output_type": "stream",
     "text": [
      "Running test for s=0\n"
     ]
    },
    {
     "data": {
      "application/vnd.jupyter.widget-view+json": {
       "model_id": "b39864f82a87451da5bcc81cd39818c5",
       "version_major": 2,
       "version_minor": 0
      },
      "text/plain": [
       "s=0:   0%|          | 0/10 [00:00<?, ?it/s]"
      ]
     },
     "metadata": {},
     "output_type": "display_data"
    },
    {
     "name": "stdout",
     "output_type": "stream",
     "text": [
      "Running test for s=1\n"
     ]
    },
    {
     "data": {
      "application/vnd.jupyter.widget-view+json": {
       "model_id": "9d30f47186c64a7e81a322a89c5cef5d",
       "version_major": 2,
       "version_minor": 0
      },
      "text/plain": [
       "s=1:   0%|          | 0/10 [00:00<?, ?it/s]"
      ]
     },
     "metadata": {},
     "output_type": "display_data"
    },
    {
     "name": "stdout",
     "output_type": "stream",
     "text": [
      "Running test for s=5\n"
     ]
    },
    {
     "data": {
      "application/vnd.jupyter.widget-view+json": {
       "model_id": "c85f74a678974ce4abf31f08f86c7230",
       "version_major": 2,
       "version_minor": 0
      },
      "text/plain": [
       "s=5:   0%|          | 0/10 [00:00<?, ?it/s]"
      ]
     },
     "metadata": {},
     "output_type": "display_data"
    },
    {
     "name": "stdout",
     "output_type": "stream",
     "text": [
      "Running test for s=10\n"
     ]
    },
    {
     "data": {
      "application/vnd.jupyter.widget-view+json": {
       "model_id": "5f6513fdba604725adc1d15a13c52b84",
       "version_major": 2,
       "version_minor": 0
      },
      "text/plain": [
       "s=10:   0%|          | 0/10 [00:00<?, ?it/s]"
      ]
     },
     "metadata": {},
     "output_type": "display_data"
    },
    {
     "name": "stdout",
     "output_type": "stream",
     "text": [
      "Summary Statistics:\n",
      "        mean       std       min       max\n",
      "s                                         \n",
      "0   3.424731  2.067389  1.291112  8.244093\n",
      "1   2.070096  0.467244  1.762214  3.272671\n",
      "5   1.813564  0.814921  1.004490  3.877929\n",
      "10  2.930760  2.716540  0.942875  8.852867\n"
     ]
    },
    {
     "data": {
      "image/png": "[encoded data removed]",
      "text/plain": [
       "<Figure size 1000x600 with 1 Axes>"
      ]
     },
     "metadata": {},
     "output_type": "display_data"
    },
    {
     "data": {
      "image/png": "[encoded data removed]",
      "text/plain": [
       "<Figure size 1200x800 with 2 Axes>"
      ]
     },
     "metadata": {},
     "output_type": "display_data"
    },
    {
     "name": "stdout",
     "output_type": "stream",
     "text": [
      "\n",
      "Detailed Results:\n",
      "\n",
      "s = 0:\n",
      "1wkm: 1.29\n",
      "3fqa: 1.81\n",
      "3zzf: 2.28\n",
      "1zsb: 2.39\n",
      "4eu3: 2.68\n",
      "4obv: 3.10\n",
      "3gww: 3.38\n",
      "6h9v: 3.39\n",
      "3k41: 5.67\n",
      "1w8l: 8.24\n",
      "\n",
      "s = 1:\n",
      "3fqa: 1.76\n",
      "4eu3: 1.76\n",
      "6h9v: 1.76\n",
      "1wkm: 1.84\n",
      "4obv: 1.85\n",
      "3zzf: 1.90\n",
      "1zsb: 2.06\n",
      "3gww: 2.09\n",
      "1w8l: 2.40\n",
      "3k41: 3.27\n",
      "\n",
      "s = 5:\n",
      "1wkm: 1.00\n",
      "4obv: 1.32\n",
      "3gww: 1.36\n",
      "1w8l: 1.49\n",
      "3zzf: 1.50\n",
      "3fqa: 1.54\n",
      "6h9v: 1.80\n",
      "1zsb: 1.86\n",
      "4eu3: 2.39\n",
      "3k41: 3.88\n",
      "\n",
      "s = 10:\n",
      "3zzf: 0.94\n",
      "3fqa: 1.09\n",
      "1wkm: 1.10\n",
      "1zsb: 1.18\n",
      "4obv: 1.29\n",
      "1w8l: 1.44\n",
      "6h9v: 2.71\n",
      "4eu3: 4.67\n",
      "3k41: 6.03\n",
      "3gww: 8.85\n"
     ]
    }
   ],
   "source": [
    "import torch\n",
    "from tqdm.notebook import tqdm\n",
    "import pandas as pd\n",
    "import seaborn as sns\n",
    "import matplotlib.pyplot as plt\n",
    "\n",
    "def run_test(s_values, test_protein_names, all_dict_coords, random_noise=1, num_initializations=1, num_iterations=100):\n",
    "    results = []\n",
    "    \n",
    "    for s in s_values:\n",
    "        print(f\"Running test for s={s}\")\n",
    "        for protein_name in tqdm(test_protein_names, desc=f\"s={s}\"):\n",
    "            protein_coords = all_dict_coords[protein_name][\"protein\"]\n",
    "            ligand_coords = all_dict_coords[protein_name][\"compound\"]\n",
    "            true_pairwise_distances = torch.cdist(protein_coords, ligand_coords)\n",
    "            noised_pairwise_distances = true_pairwise_distances + torch.randn_like(true_pairwise_distances) * random_noise\n",
    "            ligand_pairwise_distances = torch.cdist(ligand_coords, ligand_coords)\n",
    "            \n",
    "            result = optimize_ligand_position(protein_coords=protein_coords,\n",
    "                                    pairwise_distances_lig=ligand_pairwise_distances,\n",
    "                                    noised_pairwise_distances=noised_pairwise_distances,\n",
    "                                    s=s,\n",
    "                                    num_initializations=num_initializations,\n",
    "                                    num_iterations=num_iterations,\n",
    "                                    device=\"cpu\")\n",
    "            \n",
    "            rmsd = torch.norm(result - ligand_coords).item()\n",
    "            results.append({\"s\": s, \"protein_name\": protein_name, \"rmsd\": rmsd})\n",
    "    \n",
    "    return pd.DataFrame(results)\n",
    "\n",
    "# Run the test\n",
    "list_protein_names = list(all_dict_coords.keys())\n",
    "test_protein_names = list_protein_names[:10]\n",
    "s_values = [0, 1, 5, 10]\n",
    "\n",
    "results_df = run_test(s_values, test_protein_names, all_dict_coords)\n",
    "\n",
    "# Display summary statistics\n",
    "summary = results_df.groupby('s')['rmsd'].agg(['mean', 'std', 'min', 'max'])\n",
    "print(\"Summary Statistics:\")\n",
    "print(summary)\n",
    "\n",
    "# Create a box plot\n",
    "plt.figure(figsize=(10, 6))\n",
    "sns.boxplot(x='s', y='rmsd', data=results_df)\n",
    "plt.title('RMSD Distribution for Different s Values')\n",
    "plt.xlabel('s')\n",
    "plt.ylabel('RMSD')\n",
    "plt.show()\n",
    "\n",
    "# Create a heatmap\n",
    "pivot_df = results_df.pivot(index='protein_name', columns='s', values='rmsd')\n",
    "plt.figure(figsize=(12, 8))\n",
    "sns.heatmap(pivot_df, annot=True, fmt='.2f', cmap='YlOrRd')\n",
    "plt.title('RMSD Heatmap for Different s Values and Proteins')\n",
    "plt.xlabel('s')\n",
    "plt.ylabel('Protein Name')\n",
    "plt.show()\n",
    "\n",
    "# Display detailed results\n",
    "print(\"\\nDetailed Results:\")\n",
    "for s in s_values:\n",
    "    print(f\"\\ns = {s}:\")\n",
    "    s_results = results_df[results_df['s'] == s].sort_values('rmsd')\n",
    "    for _, row in s_results.iterrows():\n",
    "        print(f\"{row['protein_name']}: {row['rmsd']:.2f}\")"
   ]
  },
  {
   "cell_type": "code",
   "execution_count": 83,
   "metadata": {},
   "outputs": [
    {
     "name": "stdout",
     "output_type": "stream",
     "text": [
      "Running test for s=0\n"
     ]
    },
    {
     "data": {
      "application/vnd.jupyter.widget-view+json": {
       "model_id": "4c2741e7bfc345c5a40ce9bed4ebe798",
       "version_major": 2,
       "version_minor": 0
      },
      "text/plain": [
       "s=0:   0%|          | 0/10 [00:00<?, ?it/s]"
      ]
     },
     "metadata": {},
     "output_type": "display_data"
    },
    {
     "name": "stdout",
     "output_type": "stream",
     "text": [
      "Summary Statistics:\n",
      "      mean       std           min       max\n",
      "s                                           \n",
      "0  0.71025  2.246007  3.040071e-14  7.102499\n"
     ]
    },
    {
     "data": {
      "image/png": "[encoded data removed]",
      "text/plain": [
       "<Figure size 1000x600 with 1 Axes>"
      ]
     },
     "metadata": {},
     "output_type": "display_data"
    },
    {
     "data": {
      "image/png": "[encoded data removed]",
      "text/plain": [
       "<Figure size 1200x800 with 2 Axes>"
      ]
     },
     "metadata": {},
     "output_type": "display_data"
    },
    {
     "name": "stdout",
     "output_type": "stream",
     "text": [
      "\n",
      "Detailed Results:\n",
      "\n",
      "s = 0:\n",
      "1zsb: 0.00\n",
      "3fqa: 0.00\n",
      "6h9v: 0.00\n",
      "3zzf: 0.00\n",
      "4eu3: 0.00\n",
      "3gww: 0.00\n",
      "3k41: 0.00\n",
      "1wkm: 0.00\n",
      "4obv: 0.00\n",
      "1w8l: 7.10\n"
     ]
    }
   ],
   "source": [
    "import torch\n",
    "from tqdm.notebook import tqdm\n",
    "import pandas as pd\n",
    "import seaborn as sns\n",
    "import matplotlib.pyplot as plt\n",
    "\n",
    "def run_test(s_values, test_protein_names, all_dict_coords, random_noise=0, num_initializations=1, num_iterations=100):\n",
    "    results = []\n",
    "    \n",
    "    for s in s_values:\n",
    "        print(f\"Running test for s={s}\")\n",
    "        for protein_name in tqdm(test_protein_names, desc=f\"s={s}\"):\n",
    "            protein_coords = all_dict_coords[protein_name][\"protein\"]\n",
    "            ligand_coords = all_dict_coords[protein_name][\"compound\"]\n",
    "            true_pairwise_distances = torch.cdist(protein_coords, ligand_coords)\n",
    "            noised_pairwise_distances = true_pairwise_distances + torch.randn_like(true_pairwise_distances) * random_noise\n",
    "            ligand_pairwise_distances = torch.cdist(ligand_coords, ligand_coords)\n",
    "            \n",
    "            result = optimize_ligand_position(protein_coords=protein_coords,\n",
    "                                    pairwise_distances_lig=ligand_pairwise_distances,\n",
    "                                    noised_pairwise_distances=noised_pairwise_distances,\n",
    "                                    s=s,\n",
    "                                    num_initializations=num_initializations,\n",
    "                                    num_iterations=num_iterations,\n",
    "                                    device=\"cuda:1\")\n",
    "            \n",
    "            rmsd = torch.norm(result - ligand_coords).item()\n",
    "            results.append({\"s\": s, \"protein_name\": protein_name, \"rmsd\": rmsd})\n",
    "    \n",
    "    return pd.DataFrame(results)\n",
    "\n",
    "# Run the test\n",
    "list_protein_names = list(all_dict_coords.keys())\n",
    "test_protein_names = list_protein_names[:10]\n",
    "s_values = [0,]\n",
    "\n",
    "results_df = run_test(s_values, test_protein_names, all_dict_coords, num_initializations=10, num_iterations=1000)\n",
    "\n",
    "# Display summary statistics\n",
    "summary = results_df.groupby('s')['rmsd'].agg(['mean', 'std', 'min', 'max'])\n",
    "print(\"Summary Statistics:\")\n",
    "print(summary)\n",
    "\n",
    "# Create a box plot\n",
    "plt.figure(figsize=(10, 6))\n",
    "sns.boxplot(x='s', y='rmsd', data=results_df)\n",
    "plt.title('RMSD Distribution for Different s Values')\n",
    "plt.xlabel('s')\n",
    "plt.ylabel('RMSD')\n",
    "plt.show()\n",
    "\n",
    "# Create a heatmap\n",
    "pivot_df = results_df.pivot(index='protein_name', columns='s', values='rmsd')\n",
    "plt.figure(figsize=(12, 8))\n",
    "sns.heatmap(pivot_df, annot=True, fmt='.2f', cmap='YlOrRd')\n",
    "plt.title('RMSD Heatmap for Different s Values and Proteins')\n",
    "plt.xlabel('s')\n",
    "plt.ylabel('Protein Name')\n",
    "plt.show()\n",
    "\n",
    "# Display detailed results\n",
    "print(\"\\nDetailed Results:\")\n",
    "for s in s_values:\n",
    "    print(f\"\\ns = {s}:\")\n",
    "    s_results = results_df[results_df['s'] == s].sort_values('rmsd')\n",
    "    for _, row in s_results.iterrows():\n",
    "        print(f\"{row['protein_name']}: {row['rmsd']:.2f}\")"
   ]
  },
  {
   "cell_type": "code",
   "execution_count": 82,
   "metadata": {},
   "outputs": [
    {
     "name": "stdout",
     "output_type": "stream",
     "text": [
      "Running test for s=0\n"
     ]
    },
    {
     "data": {
      "application/vnd.jupyter.widget-view+json": {
       "model_id": "8f08df13c0f344d7a9ec33136723753f",
       "version_major": 2,
       "version_minor": 0
      },
      "text/plain": [
       "s=0:   0%|          | 0/10 [00:00<?, ?it/s]"
      ]
     },
     "metadata": {},
     "output_type": "display_data"
    },
    {
     "name": "stdout",
     "output_type": "stream",
     "text": [
      "Running test for s=1\n"
     ]
    },
    {
     "data": {
      "application/vnd.jupyter.widget-view+json": {
       "model_id": "cf9beed080ed4904b0e25af6c8d11d8e",
       "version_major": 2,
       "version_minor": 0
      },
      "text/plain": [
       "s=1:   0%|          | 0/10 [00:00<?, ?it/s]"
      ]
     },
     "metadata": {},
     "output_type": "display_data"
    },
    {
     "name": "stdout",
     "output_type": "stream",
     "text": [
      "Running test for s=5\n"
     ]
    },
    {
     "data": {
      "application/vnd.jupyter.widget-view+json": {
       "model_id": "8da1d4fe99674f08bcd745202fde6dcc",
       "version_major": 2,
       "version_minor": 0
      },
      "text/plain": [
       "s=5:   0%|          | 0/10 [00:00<?, ?it/s]"
      ]
     },
     "metadata": {},
     "output_type": "display_data"
    },
    {
     "name": "stdout",
     "output_type": "stream",
     "text": [
      "Running test for s=10\n"
     ]
    },
    {
     "data": {
      "application/vnd.jupyter.widget-view+json": {
       "model_id": "73d37c8ce05247faa0e5527eb5124201",
       "version_major": 2,
       "version_minor": 0
      },
      "text/plain": [
       "s=10:   0%|          | 0/10 [00:00<?, ?it/s]"
      ]
     },
     "metadata": {},
     "output_type": "display_data"
    },
    {
     "name": "stdout",
     "output_type": "stream",
     "text": [
      "Summary Statistics:\n",
      "        mean       std       min       max\n",
      "s                                         \n",
      "0   2.958938  0.828846  1.796077  4.353689\n",
      "1   2.228013  0.793022  1.548438  4.029681\n",
      "5   1.931639  0.564578  1.310018  3.328982\n",
      "10  1.563792  0.454338  1.122668  2.605015\n"
     ]
    },
    {
     "data": {
      "image/png": "[encoded data removed]",
      "text/plain": [
       "<Figure size 1000x600 with 1 Axes>"
      ]
     },
     "metadata": {},
     "output_type": "display_data"
    },
    {
     "data": {
      "image/png": "[encoded data removed]",
      "text/plain": [
       "<Figure size 1200x800 with 2 Axes>"
      ]
     },
     "metadata": {},
     "output_type": "display_data"
    },
    {
     "name": "stdout",
     "output_type": "stream",
     "text": [
      "\n",
      "Detailed Results:\n",
      "\n",
      "s = 0:\n",
      "1wkm: 1.80\n",
      "3zzf: 1.97\n",
      "3fqa: 2.23\n",
      "1w8l: 2.62\n",
      "4eu3: 2.85\n",
      "4obv: 3.08\n",
      "1zsb: 3.26\n",
      "6h9v: 3.66\n",
      "3gww: 3.77\n",
      "3k41: 4.35\n",
      "\n",
      "s = 1:\n",
      "3fqa: 1.55\n",
      "4obv: 1.60\n",
      "1wkm: 1.70\n",
      "3zzf: 1.72\n",
      "4eu3: 1.74\n",
      "1w8l: 1.95\n",
      "1zsb: 2.46\n",
      "3gww: 2.56\n",
      "6h9v: 2.97\n",
      "3k41: 4.03\n",
      "\n",
      "s = 5:\n",
      "3zzf: 1.31\n",
      "3fqa: 1.36\n",
      "1wkm: 1.55\n",
      "4obv: 1.81\n",
      "6h9v: 1.88\n",
      "3gww: 1.99\n",
      "4eu3: 2.00\n",
      "1w8l: 2.04\n",
      "1zsb: 2.05\n",
      "3k41: 3.33\n",
      "\n",
      "s = 10:\n",
      "3fqa: 1.12\n",
      "4eu3: 1.16\n",
      "1wkm: 1.26\n",
      "3zzf: 1.28\n",
      "4obv: 1.34\n",
      "3gww: 1.52\n",
      "1w8l: 1.64\n",
      "1zsb: 1.82\n",
      "6h9v: 1.90\n",
      "3k41: 2.61\n"
     ]
    }
   ],
   "source": [
    "import torch\n",
    "from tqdm.notebook import tqdm\n",
    "import pandas as pd\n",
    "import seaborn as sns\n",
    "import matplotlib.pyplot as plt\n",
    "\n",
    "def run_test(s_values, test_protein_names, all_dict_coords, random_noise=1, num_initializations=1, num_iterations=100):\n",
    "    results = []\n",
    "    \n",
    "    for s in s_values:\n",
    "        print(f\"Running test for s={s}\")\n",
    "        for protein_name in tqdm(test_protein_names, desc=f\"s={s}\"):\n",
    "            protein_coords = all_dict_coords[protein_name][\"protein\"]\n",
    "            ligand_coords = all_dict_coords[protein_name][\"compound\"]\n",
    "            true_pairwise_distances = torch.cdist(protein_coords, ligand_coords)\n",
    "            noised_pairwise_distances = true_pairwise_distances + torch.randn_like(true_pairwise_distances) * random_noise\n",
    "            ligand_pairwise_distances = torch.cdist(ligand_coords, ligand_coords)\n",
    "            \n",
    "            result = optimize_ligand_position(protein_coords=protein_coords,\n",
    "                                    pairwise_distances_lig=ligand_pairwise_distances,\n",
    "                                    noised_pairwise_distances=noised_pairwise_distances,\n",
    "                                    s=s,\n",
    "                                    num_initializations=num_initializations,\n",
    "                                    num_iterations=num_iterations,\n",
    "                                    device=\"cuda:1\")\n",
    "            \n",
    "            rmsd = torch.norm(result - ligand_coords).item()\n",
    "            results.append({\"s\": s, \"protein_name\": protein_name, \"rmsd\": rmsd})\n",
    "    \n",
    "    return pd.DataFrame(results)\n",
    "\n",
    "# Run the test\n",
    "list_protein_names = list(all_dict_coords.keys())\n",
    "test_protein_names = list_protein_names[:10]\n",
    "s_values = [0, 1, 5, 10]\n",
    "\n",
    "results_df = run_test(s_values, test_protein_names, all_dict_coords, num_initializations=10, num_iterations=1000)\n",
    "\n",
    "# Display summary statistics\n",
    "summary = results_df.groupby('s')['rmsd'].agg(['mean', 'std', 'min', 'max'])\n",
    "print(\"Summary Statistics:\")\n",
    "print(summary)\n",
    "\n",
    "# Create a box plot\n",
    "plt.figure(figsize=(10, 6))\n",
    "sns.boxplot(x='s', y='rmsd', data=results_df)\n",
    "plt.title('RMSD Distribution for Different s Values')\n",
    "plt.xlabel('s')\n",
    "plt.ylabel('RMSD')\n",
    "plt.show()\n",
    "\n",
    "# Create a heatmap\n",
    "pivot_df = results_df.pivot(index='protein_name', columns='s', values='rmsd')\n",
    "plt.figure(figsize=(12, 8))\n",
    "sns.heatmap(pivot_df, annot=True, fmt='.2f', cmap='YlOrRd')\n",
    "plt.title('RMSD Heatmap for Different s Values and Proteins')\n",
    "plt.xlabel('s')\n",
    "plt.ylabel('Protein Name')\n",
    "plt.show()\n",
    "\n",
    "# Display detailed results\n",
    "print(\"\\nDetailed Results:\")\n",
    "for s in s_values:\n",
    "    print(f\"\\ns = {s}:\")\n",
    "    s_results = results_df[results_df['s'] == s].sort_values('rmsd')\n",
    "    for _, row in s_results.iterrows():\n",
    "        print(f\"{row['protein_name']}: {row['rmsd']:.2f}\")"
   ]
  },
  {
   "cell_type": "code",
   "execution_count": null,
   "metadata": {},
   "outputs": [],
   "source": [
    "import torch\n",
    "from tqdm.notebook import tqdm\n",
    "import pandas as pd\n",
    "import seaborn as sns\n",
    "import matplotlib.pyplot as plt\n",
    "\n",
    "def run_test(s_values, test_protein_names, all_dict_coords, random_noise=1, num_initializations=10, num_iterations=100):\n",
    "    results = []\n",
    "    \n",
    "    for s in s_values:\n",
    "        print(f\"Running test for s={s}\")\n",
    "        for protein_name in tqdm(test_protein_names, desc=f\"s={s}\"):\n",
    "            protein_coords = all_dict_coords[protein_name][\"protein\"]\n",
    "            ligand_coords = all_dict_coords[protein_name][\"compound\"]\n",
    "            true_pairwise_distances = torch.cdist(protein_coords, ligand_coords)\n",
    "            noised_pairwise_distances = true_pairwise_distances + torch.randn_like(true_pairwise_distances) * random_noise\n",
    "            ligand_pairwise_distances = torch.cdist(ligand_coords, ligand_coords)\n",
    "            \n",
    "            result = optimize_ligand_position(protein_coords=protein_coords,\n",
    "                                    pairwise_distances_lig=ligand_pairwise_distances,\n",
    "                                    noised_pairwise_distances=noised_pairwise_distances,\n",
    "                                    s=s,\n",
    "                                    num_initializations=num_initializations,\n",
    "                                    num_iterations=num_iterations,\n",
    "                                    device=\"cuda:1\")\n",
    "            \n",
    "            rmsd = torch.norm(result - ligand_coords).item()\n",
    "            results.append({\"s\": s, \"protein_name\": protein_name, \"rmsd\": rmsd})\n",
    "    \n",
    "    return pd.DataFrame(results)\n",
    "\n",
    "# Run the test\n",
    "list_protein_names = list(all_dict_coords.keys())\n",
    "test_protein_names = list_protein_names[:100]\n",
    "s_values = [0, 1, 5, 10]\n",
    "\n",
    "results_df = run_test(s_values, test_protein_names, all_dict_coords, num_initializations=10, num_iterations=1000)\n",
    "\n",
    "# Display summary statistics\n",
    "summary = results_df.groupby('s')['rmsd'].agg(['mean', 'std', 'min', 'max'])\n",
    "print(\"Summary Statistics:\")\n",
    "print(summary)\n",
    "\n",
    "# Create a box plot\n",
    "plt.figure(figsize=(10, 6))\n",
    "sns.boxplot(x='s', y='rmsd', data=results_df)\n",
    "plt.title('RMSD Distribution for Different s Values')\n",
    "plt.xlabel('s')\n",
    "plt.ylabel('RMSD')\n",
    "plt.show()\n",
    "\n",
    "# Create a heatmap\n",
    "pivot_df = results_df.pivot(index='protein_name', columns='s', values='rmsd')\n",
    "plt.figure(figsize=(12, 8))\n",
    "sns.heatmap(pivot_df, annot=True, fmt='.2f', cmap='YlOrRd')\n",
    "plt.title('RMSD Heatmap for Different s Values and Proteins')\n",
    "plt.xlabel('s')\n",
    "plt.ylabel('Protein Name')\n",
    "plt.show()\n",
    "\n",
    "# Display detailed results\n",
    "print(\"\\nDetailed Results:\")\n",
    "for s in s_values:\n",
    "    print(f\"\\ns = {s}:\")\n",
    "    s_results = results_df[results_df['s'] == s].sort_values('rmsd')\n",
    "    for _, row in s_results.iterrows():\n",
    "        print(f\"{row['protein_name']}: {row['rmsd']:.2f}\")"
   ]
  }
 ],
 "metadata": {
  "kernelspec": {
   "display_name": "Python 3 (ipykernel)",
   "language": "python",
   "name": "python3"
  },
  "language_info": {
   "codemirror_mode": {
    "name": "ipython",
    "version": 3
   },
   "file_extension": ".py",
   "mimetype": "text/x-python",
   "name": "python",
   "nbconvert_exporter": "python",
   "pygments_lexer": "ipython3",
   "version": "3.8.19"
  }
 },
 "nbformat": 4,
 "nbformat_minor": 2
}
