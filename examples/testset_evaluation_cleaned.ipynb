{
 "cells": [
  {
   "cell_type": "code",
   "execution_count": 23,
   "id": "cb8054f0",
   "metadata": {},
   "outputs": [],
   "source": [
    "import pandas as pd\n",
    "import numpy as np\n",
    "import matplotlib.pyplot as plt\n",
    "import os\n",
    "import hashlib\n",
    "import random\n",
    "\n",
    "from tqdm.notebook import tqdm\n",
    "import rdkit.Chem as Chem\n",
    "\n",
    "from rdkit.Chem import Draw\n",
    "from rdkit.Chem import AllChem\n",
    "import glob\n",
    "import torch\n",
    "torch.set_num_threads(1)\n",
    "torch.multiprocessing.set_sharing_strategy('file_system')\n",
    "\n",
    "%matplotlib inline"
   ]
  },
  {
   "cell_type": "code",
   "execution_count": 24,
   "id": "f164dec5",
   "metadata": {},
   "outputs": [],
   "source": [
    "import sys\n",
    "sys.path.append(\"/fs/pool/pool-marsot/tankbind_philip/TankBind/tankbind\")"
   ]
  },
  {
   "cell_type": "code",
   "execution_count": 25,
   "id": "577266e7",
   "metadata": {},
   "outputs": [],
   "source": [
    "# Added by Enzo: path for test dataset\n",
    "test_dataset = f\"/fs/pool/pool-marsot/tankbind_philip/TankBind/dataset/test_dataset\""
   ]
  },
  {
   "cell_type": "code",
   "execution_count": 26,
   "id": "4a4d3f26",
   "metadata": {},
   "outputs": [],
   "source": [
    "import sys\n",
    "tankbind_src_folder = \"/fs/pool/pool-marsot/tankbind_philip/TankBind/tankbind\"\n",
    "sys.path.insert(0, tankbind_src_folder)\n",
    "\n",
    "import logging\n",
    "\n",
    "from data import TankBindDataSet\n",
    "from torch_geometric.loader import DataLoader\n",
    "from model import get_model"
   ]
  },
  {
   "cell_type": "code",
   "execution_count": 27,
   "id": "a80c8025",
   "metadata": {},
   "outputs": [
    {
     "data": {
      "text/plain": [
       "0"
      ]
     },
     "execution_count": 27,
     "metadata": {},
     "output_type": "execute_result"
    }
   ],
   "source": [
    "result_folder = \"/fs/pool/pool-marsot/tankbind_philip/TankBind/tankbind/predictions/\"\n",
    "os.system(f\"mkdir -p {result_folder}\")\n",
    "\n",
    "rdkit_folder = f\"{result_folder}/rdkit/\"\n",
    "os.system(f\"mkdir -p {rdkit_folder}\")"
   ]
  },
  {
   "cell_type": "code",
   "execution_count": 28,
   "id": "4adbe9d6",
   "metadata": {},
   "outputs": [
    {
     "data": {
      "text/plain": [
       "'compound_dict = {}\\npre_renamed = \"/fs/pool/pool-marsot/tankbind_enzo/bind/dataset/renumbered_path\"\\ntest = np.loadtxt(\"/fs/pool/pool-marsot/tankbind_enzo/bind/packages/EquiBind/data/timesplit_test\", dtype=str)\\nfor name in tqdm(test):\\n    #mol, _ = read_mol(f\"{pre_renamed}/{name}.sdf\", None)\\n    mol, _ = read_mol(f\"{pre_renamed}/{name}_ligand.sdf\", None)\\n    smiles = Chem.MolToSmiles(mol)\\n\\n    rdkit_mol_path = f\"{rdkit_folder}/{name}_ligand.sdf\"\\n    generate_sdf_from_smiles_using_rdkit(smiles, rdkit_mol_path, shift_dis=0)\\n\\n    mol, _ = read_mol(rdkit_mol_path, None)\\n    compound_dict[name] = extract_torchdrug_feature_from_mol(mol, has_LAS_mask=True)\\ntorch.save(compound_dict, f\"{result_folder}/pdbbind_test_compound_dict_based_on_rdkit.pt\")'"
      ]
     },
     "execution_count": 28,
     "metadata": {},
     "output_type": "execute_result"
    }
   ],
   "source": [
    "from feature_utils import read_mol, generate_sdf_from_smiles_using_rdkit, extract_torchdrug_feature_from_mol\n",
    "\n",
    "\"\"\"compound_dict = {}\n",
    "pre_renamed = \"/fs/pool/pool-marsot/tankbind_enzo/bind/dataset/renumbered_path\"\n",
    "test = np.loadtxt(\"/fs/pool/pool-marsot/tankbind_enzo/bind/packages/EquiBind/data/timesplit_test\", dtype=str)\n",
    "for name in tqdm(test):\n",
    "    #mol, _ = read_mol(f\"{pre_renamed}/{name}.sdf\", None)\n",
    "    mol, _ = read_mol(f\"{pre_renamed}/{name}_ligand.sdf\", None)\n",
    "    smiles = Chem.MolToSmiles(mol)\n",
    "\n",
    "    rdkit_mol_path = f\"{rdkit_folder}/{name}_ligand.sdf\"\n",
    "    generate_sdf_from_smiles_using_rdkit(smiles, rdkit_mol_path, shift_dis=0)\n",
    "\n",
    "    mol, _ = read_mol(rdkit_mol_path, None)\n",
    "    compound_dict[name] = extract_torchdrug_feature_from_mol(mol, has_LAS_mask=True)\n",
    "torch.save(compound_dict, f\"{result_folder}/pdbbind_test_compound_dict_based_on_rdkit.pt\")\"\"\""
   ]
  },
  {
   "cell_type": "code",
   "execution_count": 29,
   "id": "c276f74d",
   "metadata": {},
   "outputs": [],
   "source": [
    "#added by Enzo\n",
    "compound_dict = torch.load(f\"{result_folder}/pdbbind_test_compound_dict_based_on_rdkit.pt\")"
   ]
  },
  {
   "cell_type": "code",
   "execution_count": 30,
   "id": "321b8b00",
   "metadata": {},
   "outputs": [],
   "source": [
    "#x = torch.load(\"/fs/pool/pool-marsot/tankbind_philip/TankBind/results/TankBind/1o2cmqql/checkpoints/epoch=19-step=597740.ckpt\")\n",
    "x = torch.load(\"/fs/pool/pool-marsot/tankbind_philip/TankBind/results/TankBind/fqqxcaf2/checkpoints/epoch=159-step=704160.ckpt\")"
   ]
  },
  {
   "cell_type": "code",
   "execution_count": 31,
   "id": "c65c1de9",
   "metadata": {},
   "outputs": [
    {
     "data": {
      "text/plain": [
       "dict_keys(['epoch', 'global_step', 'pytorch-lightning_version', 'state_dict', 'loops', 'callbacks', 'optimizer_states', 'lr_schedulers'])"
      ]
     },
     "execution_count": 31,
     "metadata": {},
     "output_type": "execute_result"
    }
   ],
   "source": [
    "x.keys()"
   ]
  },
  {
   "cell_type": "code",
   "execution_count": 32,
   "id": "cdbdd494",
   "metadata": {},
   "outputs": [
    {
     "data": {
      "text/plain": [
       "odict_keys(['model.bias', 'model.layernorm.weight', 'model.layernorm.bias', 'model.conv_protein.W_s.weight', 'model.conv_protein.W_v.0.scalar_norm.weight', 'model.conv_protein.W_v.0.scalar_norm.bias', 'model.conv_protein.W_v.1.dummy_param', 'model.conv_protein.W_v.1.wh.weight', 'model.conv_protein.W_v.1.ws.weight', 'model.conv_protein.W_v.1.ws.bias', 'model.conv_protein.W_v.1.wv.weight', 'model.conv_protein.W_e.0.scalar_norm.weight', 'model.conv_protein.W_e.0.scalar_norm.bias', 'model.conv_protein.W_e.1.dummy_param', 'model.conv_protein.W_e.1.wh.weight', 'model.conv_protein.W_e.1.ws.weight', 'model.conv_protein.W_e.1.ws.bias', 'model.conv_protein.W_e.1.wv.weight', 'model.conv_protein.layers.0.conv.message_func.0.dummy_param', 'model.conv_protein.layers.0.conv.message_func.0.wh.weight', 'model.conv_protein.layers.0.conv.message_func.0.ws.weight', 'model.conv_protein.layers.0.conv.message_func.0.ws.bias', 'model.conv_protein.layers.0.conv.message_func.0.wv.weight', 'model.conv_protein.layers.0.conv.message_func.1.dummy_param', 'model.conv_protein.layers.0.conv.message_func.1.wh.weight', 'model.conv_protein.layers.0.conv.message_func.1.ws.weight', 'model.conv_protein.layers.0.conv.message_func.1.ws.bias', 'model.conv_protein.layers.0.conv.message_func.1.wv.weight', 'model.conv_protein.layers.0.conv.message_func.2.dummy_param', 'model.conv_protein.layers.0.conv.message_func.2.wh.weight', 'model.conv_protein.layers.0.conv.message_func.2.ws.weight', 'model.conv_protein.layers.0.conv.message_func.2.ws.bias', 'model.conv_protein.layers.0.conv.message_func.2.wv.weight', 'model.conv_protein.layers.0.norm.0.scalar_norm.weight', 'model.conv_protein.layers.0.norm.0.scalar_norm.bias', 'model.conv_protein.layers.0.norm.1.scalar_norm.weight', 'model.conv_protein.layers.0.norm.1.scalar_norm.bias', 'model.conv_protein.layers.0.dropout.0.vdropout.dummy_param', 'model.conv_protein.layers.0.dropout.1.vdropout.dummy_param', 'model.conv_protein.layers.0.ff_func.0.dummy_param', 'model.conv_protein.layers.0.ff_func.0.wh.weight', 'model.conv_protein.layers.0.ff_func.0.ws.weight', 'model.conv_protein.layers.0.ff_func.0.ws.bias', 'model.conv_protein.layers.0.ff_func.0.wv.weight', 'model.conv_protein.layers.0.ff_func.1.dummy_param', 'model.conv_protein.layers.0.ff_func.1.wh.weight', 'model.conv_protein.layers.0.ff_func.1.ws.weight', 'model.conv_protein.layers.0.ff_func.1.ws.bias', 'model.conv_protein.layers.0.ff_func.1.wv.weight', 'model.conv_protein.layers.1.conv.message_func.0.dummy_param', 'model.conv_protein.layers.1.conv.message_func.0.wh.weight', 'model.conv_protein.layers.1.conv.message_func.0.ws.weight', 'model.conv_protein.layers.1.conv.message_func.0.ws.bias', 'model.conv_protein.layers.1.conv.message_func.0.wv.weight', 'model.conv_protein.layers.1.conv.message_func.1.dummy_param', 'model.conv_protein.layers.1.conv.message_func.1.wh.weight', 'model.conv_protein.layers.1.conv.message_func.1.ws.weight', 'model.conv_protein.layers.1.conv.message_func.1.ws.bias', 'model.conv_protein.layers.1.conv.message_func.1.wv.weight', 'model.conv_protein.layers.1.conv.message_func.2.dummy_param', 'model.conv_protein.layers.1.conv.message_func.2.wh.weight', 'model.conv_protein.layers.1.conv.message_func.2.ws.weight', 'model.conv_protein.layers.1.conv.message_func.2.ws.bias', 'model.conv_protein.layers.1.conv.message_func.2.wv.weight', 'model.conv_protein.layers.1.norm.0.scalar_norm.weight', 'model.conv_protein.layers.1.norm.0.scalar_norm.bias', 'model.conv_protein.layers.1.norm.1.scalar_norm.weight', 'model.conv_protein.layers.1.norm.1.scalar_norm.bias', 'model.conv_protein.layers.1.dropout.0.vdropout.dummy_param', 'model.conv_protein.layers.1.dropout.1.vdropout.dummy_param', 'model.conv_protein.layers.1.ff_func.0.dummy_param', 'model.conv_protein.layers.1.ff_func.0.wh.weight', 'model.conv_protein.layers.1.ff_func.0.ws.weight', 'model.conv_protein.layers.1.ff_func.0.ws.bias', 'model.conv_protein.layers.1.ff_func.0.wv.weight', 'model.conv_protein.layers.1.ff_func.1.dummy_param', 'model.conv_protein.layers.1.ff_func.1.wh.weight', 'model.conv_protein.layers.1.ff_func.1.ws.weight', 'model.conv_protein.layers.1.ff_func.1.ws.bias', 'model.conv_protein.layers.1.ff_func.1.wv.weight', 'model.conv_protein.layers.2.conv.message_func.0.dummy_param', 'model.conv_protein.layers.2.conv.message_func.0.wh.weight', 'model.conv_protein.layers.2.conv.message_func.0.ws.weight', 'model.conv_protein.layers.2.conv.message_func.0.ws.bias', 'model.conv_protein.layers.2.conv.message_func.0.wv.weight', 'model.conv_protein.layers.2.conv.message_func.1.dummy_param', 'model.conv_protein.layers.2.conv.message_func.1.wh.weight', 'model.conv_protein.layers.2.conv.message_func.1.ws.weight', 'model.conv_protein.layers.2.conv.message_func.1.ws.bias', 'model.conv_protein.layers.2.conv.message_func.1.wv.weight', 'model.conv_protein.layers.2.conv.message_func.2.dummy_param', 'model.conv_protein.layers.2.conv.message_func.2.wh.weight', 'model.conv_protein.layers.2.conv.message_func.2.ws.weight', 'model.conv_protein.layers.2.conv.message_func.2.ws.bias', 'model.conv_protein.layers.2.conv.message_func.2.wv.weight', 'model.conv_protein.layers.2.norm.0.scalar_norm.weight', 'model.conv_protein.layers.2.norm.0.scalar_norm.bias', 'model.conv_protein.layers.2.norm.1.scalar_norm.weight', 'model.conv_protein.layers.2.norm.1.scalar_norm.bias', 'model.conv_protein.layers.2.dropout.0.vdropout.dummy_param', 'model.conv_protein.layers.2.dropout.1.vdropout.dummy_param', 'model.conv_protein.layers.2.ff_func.0.dummy_param', 'model.conv_protein.layers.2.ff_func.0.wh.weight', 'model.conv_protein.layers.2.ff_func.0.ws.weight', 'model.conv_protein.layers.2.ff_func.0.ws.bias', 'model.conv_protein.layers.2.ff_func.0.wv.weight', 'model.conv_protein.layers.2.ff_func.1.dummy_param', 'model.conv_protein.layers.2.ff_func.1.wh.weight', 'model.conv_protein.layers.2.ff_func.1.ws.weight', 'model.conv_protein.layers.2.ff_func.1.ws.bias', 'model.conv_protein.layers.2.ff_func.1.wv.weight', 'model.conv_protein.W_out.0.scalar_norm.weight', 'model.conv_protein.W_out.0.scalar_norm.bias', 'model.conv_protein.W_out.1.dummy_param', 'model.conv_protein.W_out.1.wh.weight', 'model.conv_protein.W_out.1.ws.weight', 'model.conv_protein.W_out.1.ws.bias', 'model.conv_compound.layers.0.eps', 'model.conv_compound.layers.0.mlp.layers.0.weight', 'model.conv_compound.layers.0.mlp.layers.0.bias', 'model.conv_compound.layers.0.mlp.layers.1.weight', 'model.conv_compound.layers.0.mlp.layers.1.bias', 'model.conv_compound.layers.0.edge_linear.weight', 'model.conv_compound.layers.0.edge_linear.bias', 'model.conv_compound.layers.1.eps', 'model.conv_compound.layers.1.mlp.layers.0.weight', 'model.conv_compound.layers.1.mlp.layers.0.bias', 'model.conv_compound.layers.1.mlp.layers.1.weight', 'model.conv_compound.layers.1.mlp.layers.1.bias', 'model.conv_compound.layers.1.edge_linear.weight', 'model.conv_compound.layers.1.edge_linear.bias', 'model.conv_compound.layers.2.eps', 'model.conv_compound.layers.2.mlp.layers.0.weight', 'model.conv_compound.layers.2.mlp.layers.0.bias', 'model.conv_compound.layers.2.mlp.layers.1.weight', 'model.conv_compound.layers.2.mlp.layers.1.bias', 'model.conv_compound.layers.2.edge_linear.weight', 'model.conv_compound.layers.2.edge_linear.bias', 'model.protein_pair_embedding.weight', 'model.compound_pair_embedding.weight', 'model.compound_pair_embedding.bias', 'model.protein_to_compound_list.0.layernorm.weight', 'model.protein_to_compound_list.0.layernorm_c.weight', 'model.protein_to_compound_list.0.gate_linear1.weight', 'model.protein_to_compound_list.0.gate_linear2.weight', 'model.protein_to_compound_list.0.linear1.weight', 'model.protein_to_compound_list.0.linear1.bias', 'model.protein_to_compound_list.0.linear2.weight', 'model.protein_to_compound_list.0.linear2.bias', 'model.protein_to_compound_list.0.ending_gate_linear.weight', 'model.protein_to_compound_list.0.ending_gate_linear.bias', 'model.protein_to_compound_list.0.linear_after_sum.weight', 'model.protein_to_compound_list.0.linear_after_sum.bias', 'model.protein_to_compound_list.1.layernorm.weight', 'model.protein_to_compound_list.1.layernorm_c.weight', 'model.protein_to_compound_list.1.gate_linear1.weight', 'model.protein_to_compound_list.1.gate_linear2.weight', 'model.protein_to_compound_list.1.linear1.weight', 'model.protein_to_compound_list.1.linear1.bias', 'model.protein_to_compound_list.1.linear2.weight', 'model.protein_to_compound_list.1.linear2.bias', 'model.protein_to_compound_list.1.ending_gate_linear.weight', 'model.protein_to_compound_list.1.ending_gate_linear.bias', 'model.protein_to_compound_list.1.linear_after_sum.weight', 'model.protein_to_compound_list.1.linear_after_sum.bias', 'model.protein_to_compound_list.2.layernorm.weight', 'model.protein_to_compound_list.2.layernorm_c.weight', 'model.protein_to_compound_list.2.gate_linear1.weight', 'model.protein_to_compound_list.2.gate_linear2.weight', 'model.protein_to_compound_list.2.linear1.weight', 'model.protein_to_compound_list.2.linear1.bias', 'model.protein_to_compound_list.2.linear2.weight', 'model.protein_to_compound_list.2.linear2.bias', 'model.protein_to_compound_list.2.ending_gate_linear.weight', 'model.protein_to_compound_list.2.ending_gate_linear.bias', 'model.protein_to_compound_list.2.linear_after_sum.weight', 'model.protein_to_compound_list.2.linear_after_sum.bias', 'model.protein_to_compound_list.3.layernorm.weight', 'model.protein_to_compound_list.3.layernorm_c.weight', 'model.protein_to_compound_list.3.gate_linear1.weight', 'model.protein_to_compound_list.3.gate_linear2.weight', 'model.protein_to_compound_list.3.linear1.weight', 'model.protein_to_compound_list.3.linear1.bias', 'model.protein_to_compound_list.3.linear2.weight', 'model.protein_to_compound_list.3.linear2.bias', 'model.protein_to_compound_list.3.ending_gate_linear.weight', 'model.protein_to_compound_list.3.ending_gate_linear.bias', 'model.protein_to_compound_list.3.linear_after_sum.weight', 'model.protein_to_compound_list.3.linear_after_sum.bias', 'model.protein_to_compound_list.4.layernorm.weight', 'model.protein_to_compound_list.4.layernorm_c.weight', 'model.protein_to_compound_list.4.gate_linear1.weight', 'model.protein_to_compound_list.4.gate_linear2.weight', 'model.protein_to_compound_list.4.linear1.weight', 'model.protein_to_compound_list.4.linear1.bias', 'model.protein_to_compound_list.4.linear2.weight', 'model.protein_to_compound_list.4.linear2.bias', 'model.protein_to_compound_list.4.ending_gate_linear.weight', 'model.protein_to_compound_list.4.ending_gate_linear.bias', 'model.protein_to_compound_list.4.linear_after_sum.weight', 'model.protein_to_compound_list.4.linear_after_sum.bias', 'model.triangle_self_attention_list.0.layernorm.weight', 'model.triangle_self_attention_list.0.linear_qkv.weight', 'model.triangle_self_attention_list.0.output_linear.weight', 'model.triangle_self_attention_list.0.output_linear.bias', 'model.triangle_self_attention_list.0.g.weight', 'model.triangle_self_attention_list.0.g.bias', 'model.triangle_self_attention_list.1.layernorm.weight', 'model.triangle_self_attention_list.1.linear_qkv.weight', 'model.triangle_self_attention_list.1.output_linear.weight', 'model.triangle_self_attention_list.1.output_linear.bias', 'model.triangle_self_attention_list.1.g.weight', 'model.triangle_self_attention_list.1.g.bias', 'model.triangle_self_attention_list.2.layernorm.weight', 'model.triangle_self_attention_list.2.linear_qkv.weight', 'model.triangle_self_attention_list.2.output_linear.weight', 'model.triangle_self_attention_list.2.output_linear.bias', 'model.triangle_self_attention_list.2.g.weight', 'model.triangle_self_attention_list.2.g.bias', 'model.triangle_self_attention_list.3.layernorm.weight', 'model.triangle_self_attention_list.3.linear_qkv.weight', 'model.triangle_self_attention_list.3.output_linear.weight', 'model.triangle_self_attention_list.3.output_linear.bias', 'model.triangle_self_attention_list.3.g.weight', 'model.triangle_self_attention_list.3.g.bias', 'model.triangle_self_attention_list.4.layernorm.weight', 'model.triangle_self_attention_list.4.linear_qkv.weight', 'model.triangle_self_attention_list.4.output_linear.weight', 'model.triangle_self_attention_list.4.output_linear.bias', 'model.triangle_self_attention_list.4.g.weight', 'model.triangle_self_attention_list.4.g.bias', 'model.tranistion.layernorm.weight', 'model.tranistion.layernorm.bias', 'model.tranistion.linear1.weight', 'model.tranistion.linear1.bias', 'model.tranistion.linear2.weight', 'model.tranistion.linear2.bias', 'model.linear.weight', 'model.linear.bias', 'model.linear_energy.weight', 'model.linear_energy.bias', 'model.gate_linear.weight', 'model.gate_linear.bias'])"
      ]
     },
     "execution_count": 32,
     "metadata": {},
     "output_type": "execute_result"
    }
   ],
   "source": [
    "x[\"state_dict\"].keys()"
   ]
  },
  {
   "cell_type": "code",
   "execution_count": 33,
   "id": "4e724131",
   "metadata": {},
   "outputs": [],
   "source": [
    "new_dict = {}\n",
    "for key, value in x[\"state_dict\"].items():\n",
    "    new_dict[key.replace(\"model.\", \"\")] = value"
   ]
  },
  {
   "cell_type": "code",
   "execution_count": 34,
   "id": "96863b26",
   "metadata": {},
   "outputs": [
    {
     "data": {
      "text/plain": [
       "dict_keys(['bias', 'layernorm.weight', 'layernorm.bias', 'conv_protein.W_s.weight', 'conv_protein.W_v.0.scalar_norm.weight', 'conv_protein.W_v.0.scalar_norm.bias', 'conv_protein.W_v.1.dummy_param', 'conv_protein.W_v.1.wh.weight', 'conv_protein.W_v.1.ws.weight', 'conv_protein.W_v.1.ws.bias', 'conv_protein.W_v.1.wv.weight', 'conv_protein.W_e.0.scalar_norm.weight', 'conv_protein.W_e.0.scalar_norm.bias', 'conv_protein.W_e.1.dummy_param', 'conv_protein.W_e.1.wh.weight', 'conv_protein.W_e.1.ws.weight', 'conv_protein.W_e.1.ws.bias', 'conv_protein.W_e.1.wv.weight', 'conv_protein.layers.0.conv.message_func.0.dummy_param', 'conv_protein.layers.0.conv.message_func.0.wh.weight', 'conv_protein.layers.0.conv.message_func.0.ws.weight', 'conv_protein.layers.0.conv.message_func.0.ws.bias', 'conv_protein.layers.0.conv.message_func.0.wv.weight', 'conv_protein.layers.0.conv.message_func.1.dummy_param', 'conv_protein.layers.0.conv.message_func.1.wh.weight', 'conv_protein.layers.0.conv.message_func.1.ws.weight', 'conv_protein.layers.0.conv.message_func.1.ws.bias', 'conv_protein.layers.0.conv.message_func.1.wv.weight', 'conv_protein.layers.0.conv.message_func.2.dummy_param', 'conv_protein.layers.0.conv.message_func.2.wh.weight', 'conv_protein.layers.0.conv.message_func.2.ws.weight', 'conv_protein.layers.0.conv.message_func.2.ws.bias', 'conv_protein.layers.0.conv.message_func.2.wv.weight', 'conv_protein.layers.0.norm.0.scalar_norm.weight', 'conv_protein.layers.0.norm.0.scalar_norm.bias', 'conv_protein.layers.0.norm.1.scalar_norm.weight', 'conv_protein.layers.0.norm.1.scalar_norm.bias', 'conv_protein.layers.0.dropout.0.vdropout.dummy_param', 'conv_protein.layers.0.dropout.1.vdropout.dummy_param', 'conv_protein.layers.0.ff_func.0.dummy_param', 'conv_protein.layers.0.ff_func.0.wh.weight', 'conv_protein.layers.0.ff_func.0.ws.weight', 'conv_protein.layers.0.ff_func.0.ws.bias', 'conv_protein.layers.0.ff_func.0.wv.weight', 'conv_protein.layers.0.ff_func.1.dummy_param', 'conv_protein.layers.0.ff_func.1.wh.weight', 'conv_protein.layers.0.ff_func.1.ws.weight', 'conv_protein.layers.0.ff_func.1.ws.bias', 'conv_protein.layers.0.ff_func.1.wv.weight', 'conv_protein.layers.1.conv.message_func.0.dummy_param', 'conv_protein.layers.1.conv.message_func.0.wh.weight', 'conv_protein.layers.1.conv.message_func.0.ws.weight', 'conv_protein.layers.1.conv.message_func.0.ws.bias', 'conv_protein.layers.1.conv.message_func.0.wv.weight', 'conv_protein.layers.1.conv.message_func.1.dummy_param', 'conv_protein.layers.1.conv.message_func.1.wh.weight', 'conv_protein.layers.1.conv.message_func.1.ws.weight', 'conv_protein.layers.1.conv.message_func.1.ws.bias', 'conv_protein.layers.1.conv.message_func.1.wv.weight', 'conv_protein.layers.1.conv.message_func.2.dummy_param', 'conv_protein.layers.1.conv.message_func.2.wh.weight', 'conv_protein.layers.1.conv.message_func.2.ws.weight', 'conv_protein.layers.1.conv.message_func.2.ws.bias', 'conv_protein.layers.1.conv.message_func.2.wv.weight', 'conv_protein.layers.1.norm.0.scalar_norm.weight', 'conv_protein.layers.1.norm.0.scalar_norm.bias', 'conv_protein.layers.1.norm.1.scalar_norm.weight', 'conv_protein.layers.1.norm.1.scalar_norm.bias', 'conv_protein.layers.1.dropout.0.vdropout.dummy_param', 'conv_protein.layers.1.dropout.1.vdropout.dummy_param', 'conv_protein.layers.1.ff_func.0.dummy_param', 'conv_protein.layers.1.ff_func.0.wh.weight', 'conv_protein.layers.1.ff_func.0.ws.weight', 'conv_protein.layers.1.ff_func.0.ws.bias', 'conv_protein.layers.1.ff_func.0.wv.weight', 'conv_protein.layers.1.ff_func.1.dummy_param', 'conv_protein.layers.1.ff_func.1.wh.weight', 'conv_protein.layers.1.ff_func.1.ws.weight', 'conv_protein.layers.1.ff_func.1.ws.bias', 'conv_protein.layers.1.ff_func.1.wv.weight', 'conv_protein.layers.2.conv.message_func.0.dummy_param', 'conv_protein.layers.2.conv.message_func.0.wh.weight', 'conv_protein.layers.2.conv.message_func.0.ws.weight', 'conv_protein.layers.2.conv.message_func.0.ws.bias', 'conv_protein.layers.2.conv.message_func.0.wv.weight', 'conv_protein.layers.2.conv.message_func.1.dummy_param', 'conv_protein.layers.2.conv.message_func.1.wh.weight', 'conv_protein.layers.2.conv.message_func.1.ws.weight', 'conv_protein.layers.2.conv.message_func.1.ws.bias', 'conv_protein.layers.2.conv.message_func.1.wv.weight', 'conv_protein.layers.2.conv.message_func.2.dummy_param', 'conv_protein.layers.2.conv.message_func.2.wh.weight', 'conv_protein.layers.2.conv.message_func.2.ws.weight', 'conv_protein.layers.2.conv.message_func.2.ws.bias', 'conv_protein.layers.2.conv.message_func.2.wv.weight', 'conv_protein.layers.2.norm.0.scalar_norm.weight', 'conv_protein.layers.2.norm.0.scalar_norm.bias', 'conv_protein.layers.2.norm.1.scalar_norm.weight', 'conv_protein.layers.2.norm.1.scalar_norm.bias', 'conv_protein.layers.2.dropout.0.vdropout.dummy_param', 'conv_protein.layers.2.dropout.1.vdropout.dummy_param', 'conv_protein.layers.2.ff_func.0.dummy_param', 'conv_protein.layers.2.ff_func.0.wh.weight', 'conv_protein.layers.2.ff_func.0.ws.weight', 'conv_protein.layers.2.ff_func.0.ws.bias', 'conv_protein.layers.2.ff_func.0.wv.weight', 'conv_protein.layers.2.ff_func.1.dummy_param', 'conv_protein.layers.2.ff_func.1.wh.weight', 'conv_protein.layers.2.ff_func.1.ws.weight', 'conv_protein.layers.2.ff_func.1.ws.bias', 'conv_protein.layers.2.ff_func.1.wv.weight', 'conv_protein.W_out.0.scalar_norm.weight', 'conv_protein.W_out.0.scalar_norm.bias', 'conv_protein.W_out.1.dummy_param', 'conv_protein.W_out.1.wh.weight', 'conv_protein.W_out.1.ws.weight', 'conv_protein.W_out.1.ws.bias', 'conv_compound.layers.0.eps', 'conv_compound.layers.0.mlp.layers.0.weight', 'conv_compound.layers.0.mlp.layers.0.bias', 'conv_compound.layers.0.mlp.layers.1.weight', 'conv_compound.layers.0.mlp.layers.1.bias', 'conv_compound.layers.0.edge_linear.weight', 'conv_compound.layers.0.edge_linear.bias', 'conv_compound.layers.1.eps', 'conv_compound.layers.1.mlp.layers.0.weight', 'conv_compound.layers.1.mlp.layers.0.bias', 'conv_compound.layers.1.mlp.layers.1.weight', 'conv_compound.layers.1.mlp.layers.1.bias', 'conv_compound.layers.1.edge_linear.weight', 'conv_compound.layers.1.edge_linear.bias', 'conv_compound.layers.2.eps', 'conv_compound.layers.2.mlp.layers.0.weight', 'conv_compound.layers.2.mlp.layers.0.bias', 'conv_compound.layers.2.mlp.layers.1.weight', 'conv_compound.layers.2.mlp.layers.1.bias', 'conv_compound.layers.2.edge_linear.weight', 'conv_compound.layers.2.edge_linear.bias', 'protein_pair_embedding.weight', 'compound_pair_embedding.weight', 'compound_pair_embedding.bias', 'protein_to_compound_list.0.layernorm.weight', 'protein_to_compound_list.0.layernorm_c.weight', 'protein_to_compound_list.0.gate_linear1.weight', 'protein_to_compound_list.0.gate_linear2.weight', 'protein_to_compound_list.0.linear1.weight', 'protein_to_compound_list.0.linear1.bias', 'protein_to_compound_list.0.linear2.weight', 'protein_to_compound_list.0.linear2.bias', 'protein_to_compound_list.0.ending_gate_linear.weight', 'protein_to_compound_list.0.ending_gate_linear.bias', 'protein_to_compound_list.0.linear_after_sum.weight', 'protein_to_compound_list.0.linear_after_sum.bias', 'protein_to_compound_list.1.layernorm.weight', 'protein_to_compound_list.1.layernorm_c.weight', 'protein_to_compound_list.1.gate_linear1.weight', 'protein_to_compound_list.1.gate_linear2.weight', 'protein_to_compound_list.1.linear1.weight', 'protein_to_compound_list.1.linear1.bias', 'protein_to_compound_list.1.linear2.weight', 'protein_to_compound_list.1.linear2.bias', 'protein_to_compound_list.1.ending_gate_linear.weight', 'protein_to_compound_list.1.ending_gate_linear.bias', 'protein_to_compound_list.1.linear_after_sum.weight', 'protein_to_compound_list.1.linear_after_sum.bias', 'protein_to_compound_list.2.layernorm.weight', 'protein_to_compound_list.2.layernorm_c.weight', 'protein_to_compound_list.2.gate_linear1.weight', 'protein_to_compound_list.2.gate_linear2.weight', 'protein_to_compound_list.2.linear1.weight', 'protein_to_compound_list.2.linear1.bias', 'protein_to_compound_list.2.linear2.weight', 'protein_to_compound_list.2.linear2.bias', 'protein_to_compound_list.2.ending_gate_linear.weight', 'protein_to_compound_list.2.ending_gate_linear.bias', 'protein_to_compound_list.2.linear_after_sum.weight', 'protein_to_compound_list.2.linear_after_sum.bias', 'protein_to_compound_list.3.layernorm.weight', 'protein_to_compound_list.3.layernorm_c.weight', 'protein_to_compound_list.3.gate_linear1.weight', 'protein_to_compound_list.3.gate_linear2.weight', 'protein_to_compound_list.3.linear1.weight', 'protein_to_compound_list.3.linear1.bias', 'protein_to_compound_list.3.linear2.weight', 'protein_to_compound_list.3.linear2.bias', 'protein_to_compound_list.3.ending_gate_linear.weight', 'protein_to_compound_list.3.ending_gate_linear.bias', 'protein_to_compound_list.3.linear_after_sum.weight', 'protein_to_compound_list.3.linear_after_sum.bias', 'protein_to_compound_list.4.layernorm.weight', 'protein_to_compound_list.4.layernorm_c.weight', 'protein_to_compound_list.4.gate_linear1.weight', 'protein_to_compound_list.4.gate_linear2.weight', 'protein_to_compound_list.4.linear1.weight', 'protein_to_compound_list.4.linear1.bias', 'protein_to_compound_list.4.linear2.weight', 'protein_to_compound_list.4.linear2.bias', 'protein_to_compound_list.4.ending_gate_linear.weight', 'protein_to_compound_list.4.ending_gate_linear.bias', 'protein_to_compound_list.4.linear_after_sum.weight', 'protein_to_compound_list.4.linear_after_sum.bias', 'triangle_self_attention_list.0.layernorm.weight', 'triangle_self_attention_list.0.linear_qkv.weight', 'triangle_self_attention_list.0.output_linear.weight', 'triangle_self_attention_list.0.output_linear.bias', 'triangle_self_attention_list.0.g.weight', 'triangle_self_attention_list.0.g.bias', 'triangle_self_attention_list.1.layernorm.weight', 'triangle_self_attention_list.1.linear_qkv.weight', 'triangle_self_attention_list.1.output_linear.weight', 'triangle_self_attention_list.1.output_linear.bias', 'triangle_self_attention_list.1.g.weight', 'triangle_self_attention_list.1.g.bias', 'triangle_self_attention_list.2.layernorm.weight', 'triangle_self_attention_list.2.linear_qkv.weight', 'triangle_self_attention_list.2.output_linear.weight', 'triangle_self_attention_list.2.output_linear.bias', 'triangle_self_attention_list.2.g.weight', 'triangle_self_attention_list.2.g.bias', 'triangle_self_attention_list.3.layernorm.weight', 'triangle_self_attention_list.3.linear_qkv.weight', 'triangle_self_attention_list.3.output_linear.weight', 'triangle_self_attention_list.3.output_linear.bias', 'triangle_self_attention_list.3.g.weight', 'triangle_self_attention_list.3.g.bias', 'triangle_self_attention_list.4.layernorm.weight', 'triangle_self_attention_list.4.linear_qkv.weight', 'triangle_self_attention_list.4.output_linear.weight', 'triangle_self_attention_list.4.output_linear.bias', 'triangle_self_attention_list.4.g.weight', 'triangle_self_attention_list.4.g.bias', 'tranistion.layernorm.weight', 'tranistion.layernorm.bias', 'tranistion.linear1.weight', 'tranistion.linear1.bias', 'tranistion.linear2.weight', 'tranistion.linear2.bias', 'linear.weight', 'linear.bias', 'linear_energy.weight', 'linear_energy.bias', 'gate_linear.weight', 'gate_linear.bias'])"
      ]
     },
     "execution_count": 34,
     "metadata": {},
     "output_type": "execute_result"
    }
   ],
   "source": [
    "new_dict.keys()"
   ]
  },
  {
   "cell_type": "code",
   "execution_count": 35,
   "id": "ce74b2c7",
   "metadata": {},
   "outputs": [],
   "source": [
    "from model import TankBindModel"
   ]
  },
  {
   "cell_type": "code",
   "execution_count": 36,
   "id": "d9b049c5",
   "metadata": {},
   "outputs": [],
   "source": [
    "model = TankBindModel()"
   ]
  },
  {
   "cell_type": "code",
   "execution_count": 37,
   "id": "d5264504",
   "metadata": {},
   "outputs": [
    {
     "data": {
      "text/plain": [
       "<All keys matched successfully>"
      ]
     },
     "execution_count": 37,
     "metadata": {},
     "output_type": "execute_result"
    }
   ],
   "source": [
    "model.load_state_dict(new_dict)"
   ]
  },
  {
   "cell_type": "code",
   "execution_count": 38,
   "id": "ca0367dd",
   "metadata": {},
   "outputs": [
    {
     "name": "stdout",
     "output_type": "stream",
     "text": [
      "['/fs/pool/pool-marsot/tankbind_philip/TankBind/dataset/test_dataset/processed/data.pt', '/fs/pool/pool-marsot/tankbind_philip/TankBind/dataset/test_dataset/processed/protein.pt', '/fs/pool/pool-marsot/tankbind_philip/TankBind/dataset/test_dataset/processed/compound.pt']\n"
     ]
    }
   ],
   "source": [
    "from data import TankBindDataLoader\n",
    "#dataset = TankBindDataSet(\"/fs/pool/pool-marsot/tankbind_philip/TankBind/tankbind/dataset/test_dataset\", \n",
    "#                          proteinMode=0, compoundMode=1, pocket_radius=20, predDis=True)\n",
    "#dataset = TankBindDataSet(\"/fs/pool/pool-marsot/tankbind_enzo/bind/dataset/test_dataset\", proteinMode=0,\n",
    "#                          compoundMode=1, pocket_radius=20, predDis=True)\n",
    "dataset = TankBindDataSet(test_dataset, proteinMode=0,\n",
    "                          compoundMode=1, pocket_radius=20, predDis=True)\n",
    "#Enzo : removed the following line\n",
    "#dataset.compound_dict = torch.load(f\"{result_folder}/pdbbind_test_compound_dict_based_on_rdkit.pt\")\n",
    "# dataset.data = dataset.data.query(\"not use_compound_com\").reset_index(drop=True)\n",
    "data_loader = TankBindDataLoader(dataset, batch_size=1, \n",
    "                         follow_batch=['x', 'y', 'compound_pair'], shuffle=False, num_workers=8, pin_memory=True)\n"
   ]
  },
  {
   "cell_type": "code",
   "execution_count": 39,
   "id": "dc91161b",
   "metadata": {},
   "outputs": [
    {
     "data": {
      "application/vnd.jupyter.widget-view+json": {
       "model_id": "b8f4e6be8b504531b92130b3d0ba9926",
       "version_major": 2,
       "version_minor": 0
      },
      "text/plain": [
       "  0%|          | 0/2879 [00:00<?, ?it/s]"
      ]
     },
     "metadata": {},
     "output_type": "display_data"
    },
    {
     "ename": "KeyboardInterrupt",
     "evalue": "",
     "output_type": "error",
     "traceback": [
      "\u001b[0;31m---------------------------------------------------------------------------\u001b[0m",
      "\u001b[0;31mKeyboardInterrupt\u001b[0m                         Traceback (most recent call last)",
      "Cell \u001b[0;32mIn[39], line 14\u001b[0m\n\u001b[1;32m     12\u001b[0m data \u001b[38;5;241m=\u001b[39m data\u001b[38;5;241m.\u001b[39mto(device)\n\u001b[1;32m     13\u001b[0m \u001b[38;5;28;01mwith\u001b[39;00m torch\u001b[38;5;241m.\u001b[39mno_grad():\n\u001b[0;32m---> 14\u001b[0m     y_pred, affinity_pred \u001b[38;5;241m=\u001b[39m \u001b[43mmodel\u001b[49m\u001b[43m(\u001b[49m\u001b[43mdata\u001b[49m\u001b[43m)\u001b[49m\n\u001b[1;32m     15\u001b[0m affinity_pred_list\u001b[38;5;241m.\u001b[39mappend(affinity_pred\u001b[38;5;241m.\u001b[39mdetach()\u001b[38;5;241m.\u001b[39mcpu())\n\u001b[1;32m     16\u001b[0m \u001b[38;5;28;01mfor\u001b[39;00m i \u001b[38;5;129;01min\u001b[39;00m \u001b[38;5;28mrange\u001b[39m(data\u001b[38;5;241m.\u001b[39my_batch\u001b[38;5;241m.\u001b[39mmax() \u001b[38;5;241m+\u001b[39m \u001b[38;5;241m1\u001b[39m):\n",
      "File \u001b[0;32m/fs/gpfs41/lv11/fileset01/pool/pool-marsot/.conda/envs/tankbind_py38_h100/lib/python3.8/site-packages/torch/nn/modules/module.py:1532\u001b[0m, in \u001b[0;36mModule._wrapped_call_impl\u001b[0;34m(self, *args, **kwargs)\u001b[0m\n\u001b[1;32m   1530\u001b[0m     \u001b[38;5;28;01mreturn\u001b[39;00m \u001b[38;5;28mself\u001b[39m\u001b[38;5;241m.\u001b[39m_compiled_call_impl(\u001b[38;5;241m*\u001b[39margs, \u001b[38;5;241m*\u001b[39m\u001b[38;5;241m*\u001b[39mkwargs)  \u001b[38;5;66;03m# type: ignore[misc]\u001b[39;00m\n\u001b[1;32m   1531\u001b[0m \u001b[38;5;28;01melse\u001b[39;00m:\n\u001b[0;32m-> 1532\u001b[0m     \u001b[38;5;28;01mreturn\u001b[39;00m \u001b[38;5;28;43mself\u001b[39;49m\u001b[38;5;241;43m.\u001b[39;49m\u001b[43m_call_impl\u001b[49m\u001b[43m(\u001b[49m\u001b[38;5;241;43m*\u001b[39;49m\u001b[43margs\u001b[49m\u001b[43m,\u001b[49m\u001b[43m \u001b[49m\u001b[38;5;241;43m*\u001b[39;49m\u001b[38;5;241;43m*\u001b[39;49m\u001b[43mkwargs\u001b[49m\u001b[43m)\u001b[49m\n",
      "File \u001b[0;32m/fs/gpfs41/lv11/fileset01/pool/pool-marsot/.conda/envs/tankbind_py38_h100/lib/python3.8/site-packages/torch/nn/modules/module.py:1541\u001b[0m, in \u001b[0;36mModule._call_impl\u001b[0;34m(self, *args, **kwargs)\u001b[0m\n\u001b[1;32m   1536\u001b[0m \u001b[38;5;66;03m# If we don't have any hooks, we want to skip the rest of the logic in\u001b[39;00m\n\u001b[1;32m   1537\u001b[0m \u001b[38;5;66;03m# this function, and just call forward.\u001b[39;00m\n\u001b[1;32m   1538\u001b[0m \u001b[38;5;28;01mif\u001b[39;00m \u001b[38;5;129;01mnot\u001b[39;00m (\u001b[38;5;28mself\u001b[39m\u001b[38;5;241m.\u001b[39m_backward_hooks \u001b[38;5;129;01mor\u001b[39;00m \u001b[38;5;28mself\u001b[39m\u001b[38;5;241m.\u001b[39m_backward_pre_hooks \u001b[38;5;129;01mor\u001b[39;00m \u001b[38;5;28mself\u001b[39m\u001b[38;5;241m.\u001b[39m_forward_hooks \u001b[38;5;129;01mor\u001b[39;00m \u001b[38;5;28mself\u001b[39m\u001b[38;5;241m.\u001b[39m_forward_pre_hooks\n\u001b[1;32m   1539\u001b[0m         \u001b[38;5;129;01mor\u001b[39;00m _global_backward_pre_hooks \u001b[38;5;129;01mor\u001b[39;00m _global_backward_hooks\n\u001b[1;32m   1540\u001b[0m         \u001b[38;5;129;01mor\u001b[39;00m _global_forward_hooks \u001b[38;5;129;01mor\u001b[39;00m _global_forward_pre_hooks):\n\u001b[0;32m-> 1541\u001b[0m     \u001b[38;5;28;01mreturn\u001b[39;00m \u001b[43mforward_call\u001b[49m\u001b[43m(\u001b[49m\u001b[38;5;241;43m*\u001b[39;49m\u001b[43margs\u001b[49m\u001b[43m,\u001b[49m\u001b[43m \u001b[49m\u001b[38;5;241;43m*\u001b[39;49m\u001b[38;5;241;43m*\u001b[39;49m\u001b[43mkwargs\u001b[49m\u001b[43m)\u001b[49m\n\u001b[1;32m   1543\u001b[0m \u001b[38;5;28;01mtry\u001b[39;00m:\n\u001b[1;32m   1544\u001b[0m     result \u001b[38;5;241m=\u001b[39m \u001b[38;5;28;01mNone\u001b[39;00m\n",
      "File \u001b[0;32m/fs/pool/pool-marsot/tankbind_philip/TankBind/tankbind/model.py:468\u001b[0m, in \u001b[0;36mTankBindModel.forward\u001b[0;34m(self, data)\u001b[0m\n\u001b[1;32m    466\u001b[0m             \u001b[38;5;28;01melse\u001b[39;00m:\n\u001b[1;32m    467\u001b[0m                 z \u001b[38;5;241m=\u001b[39m z \u001b[38;5;241m+\u001b[39m \u001b[38;5;28mself\u001b[39m\u001b[38;5;241m.\u001b[39mdropout(\u001b[38;5;28mself\u001b[39m\u001b[38;5;241m.\u001b[39mtriangle_self_attention_list[i_module](z, z_mask))\n\u001b[0;32m--> 468\u001b[0m             z \u001b[38;5;241m=\u001b[39m \u001b[38;5;28;43mself\u001b[39;49m\u001b[38;5;241;43m.\u001b[39;49m\u001b[43mtranistion\u001b[49m\u001b[43m(\u001b[49m\u001b[43mz\u001b[49m\u001b[43m)\u001b[49m\n\u001b[1;32m    469\u001b[0m \u001b[38;5;66;03m# batch_dim = z.shape[0]\u001b[39;00m\n\u001b[1;32m    471\u001b[0m b \u001b[38;5;241m=\u001b[39m \u001b[38;5;28mself\u001b[39m\u001b[38;5;241m.\u001b[39mlinear(z)\u001b[38;5;241m.\u001b[39msqueeze(\u001b[38;5;241m-\u001b[39m\u001b[38;5;241m1\u001b[39m)\n",
      "File \u001b[0;32m/fs/gpfs41/lv11/fileset01/pool/pool-marsot/.conda/envs/tankbind_py38_h100/lib/python3.8/site-packages/torch/nn/modules/module.py:1532\u001b[0m, in \u001b[0;36mModule._wrapped_call_impl\u001b[0;34m(self, *args, **kwargs)\u001b[0m\n\u001b[1;32m   1530\u001b[0m     \u001b[38;5;28;01mreturn\u001b[39;00m \u001b[38;5;28mself\u001b[39m\u001b[38;5;241m.\u001b[39m_compiled_call_impl(\u001b[38;5;241m*\u001b[39margs, \u001b[38;5;241m*\u001b[39m\u001b[38;5;241m*\u001b[39mkwargs)  \u001b[38;5;66;03m# type: ignore[misc]\u001b[39;00m\n\u001b[1;32m   1531\u001b[0m \u001b[38;5;28;01melse\u001b[39;00m:\n\u001b[0;32m-> 1532\u001b[0m     \u001b[38;5;28;01mreturn\u001b[39;00m \u001b[38;5;28;43mself\u001b[39;49m\u001b[38;5;241;43m.\u001b[39;49m\u001b[43m_call_impl\u001b[49m\u001b[43m(\u001b[49m\u001b[38;5;241;43m*\u001b[39;49m\u001b[43margs\u001b[49m\u001b[43m,\u001b[49m\u001b[43m \u001b[49m\u001b[38;5;241;43m*\u001b[39;49m\u001b[38;5;241;43m*\u001b[39;49m\u001b[43mkwargs\u001b[49m\u001b[43m)\u001b[49m\n",
      "File \u001b[0;32m/fs/gpfs41/lv11/fileset01/pool/pool-marsot/.conda/envs/tankbind_py38_h100/lib/python3.8/site-packages/torch/nn/modules/module.py:1541\u001b[0m, in \u001b[0;36mModule._call_impl\u001b[0;34m(self, *args, **kwargs)\u001b[0m\n\u001b[1;32m   1536\u001b[0m \u001b[38;5;66;03m# If we don't have any hooks, we want to skip the rest of the logic in\u001b[39;00m\n\u001b[1;32m   1537\u001b[0m \u001b[38;5;66;03m# this function, and just call forward.\u001b[39;00m\n\u001b[1;32m   1538\u001b[0m \u001b[38;5;28;01mif\u001b[39;00m \u001b[38;5;129;01mnot\u001b[39;00m (\u001b[38;5;28mself\u001b[39m\u001b[38;5;241m.\u001b[39m_backward_hooks \u001b[38;5;129;01mor\u001b[39;00m \u001b[38;5;28mself\u001b[39m\u001b[38;5;241m.\u001b[39m_backward_pre_hooks \u001b[38;5;129;01mor\u001b[39;00m \u001b[38;5;28mself\u001b[39m\u001b[38;5;241m.\u001b[39m_forward_hooks \u001b[38;5;129;01mor\u001b[39;00m \u001b[38;5;28mself\u001b[39m\u001b[38;5;241m.\u001b[39m_forward_pre_hooks\n\u001b[1;32m   1539\u001b[0m         \u001b[38;5;129;01mor\u001b[39;00m _global_backward_pre_hooks \u001b[38;5;129;01mor\u001b[39;00m _global_backward_hooks\n\u001b[1;32m   1540\u001b[0m         \u001b[38;5;129;01mor\u001b[39;00m _global_forward_hooks \u001b[38;5;129;01mor\u001b[39;00m _global_forward_pre_hooks):\n\u001b[0;32m-> 1541\u001b[0m     \u001b[38;5;28;01mreturn\u001b[39;00m \u001b[43mforward_call\u001b[49m\u001b[43m(\u001b[49m\u001b[38;5;241;43m*\u001b[39;49m\u001b[43margs\u001b[49m\u001b[43m,\u001b[49m\u001b[43m \u001b[49m\u001b[38;5;241;43m*\u001b[39;49m\u001b[38;5;241;43m*\u001b[39;49m\u001b[43mkwargs\u001b[49m\u001b[43m)\u001b[49m\n\u001b[1;32m   1543\u001b[0m \u001b[38;5;28;01mtry\u001b[39;00m:\n\u001b[1;32m   1544\u001b[0m     result \u001b[38;5;241m=\u001b[39m \u001b[38;5;28;01mNone\u001b[39;00m\n",
      "File \u001b[0;32m/fs/pool/pool-marsot/tankbind_philip/TankBind/tankbind/model.py:319\u001b[0m, in \u001b[0;36mTransition.forward\u001b[0;34m(self, z)\u001b[0m\n\u001b[1;32m    316\u001b[0m \u001b[38;5;28;01mdef\u001b[39;00m \u001b[38;5;21mforward\u001b[39m(\u001b[38;5;28mself\u001b[39m, z):\n\u001b[1;32m    317\u001b[0m     \u001b[38;5;66;03m# z of shape b, i, j, embedding_channels, where i is protein dim, j is compound dim.\u001b[39;00m\n\u001b[1;32m    318\u001b[0m     z \u001b[38;5;241m=\u001b[39m \u001b[38;5;28mself\u001b[39m\u001b[38;5;241m.\u001b[39mlayernorm(z)\n\u001b[0;32m--> 319\u001b[0m     z \u001b[38;5;241m=\u001b[39m \u001b[38;5;28;43mself\u001b[39;49m\u001b[38;5;241;43m.\u001b[39;49m\u001b[43mlinear2\u001b[49m\u001b[43m(\u001b[49m\u001b[43m(\u001b[49m\u001b[38;5;28;43mself\u001b[39;49m\u001b[38;5;241;43m.\u001b[39;49m\u001b[43mlinear1\u001b[49m\u001b[43m(\u001b[49m\u001b[43mz\u001b[49m\u001b[43m)\u001b[49m\u001b[43m)\u001b[49m\u001b[38;5;241;43m.\u001b[39;49m\u001b[43mrelu\u001b[49m\u001b[43m(\u001b[49m\u001b[43m)\u001b[49m\u001b[43m)\u001b[49m\n\u001b[1;32m    320\u001b[0m     \u001b[38;5;28;01mreturn\u001b[39;00m z\n",
      "File \u001b[0;32m/fs/gpfs41/lv11/fileset01/pool/pool-marsot/.conda/envs/tankbind_py38_h100/lib/python3.8/site-packages/torch/nn/modules/module.py:1532\u001b[0m, in \u001b[0;36mModule._wrapped_call_impl\u001b[0;34m(self, *args, **kwargs)\u001b[0m\n\u001b[1;32m   1530\u001b[0m     \u001b[38;5;28;01mreturn\u001b[39;00m \u001b[38;5;28mself\u001b[39m\u001b[38;5;241m.\u001b[39m_compiled_call_impl(\u001b[38;5;241m*\u001b[39margs, \u001b[38;5;241m*\u001b[39m\u001b[38;5;241m*\u001b[39mkwargs)  \u001b[38;5;66;03m# type: ignore[misc]\u001b[39;00m\n\u001b[1;32m   1531\u001b[0m \u001b[38;5;28;01melse\u001b[39;00m:\n\u001b[0;32m-> 1532\u001b[0m     \u001b[38;5;28;01mreturn\u001b[39;00m \u001b[38;5;28;43mself\u001b[39;49m\u001b[38;5;241;43m.\u001b[39;49m\u001b[43m_call_impl\u001b[49m\u001b[43m(\u001b[49m\u001b[38;5;241;43m*\u001b[39;49m\u001b[43margs\u001b[49m\u001b[43m,\u001b[49m\u001b[43m \u001b[49m\u001b[38;5;241;43m*\u001b[39;49m\u001b[38;5;241;43m*\u001b[39;49m\u001b[43mkwargs\u001b[49m\u001b[43m)\u001b[49m\n",
      "File \u001b[0;32m/fs/gpfs41/lv11/fileset01/pool/pool-marsot/.conda/envs/tankbind_py38_h100/lib/python3.8/site-packages/torch/nn/modules/module.py:1541\u001b[0m, in \u001b[0;36mModule._call_impl\u001b[0;34m(self, *args, **kwargs)\u001b[0m\n\u001b[1;32m   1536\u001b[0m \u001b[38;5;66;03m# If we don't have any hooks, we want to skip the rest of the logic in\u001b[39;00m\n\u001b[1;32m   1537\u001b[0m \u001b[38;5;66;03m# this function, and just call forward.\u001b[39;00m\n\u001b[1;32m   1538\u001b[0m \u001b[38;5;28;01mif\u001b[39;00m \u001b[38;5;129;01mnot\u001b[39;00m (\u001b[38;5;28mself\u001b[39m\u001b[38;5;241m.\u001b[39m_backward_hooks \u001b[38;5;129;01mor\u001b[39;00m \u001b[38;5;28mself\u001b[39m\u001b[38;5;241m.\u001b[39m_backward_pre_hooks \u001b[38;5;129;01mor\u001b[39;00m \u001b[38;5;28mself\u001b[39m\u001b[38;5;241m.\u001b[39m_forward_hooks \u001b[38;5;129;01mor\u001b[39;00m \u001b[38;5;28mself\u001b[39m\u001b[38;5;241m.\u001b[39m_forward_pre_hooks\n\u001b[1;32m   1539\u001b[0m         \u001b[38;5;129;01mor\u001b[39;00m _global_backward_pre_hooks \u001b[38;5;129;01mor\u001b[39;00m _global_backward_hooks\n\u001b[1;32m   1540\u001b[0m         \u001b[38;5;129;01mor\u001b[39;00m _global_forward_hooks \u001b[38;5;129;01mor\u001b[39;00m _global_forward_pre_hooks):\n\u001b[0;32m-> 1541\u001b[0m     \u001b[38;5;28;01mreturn\u001b[39;00m \u001b[43mforward_call\u001b[49m\u001b[43m(\u001b[49m\u001b[38;5;241;43m*\u001b[39;49m\u001b[43margs\u001b[49m\u001b[43m,\u001b[49m\u001b[43m \u001b[49m\u001b[38;5;241;43m*\u001b[39;49m\u001b[38;5;241;43m*\u001b[39;49m\u001b[43mkwargs\u001b[49m\u001b[43m)\u001b[49m\n\u001b[1;32m   1543\u001b[0m \u001b[38;5;28;01mtry\u001b[39;00m:\n\u001b[1;32m   1544\u001b[0m     result \u001b[38;5;241m=\u001b[39m \u001b[38;5;28;01mNone\u001b[39;00m\n",
      "File \u001b[0;32m/fs/gpfs41/lv11/fileset01/pool/pool-marsot/.conda/envs/tankbind_py38_h100/lib/python3.8/site-packages/torch/nn/modules/linear.py:116\u001b[0m, in \u001b[0;36mLinear.forward\u001b[0;34m(self, input)\u001b[0m\n\u001b[1;32m    115\u001b[0m \u001b[38;5;28;01mdef\u001b[39;00m \u001b[38;5;21mforward\u001b[39m(\u001b[38;5;28mself\u001b[39m, \u001b[38;5;28minput\u001b[39m: Tensor) \u001b[38;5;241m-\u001b[39m\u001b[38;5;241m>\u001b[39m Tensor:\n\u001b[0;32m--> 116\u001b[0m     \u001b[38;5;28;01mreturn\u001b[39;00m F\u001b[38;5;241m.\u001b[39mlinear(\u001b[38;5;28minput\u001b[39m, \u001b[38;5;28mself\u001b[39m\u001b[38;5;241m.\u001b[39mweight, \u001b[38;5;28;43mself\u001b[39;49m\u001b[38;5;241;43m.\u001b[39;49m\u001b[43mbias\u001b[49m)\n",
      "File \u001b[0;32m/fs/gpfs41/lv11/fileset01/pool/pool-marsot/.conda/envs/tankbind_py38_h100/lib/python3.8/site-packages/torch/nn/modules/module.py:1697\u001b[0m, in \u001b[0;36mModule.__getattr__\u001b[0;34m(self, name)\u001b[0m\n\u001b[1;32m   1696\u001b[0m \u001b[38;5;28;01mdef\u001b[39;00m \u001b[38;5;21m__getattr__\u001b[39m(\u001b[38;5;28mself\u001b[39m, name: \u001b[38;5;28mstr\u001b[39m) \u001b[38;5;241m-\u001b[39m\u001b[38;5;241m>\u001b[39m Any:\n\u001b[0;32m-> 1697\u001b[0m     \u001b[38;5;28;01mif\u001b[39;00m \u001b[38;5;124;43m'\u001b[39;49m\u001b[38;5;124;43m_parameters\u001b[39;49m\u001b[38;5;124;43m'\u001b[39;49m\u001b[43m \u001b[49m\u001b[38;5;129;43;01min\u001b[39;49;00m\u001b[43m \u001b[49m\u001b[38;5;28;43mself\u001b[39;49m\u001b[38;5;241;43m.\u001b[39;49m\u001b[38;5;18;43m__dict__\u001b[39;49m:\n\u001b[1;32m   1698\u001b[0m         _parameters \u001b[38;5;241m=\u001b[39m \u001b[38;5;28mself\u001b[39m\u001b[38;5;241m.\u001b[39m\u001b[38;5;18m__dict__\u001b[39m[\u001b[38;5;124m'\u001b[39m\u001b[38;5;124m_parameters\u001b[39m\u001b[38;5;124m'\u001b[39m]\n\u001b[1;32m   1699\u001b[0m         \u001b[38;5;28;01mif\u001b[39;00m name \u001b[38;5;129;01min\u001b[39;00m _parameters:\n",
      "\u001b[0;31mKeyboardInterrupt\u001b[0m: "
     ]
    }
   ],
   "source": [
    "# device = 'cpu'\n",
    "device = \"cuda:0\"\n",
    "logging.basicConfig(level=logging.INFO)\n",
    "# model = get_model(0, logging, device)\n",
    "model.eval()\n",
    "model.to(device)\n",
    "# model.load_state_dict(torch.load(f\"/fs/pool/pool-marsot/tankbind_philip/TankBind/tankbind/result/2024_07_03_21_19/model_119.pt\"))\n",
    "\n",
    "affinity_pred_list = []\n",
    "y_pred_list = []\n",
    "for data in tqdm(data_loader):\n",
    "    data = data.to(device)\n",
    "    with torch.no_grad():\n",
    "        y_pred, affinity_pred = model(data)\n",
    "    affinity_pred_list.append(affinity_pred.detach().cpu())\n",
    "    for i in range(data.y_batch.max() + 1):\n",
    "        y_pred_list.append((y_pred[data['y_batch'] == i]).detach().cpu())\n",
    "\n",
    "affinity_pred_list = torch.cat(affinity_pred_list)"
   ]
  },
  {
   "cell_type": "code",
   "execution_count": null,
   "id": "59b303dd",
   "metadata": {},
   "outputs": [],
   "source": [
    "output_info_chosen = dataset.data\n",
    "output_info_chosen['affinity'] = affinity_pred_list\n",
    "output_info_chosen['dataset_index'] = range(len(output_info_chosen))\n",
    "output_info_chosen = output_info_chosen.query(\"not use_compound_com\").reset_index(drop=True)\n",
    "\n",
    "chosen = output_info_chosen.loc[output_info_chosen.groupby(['protein_name', 'compound_name'], \n",
    "                                                           sort=False)['affinity'].agg('idxmax')].reset_index()"
   ]
  },
  {
   "cell_type": "code",
   "execution_count": 40,
   "id": "2b56b017",
   "metadata": {},
   "outputs": [
    {
     "data": {
      "text/html": [
       "<div>\n",
       "<style scoped>\n",
       "    .dataframe tbody tr th:only-of-type {\n",
       "        vertical-align: middle;\n",
       "    }\n",
       "\n",
       "    .dataframe tbody tr th {\n",
       "        vertical-align: top;\n",
       "    }\n",
       "\n",
       "    .dataframe thead th {\n",
       "        text-align: right;\n",
       "    }\n",
       "</style>\n",
       "<table border=\"1\" class=\"dataframe\">\n",
       "  <thead>\n",
       "    <tr style=\"text-align: right;\">\n",
       "      <th></th>\n",
       "      <th>index</th>\n",
       "      <th>protein_name</th>\n",
       "      <th>compound_name</th>\n",
       "      <th>pdb</th>\n",
       "      <th>smiles</th>\n",
       "      <th>affinity</th>\n",
       "      <th>uid</th>\n",
       "      <th>pocket_com</th>\n",
       "      <th>use_compound_com</th>\n",
       "      <th>use_whole_protein</th>\n",
       "      <th>group</th>\n",
       "      <th>p_length</th>\n",
       "      <th>c_length</th>\n",
       "      <th>y_length</th>\n",
       "      <th>num_contact</th>\n",
       "      <th>native_num_contact</th>\n",
       "      <th>dataset_index</th>\n",
       "    </tr>\n",
       "  </thead>\n",
       "  <tbody>\n",
       "    <tr>\n",
       "      <th>0</th>\n",
       "      <td>3</td>\n",
       "      <td>6h9v</td>\n",
       "      <td>6h9v</td>\n",
       "      <td>6h9v_2</td>\n",
       "      <td></td>\n",
       "      <td>14.516186</td>\n",
       "      <td>B5BTR7</td>\n",
       "      <td>[[18.2234, -7.3891, 59.1918]]</td>\n",
       "      <td>False</td>\n",
       "      <td>False</td>\n",
       "      <td>test</td>\n",
       "      <td>150</td>\n",
       "      <td>12</td>\n",
       "      <td>1800</td>\n",
       "      <td>0</td>\n",
       "      <td>78</td>\n",
       "      <td>4</td>\n",
       "    </tr>\n",
       "    <tr>\n",
       "      <th>1</th>\n",
       "      <td>14</td>\n",
       "      <td>6k2n</td>\n",
       "      <td>6k2n</td>\n",
       "      <td>6k2n_2</td>\n",
       "      <td></td>\n",
       "      <td>11.205706</td>\n",
       "      <td>E2EA82</td>\n",
       "      <td>[[-13.9865, 22.3949, -5.1347]]</td>\n",
       "      <td>False</td>\n",
       "      <td>False</td>\n",
       "      <td>test</td>\n",
       "      <td>122</td>\n",
       "      <td>40</td>\n",
       "      <td>4880</td>\n",
       "      <td>77</td>\n",
       "      <td>100</td>\n",
       "      <td>16</td>\n",
       "    </tr>\n",
       "    <tr>\n",
       "      <th>2</th>\n",
       "      <td>26</td>\n",
       "      <td>6g24</td>\n",
       "      <td>6g24</td>\n",
       "      <td>6g24_3</td>\n",
       "      <td></td>\n",
       "      <td>9.204308</td>\n",
       "      <td>Q9BZ95</td>\n",
       "      <td>[[-19.6153, -16.7561, 16.1047]]</td>\n",
       "      <td>False</td>\n",
       "      <td>False</td>\n",
       "      <td>test</td>\n",
       "      <td>75</td>\n",
       "      <td>16</td>\n",
       "      <td>1200</td>\n",
       "      <td>102</td>\n",
       "      <td>126</td>\n",
       "      <td>29</td>\n",
       "    </tr>\n",
       "    <tr>\n",
       "      <th>3</th>\n",
       "      <td>31</td>\n",
       "      <td>6quw</td>\n",
       "      <td>6quw</td>\n",
       "      <td>6quw_3</td>\n",
       "      <td></td>\n",
       "      <td>14.104694</td>\n",
       "      <td>P01116</td>\n",
       "      <td>[[8.6896, -23.8883, 22.6133]]</td>\n",
       "      <td>False</td>\n",
       "      <td>False</td>\n",
       "      <td>test</td>\n",
       "      <td>134</td>\n",
       "      <td>16</td>\n",
       "      <td>2144</td>\n",
       "      <td>102</td>\n",
       "      <td>123</td>\n",
       "      <td>35</td>\n",
       "    </tr>\n",
       "    <tr>\n",
       "      <th>4</th>\n",
       "      <td>34</td>\n",
       "      <td>6quv</td>\n",
       "      <td>6quv</td>\n",
       "      <td>6quv_0</td>\n",
       "      <td></td>\n",
       "      <td>12.273392</td>\n",
       "      <td>P01116</td>\n",
       "      <td>[[7.2021, -27.9503, 14.9458]]</td>\n",
       "      <td>False</td>\n",
       "      <td>False</td>\n",
       "      <td>test</td>\n",
       "      <td>122</td>\n",
       "      <td>26</td>\n",
       "      <td>3172</td>\n",
       "      <td>105</td>\n",
       "      <td>160</td>\n",
       "      <td>39</td>\n",
       "    </tr>\n",
       "    <tr>\n",
       "      <th>...</th>\n",
       "      <td>...</td>\n",
       "      <td>...</td>\n",
       "      <td>...</td>\n",
       "      <td>...</td>\n",
       "      <td>...</td>\n",
       "      <td>...</td>\n",
       "      <td>...</td>\n",
       "      <td>...</td>\n",
       "      <td>...</td>\n",
       "      <td>...</td>\n",
       "      <td>...</td>\n",
       "      <td>...</td>\n",
       "      <td>...</td>\n",
       "      <td>...</td>\n",
       "      <td>...</td>\n",
       "      <td>...</td>\n",
       "      <td>...</td>\n",
       "    </tr>\n",
       "    <tr>\n",
       "      <th>358</th>\n",
       "      <td>2505</td>\n",
       "      <td>6oxr</td>\n",
       "      <td>6oxr</td>\n",
       "      <td>6oxr_c</td>\n",
       "      <td></td>\n",
       "      <td>15.907000</td>\n",
       "      <td>Q8ULI9</td>\n",
       "      <td>[[71.05784606933594, 59.704566955566406, 12.26...</td>\n",
       "      <td>False</td>\n",
       "      <td>False</td>\n",
       "      <td>test</td>\n",
       "      <td>150</td>\n",
       "      <td>40</td>\n",
       "      <td>6000</td>\n",
       "      <td>388</td>\n",
       "      <td>388</td>\n",
       "      <td>2864</td>\n",
       "    </tr>\n",
       "    <tr>\n",
       "      <th>359</th>\n",
       "      <td>2507</td>\n",
       "      <td>6oxw</td>\n",
       "      <td>6oxw</td>\n",
       "      <td>6oxw_c</td>\n",
       "      <td></td>\n",
       "      <td>15.857277</td>\n",
       "      <td>Q8ULI9</td>\n",
       "      <td>[[71.29326629638672, 59.908729553222656, 12.24...</td>\n",
       "      <td>False</td>\n",
       "      <td>False</td>\n",
       "      <td>test</td>\n",
       "      <td>150</td>\n",
       "      <td>42</td>\n",
       "      <td>6300</td>\n",
       "      <td>409</td>\n",
       "      <td>409</td>\n",
       "      <td>2867</td>\n",
       "    </tr>\n",
       "    <tr>\n",
       "      <th>360</th>\n",
       "      <td>2509</td>\n",
       "      <td>6oxv</td>\n",
       "      <td>6oxv</td>\n",
       "      <td>6oxv_c</td>\n",
       "      <td></td>\n",
       "      <td>15.847820</td>\n",
       "      <td>Q8ULI9</td>\n",
       "      <td>[[71.24668884277344, 59.80076217651367, 12.263...</td>\n",
       "      <td>False</td>\n",
       "      <td>False</td>\n",
       "      <td>test</td>\n",
       "      <td>150</td>\n",
       "      <td>42</td>\n",
       "      <td>6300</td>\n",
       "      <td>403</td>\n",
       "      <td>403</td>\n",
       "      <td>2870</td>\n",
       "    </tr>\n",
       "    <tr>\n",
       "      <th>361</th>\n",
       "      <td>2511</td>\n",
       "      <td>6oxp</td>\n",
       "      <td>6oxp</td>\n",
       "      <td>6oxp_c</td>\n",
       "      <td></td>\n",
       "      <td>15.954771</td>\n",
       "      <td>Q8ULI9</td>\n",
       "      <td>[[71.31407165527344, 59.1562614440918, 12.4932...</td>\n",
       "      <td>False</td>\n",
       "      <td>False</td>\n",
       "      <td>test</td>\n",
       "      <td>149</td>\n",
       "      <td>40</td>\n",
       "      <td>5960</td>\n",
       "      <td>391</td>\n",
       "      <td>391</td>\n",
       "      <td>2873</td>\n",
       "    </tr>\n",
       "    <tr>\n",
       "      <th>362</th>\n",
       "      <td>2513</td>\n",
       "      <td>6oxq</td>\n",
       "      <td>6oxq</td>\n",
       "      <td>6oxq_c</td>\n",
       "      <td></td>\n",
       "      <td>15.944096</td>\n",
       "      <td>Q8ULI9</td>\n",
       "      <td>[[71.19599151611328, 59.35736846923828, 12.545...</td>\n",
       "      <td>False</td>\n",
       "      <td>False</td>\n",
       "      <td>test</td>\n",
       "      <td>150</td>\n",
       "      <td>41</td>\n",
       "      <td>6150</td>\n",
       "      <td>396</td>\n",
       "      <td>396</td>\n",
       "      <td>2876</td>\n",
       "    </tr>\n",
       "  </tbody>\n",
       "</table>\n",
       "<p>363 rows × 17 columns</p>\n",
       "</div>"
      ],
      "text/plain": [
       "     index protein_name compound_name     pdb smiles   affinity     uid  \\\n",
       "0        3         6h9v          6h9v  6h9v_2         14.516186  B5BTR7   \n",
       "1       14         6k2n          6k2n  6k2n_2         11.205706  E2EA82   \n",
       "2       26         6g24          6g24  6g24_3          9.204308  Q9BZ95   \n",
       "3       31         6quw          6quw  6quw_3         14.104694  P01116   \n",
       "4       34         6quv          6quv  6quv_0         12.273392  P01116   \n",
       "..     ...          ...           ...     ...    ...        ...     ...   \n",
       "358   2505         6oxr          6oxr  6oxr_c         15.907000  Q8ULI9   \n",
       "359   2507         6oxw          6oxw  6oxw_c         15.857277  Q8ULI9   \n",
       "360   2509         6oxv          6oxv  6oxv_c         15.847820  Q8ULI9   \n",
       "361   2511         6oxp          6oxp  6oxp_c         15.954771  Q8ULI9   \n",
       "362   2513         6oxq          6oxq  6oxq_c         15.944096  Q8ULI9   \n",
       "\n",
       "                                            pocket_com  use_compound_com  \\\n",
       "0                        [[18.2234, -7.3891, 59.1918]]             False   \n",
       "1                       [[-13.9865, 22.3949, -5.1347]]             False   \n",
       "2                      [[-19.6153, -16.7561, 16.1047]]             False   \n",
       "3                        [[8.6896, -23.8883, 22.6133]]             False   \n",
       "4                        [[7.2021, -27.9503, 14.9458]]             False   \n",
       "..                                                 ...               ...   \n",
       "358  [[71.05784606933594, 59.704566955566406, 12.26...             False   \n",
       "359  [[71.29326629638672, 59.908729553222656, 12.24...             False   \n",
       "360  [[71.24668884277344, 59.80076217651367, 12.263...             False   \n",
       "361  [[71.31407165527344, 59.1562614440918, 12.4932...             False   \n",
       "362  [[71.19599151611328, 59.35736846923828, 12.545...             False   \n",
       "\n",
       "     use_whole_protein group  p_length  c_length  y_length  num_contact  \\\n",
       "0                False  test       150        12      1800            0   \n",
       "1                False  test       122        40      4880           77   \n",
       "2                False  test        75        16      1200          102   \n",
       "3                False  test       134        16      2144          102   \n",
       "4                False  test       122        26      3172          105   \n",
       "..                 ...   ...       ...       ...       ...          ...   \n",
       "358              False  test       150        40      6000          388   \n",
       "359              False  test       150        42      6300          409   \n",
       "360              False  test       150        42      6300          403   \n",
       "361              False  test       149        40      5960          391   \n",
       "362              False  test       150        41      6150          396   \n",
       "\n",
       "     native_num_contact  dataset_index  \n",
       "0                    78              4  \n",
       "1                   100             16  \n",
       "2                   126             29  \n",
       "3                   123             35  \n",
       "4                   160             39  \n",
       "..                  ...            ...  \n",
       "358                 388           2864  \n",
       "359                 409           2867  \n",
       "360                 403           2870  \n",
       "361                 391           2873  \n",
       "362                 396           2876  \n",
       "\n",
       "[363 rows x 17 columns]"
      ]
     },
     "execution_count": 40,
     "metadata": {},
     "output_type": "execute_result"
    }
   ],
   "source": [
    "chosen"
   ]
  },
  {
   "cell_type": "code",
   "execution_count": 41,
   "id": "f552316b",
   "metadata": {},
   "outputs": [],
   "source": [
    "import contextlib\n",
    "from typing import Any, Callable, Generator, Iterable\n",
    "\n",
    "import joblib\n",
    "from joblib import Parallel, delayed\n",
    "from tqdm import tqdm\n",
    "@contextlib.contextmanager\n",
    "def tqdm_joblib(tqdm_object: tqdm) -> Generator[tqdm, None, None]:\n",
    "    \"\"\"Context manager to patch joblib to report into tqdm progress bar.\n",
    "    The code for the context manager is adapted from a Stack Overflow answer:\n",
    "    https://stackoverflow.com/a/58936697\n",
    "    Args:\n",
    "        tqdm_object (tqdm): The tqdm object that will display the progress.\n",
    "    Yields:\n",
    "        tqdm_object (tqdm): The same tqdm object, after joblib has been patched.\n",
    "    Example:\n",
    "        with tqdm_joblib(tqdm(total=10)) as progress_bar:\n",
    "            # joblib code here\n",
    "    \"\"\"\n",
    "    class TqdmBatchCompletionCallback(joblib.parallel.BatchCompletionCallBack):\n",
    "        \"\"\"Inner callback class for updating tqdm progress during joblib execution.\"\"\"\n",
    "        def __init__(self, *args: Any, **kwargs: Any) -> None:\n",
    "            \"\"\"Initialize the callback, forwarding arguments to the parent class.\"\"\"\n",
    "            super().__init__(*args, **kwargs)\n",
    "        def __call__(self, *args: Any, **kwargs: Any) -> None:\n",
    "            \"\"\"Update tqdm progress upon batch completion.\"\"\"\n",
    "            tqdm_object.update(n=self.batch_size)\n",
    "            return super().__call__(*args, **kwargs)\n",
    "    old_batch_callback = joblib.parallel.BatchCompletionCallBack\n",
    "    joblib.parallel.BatchCompletionCallBack = TqdmBatchCompletionCallback\n",
    "    try:\n",
    "        yield tqdm_object\n",
    "    finally:\n",
    "        joblib.parallel.BatchCompletionCallBack = old_batch_callback\n",
    "        tqdm_object.close()\n",
    "def distribute_function(\n",
    "    func: Callable,\n",
    "    X: Iterable,\n",
    "    n_jobs: int,\n",
    "    description: str = \"\",\n",
    "    total: int = 1,\n",
    "    use_enumerate: bool = False,\n",
    "    **kwargs,\n",
    ") -> Any:\n",
    "    \"\"\"Distributes function `func` over iterable `X` using `n_jobs` cores.\n",
    "    Args:\n",
    "        func (Callable): function to be distributed\n",
    "        X (Iterable): iterable over which the function is distributed\n",
    "        n_jobs (int): number of cores to use\n",
    "        description (str, optional): Description of the progress. Defaults to \"\".\n",
    "        total (int, optional): Total number of elements in `X`. Defaults to 1.\n",
    "    Returns:\n",
    "        Any: result of the `func` applied to `X`.\n",
    "    \"\"\"\n",
    "    if total == 1:\n",
    "        total = len(X)  # type: ignore\n",
    "    with tqdm_joblib(tqdm(desc=description, total=total)):\n",
    "        if use_enumerate:\n",
    "            Xt = Parallel(n_jobs=n_jobs, prefer=\"threads\")(\n",
    "                delayed(func)(idx, x, **kwargs) for idx, x in enumerate(X)\n",
    "            )\n",
    "        else:\n",
    "            Xt = Parallel(n_jobs=n_jobs, prefer=\"threads\")(\n",
    "                delayed(func)(x, **kwargs) for x in X\n",
    "            )\n",
    "    return Xt\n"
   ]
  },
  {
   "cell_type": "code",
   "execution_count": 21,
   "id": "72f22fa6",
   "metadata": {},
   "outputs": [
    {
     "name": "stderr",
     "output_type": "stream",
     "text": [
      "Generating new coordinates:   0%|                                                                                                                                                | 0/363 [00:00<?, ?it/s]"
     ]
    },
    {
     "name": "stderr",
     "output_type": "stream",
     "text": [
      "Generating new coordinates:  51%|███████████████████████████████████████████████████████████████████▉                                                                  | 184/363 [31:43<12:09,  4.08s/it]"
     ]
    }
   ],
   "source": [
    "from generation_utils import get_LAS_distance_constraint_mask, get_info_pred_distance, write_with_new_coords\n",
    "\n",
    "device = \"cpu\"\n",
    "#added by Enzo\n",
    "def process_coords(index_line):\n",
    "    index,line = index_line\n",
    "    name = compound_name = line['compound_name']\n",
    "    dataset_index = line['dataset_index']\n",
    "    coords = dataset[dataset_index].coords.to(device)\n",
    "    protein_nodes_xyz = dataset[dataset_index].node_xyz.to(device)\n",
    "    n_compound = coords.shape[0]\n",
    "    n_protein = protein_nodes_xyz.shape[0]\n",
    "    y_pred = y_pred_list[dataset_index].reshape(n_protein, n_compound).to(device)\n",
    "    y = dataset[dataset_index].dis_map.reshape(n_protein, n_compound).to(device)\n",
    "    compound_pair_dis_constraint = torch.cdist(coords, coords)\n",
    "    rdkit_mol_path = f\"{rdkit_folder}/{name}_ligand.sdf\"\n",
    "    # mol = Chem.MolFromMolFile(rdkit_mol_path)\n",
    "    mol, _ = read_mol(rdkit_mol_path, None)\n",
    "    LAS_distance_constraint_mask = get_LAS_distance_constraint_mask(mol).bool()\n",
    "    pred_dist_info = get_info_pred_distance(coords, y_pred, protein_nodes_xyz, compound_pair_dis_constraint,\n",
    "                                  LAS_distance_constraint_mask=LAS_distance_constraint_mask,\n",
    "                                  n_repeat=1, show_progress=False)\n",
    "\n",
    "    toFile = f'{result_folder}/{name}_tankbind_chosen.sdf'\n",
    "    new_coords = pred_dist_info.sort_values(\"loss\")['coords'].iloc[0].astype(np.double)\n",
    "    write_with_new_coords(mol, new_coords, toFile)\n",
    "\n",
    "distribute_function(process_coords, chosen.iterrows(), n_jobs=8, description=\"Generating new coordinates\", total=chosen.shape[0])\n",
    "\n",
    "# for idx, line in tqdm(chosen.iterrows(), total=chosen.shape[0]):\n",
    "#     name = compound_name = line['compound_name']\n",
    "#     dataset_index = line['dataset_index']\n",
    "#     coords = dataset[dataset_index].coords.to(device)\n",
    "#     protein_nodes_xyz = dataset[dataset_index].node_xyz.to(device)\n",
    "#     n_compound = coords.shape[0]\n",
    "#     n_protein = protein_nodes_xyz.shape[0]\n",
    "#     y_pred = y_pred_list[dataset_index].reshape(n_protein, n_compound).to(device)\n",
    "#     y = dataset[dataset_index].dis_map.reshape(n_protein, n_compound).to(device)\n",
    "#     compound_pair_dis_constraint = torch.cdist(coords, coords)\n",
    "#     rdkit_mol_path = f\"{rdkit_folder}/{name}_ligand.sdf\"\n",
    "#     # mol = Chem.MolFromMolFile(rdkit_mol_path)\n",
    "#     mol, _ = read_mol(rdkit_mol_path, None)\n",
    "#     LAS_distance_constraint_mask = get_LAS_distance_constraint_mask(mol).bool()\n",
    "#     pred_dist_info = get_info_pred_distance(coords, y_pred, protein_nodes_xyz, compound_pair_dis_constraint,\n",
    "#                                   LAS_distance_constraint_mask=LAS_distance_constraint_mask,\n",
    "#                                   n_repeat=1, show_progress=False)\n",
    "\n",
    "#     toFile = f'{result_folder}/{name}_tankbind_chosen.sdf'\n",
    "#     new_coords = pred_dist_info.sort_values(\"loss\")['coords'].iloc[0].astype(np.double)\n",
    "#     write_with_new_coords(mol, new_coords, toFile)\n",
    "\n"
   ]
  },
  {
   "cell_type": "code",
   "execution_count": 43,
   "id": "38d462fb",
   "metadata": {},
   "outputs": [],
   "source": [
    "# taken from https://github.com/nghiaho12/rigid_transform_3D/blob/master/rigid_transform_3D.py\n",
    "# \"Least-Squares Fitting of Two 3-D Point Sets\", Arun, K. S. and Huang, T. S. and Blostein, S. D, IEEE Transactions on Pattern Analysis and Machine Intelligence, Volume 9 Issue 5, May 1987\n",
    "# Input: expects 3xN matrix of points\n",
    "# Returns R,t\n",
    "# R = 3x3 rotation matrix\n",
    "# t = 3x1 column vector\n",
    "\n",
    "def rigid_transform_3D(A, B, correct_reflection=True):\n",
    "    assert A.shape == B.shape\n",
    "\n",
    "    num_rows, num_cols = A.shape\n",
    "    if num_rows != 3:\n",
    "        raise Exception(f\"matrix A is not 3xN, it is {num_rows}x{num_cols}\")\n",
    "\n",
    "    num_rows, num_cols = B.shape\n",
    "    if num_rows != 3:\n",
    "        raise Exception(f\"matrix B is not 3xN, it is {num_rows}x{num_cols}\")\n",
    "\n",
    "    # find mean column wise\n",
    "    centroid_A = np.mean(A, axis=1)\n",
    "    centroid_B = np.mean(B, axis=1)\n",
    "\n",
    "    # ensure centroids are 3x1\n",
    "    centroid_A = centroid_A.reshape(-1, 1)\n",
    "    centroid_B = centroid_B.reshape(-1, 1)\n",
    "\n",
    "    # subtract mean\n",
    "    Am = A - centroid_A\n",
    "    Bm = B - centroid_B\n",
    "\n",
    "    H = Am @ np.transpose(Bm)\n",
    "\n",
    "    # sanity check\n",
    "    #if linalg.matrix_rank(H) < 3:\n",
    "    #    raise ValueError(\"rank of H = {}, expecting 3\".format(linalg.matrix_rank(H)))\n",
    "\n",
    "    # find rotation\n",
    "    U, S, Vt = np.linalg.svd(H)\n",
    "    R = Vt.T @ U.T\n",
    "\n",
    "    # special reflection case\n",
    "    if np.linalg.det(R) < 0 and correct_reflection:\n",
    "        print(\"det(R) < R, reflection detected!, correcting for it ...\")\n",
    "        Vt[2,:] *= -1\n",
    "        R = Vt.T @ U.T\n",
    "\n",
    "    t = -R @ centroid_A + centroid_B\n",
    "\n",
    "    return R, t\n",
    "\n",
    "def compute_RMSD(a, b):\n",
    "    # correct rmsd calculation.\n",
    "    return np.sqrt((((a-b)**2).sum(axis=-1)).mean())\n",
    "\n",
    "def kabsch_RMSD(new_coords, coords):\n",
    "    out = new_coords.T\n",
    "    target = coords.T\n",
    "    ret_R, ret_t = rigid_transform_3D(out, target, correct_reflection=False)\n",
    "    out = (ret_R@out) + ret_t\n",
    "    return compute_RMSD(target.T, out.T)"
   ]
  },
  {
   "cell_type": "code",
   "execution_count": 44,
   "id": "d1d9e28f",
   "metadata": {},
   "outputs": [],
   "source": [
    "info = []\n",
    "pre = \"/gxr/luwei/pdbbind/pdbbind2020\"\n",
    "test = np.loadtxt(\"/fs/pool/pool-marsot/tankbind_philip/TankBind/packages/EquiBind/data/timesplit_test\", dtype=str)\n",
    "for pdb in test:\n",
    "    mol, _ = read_mol(f\"/fs/pool/pool-marsot/tankbind_philip/TankBind/data/renumber_atom_index_same_as_smiles/{pdb}.sdf\", None)\n",
    "    mol_pred, _ = read_mol(f\"{result_folder}/{pdb}_tankbind_chosen.sdf\", None)\n",
    "    # mol = Chem.MolFromMolFile(f\"{pre}/renumber_atom_index_same_as_smiles/{pdb}.sdf\")\n",
    "    # mol_pred = Chem.MolFromMolFile(f\"{result_folder}/{pdb}_tankbind_chosen.sdf\")\n",
    "\n",
    "    sm = Chem.MolToSmiles(mol)\n",
    "    m_order = list(mol.GetPropsAsDict(includePrivate=True, includeComputed=True)['_smilesAtomOutputOrder'])\n",
    "    mol = Chem.RenumberAtoms(mol, m_order)\n",
    "    mol = Chem.RemoveHs(mol)\n",
    "    true_ligand_pos = np.array(mol.GetConformer().GetPositions())\n",
    "\n",
    "    sm = Chem.MolToSmiles(mol_pred)\n",
    "    m_order = list(mol_pred.GetPropsAsDict(includePrivate=True, includeComputed=True)['_smilesAtomOutputOrder'])\n",
    "    mol_pred = Chem.RenumberAtoms(mol_pred, m_order)\n",
    "    mol_pred = Chem.RemoveHs(mol_pred)\n",
    "    mol_pred_pos = np.array(mol_pred.GetConformer().GetPositions())\n",
    "\n",
    "    rmsd = np.sqrt(((true_ligand_pos - mol_pred_pos) ** 2).sum(axis=1).mean(axis=0))\n",
    "    kabsch = kabsch_RMSD(mol_pred_pos, true_ligand_pos)\n",
    "    com_dist = compute_RMSD(mol_pred_pos.mean(axis=0), true_ligand_pos.mean(axis=0))\n",
    "    info.append([pdb, rmsd, com_dist, kabsch])\n"
   ]
  },
  {
   "cell_type": "code",
   "execution_count": 45,
   "id": "392a3e0e",
   "metadata": {},
   "outputs": [],
   "source": [
    "# custom description function.\n",
    "def below_threshold(x, threshold=5):\n",
    "    return 100 * (x < threshold).sum() / len(x)\n",
    "def custom_description(data):\n",
    "    t1 = data\n",
    "    t2 = t1.describe()\n",
    "    t3 = t1.iloc[:,1:].apply(below_threshold, threshold=2, axis=0).reset_index(name='2A').set_index('index').T\n",
    "    t31 = t1.iloc[:,1:].apply(below_threshold, threshold=5, axis=0).reset_index(name='5A').set_index('index').T\n",
    "    t32 = t1.iloc[:,1:].median().reset_index(name='median').set_index('index').T\n",
    "    t4 = pd.concat([t2, t3, t31, t32]).loc[['mean', '25%', '50%', '75%', '5A', '2A', 'median']]\n",
    "    t5 = t4.T.reset_index()\n",
    "    t5[['Methods', 'Metrics']] = t5['index'].str.split('_', n=1, expand=True)\n",
    "    t6 = pd.pivot(t5, values=['mean', 'median', '25%', '50%', '75%', '5A', '2A'], index=['Methods'], columns=['Metrics'])\n",
    "    t6_col = t6.columns\n",
    "    t6.columns = t6_col.swaplevel(0, 1)\n",
    "    t7 = t6[sorted(t6.columns)]\n",
    "    my_MultiIndex = [\n",
    "                (    'RMSD',  'mean'),\n",
    "                (    'RMSD',   '25%'),\n",
    "                (    'RMSD',  '50%'),\n",
    "                (    'RMSD',   '75%'),\n",
    "                (    'RMSD',  '5A'),\n",
    "                (    'RMSD', '2A'),\n",
    "                ('COM_DIST',  'mean'),\n",
    "                ('COM_DIST',   '25%'),\n",
    "                ('COM_DIST',  '50%'),\n",
    "                ('COM_DIST',   '75%'),\n",
    "                ('COM_DIST',  '5A'),\n",
    "                ('COM_DIST', '2A'),\n",
    "                (  'KABSCH',  'mean'),\n",
    "                (  'KABSCH',   'median'),\n",
    "                ]\n",
    "    t8 = t7[my_MultiIndex]\n",
    "\n",
    "    my_MultiIndex_fancy = [\n",
    "                (    'Ligand RMSD $\\downarrow$', ' ', 'mean'),\n",
    "                (    'Ligand RMSD $\\downarrow$', 'Percentiles $\\downarrow$', '25%'),\n",
    "                (    'Ligand RMSD $\\downarrow$', 'Percentiles $\\downarrow$',  '50%'),\n",
    "                (    'Ligand RMSD $\\downarrow$', 'Percentiles $\\downarrow$',   '75%'),\n",
    "                (    'Ligand RMSD $\\downarrow$', r'% Below Threshold $\\uparrow$',  '5A'),\n",
    "                (    'Ligand RMSD $\\downarrow$', r'% Below Threshold $\\uparrow$', '2A'),\n",
    "                ('Centroid Distance $\\downarrow$', ' ',  'mean'),\n",
    "                ('Centroid Distance $\\downarrow$', 'Percentiles $\\downarrow$',   '25%'),\n",
    "                ('Centroid Distance $\\downarrow$', 'Percentiles $\\downarrow$',  '50%'),\n",
    "                ('Centroid Distance $\\downarrow$', 'Percentiles $\\downarrow$',   '75%'),\n",
    "                ('Centroid Distance $\\downarrow$', r'% Below Threshold $\\uparrow$', '5A'),\n",
    "                ('Centroid Distance $\\downarrow$', r'% Below Threshold $\\uparrow$', '2A'),\n",
    "                (  'KABSCH', 'RMSD $\\downarrow$',  'mean'),\n",
    "                (  'KABSCH', 'RMSD $\\downarrow$',   'median'),\n",
    "                ]\n",
    "\n",
    "    t8.columns = pd.MultiIndex.from_tuples(my_MultiIndex_fancy)\n",
    "    return t8.round(2)\n"
   ]
  },
  {
   "cell_type": "code",
   "execution_count": 22,
   "id": "5fd153ba",
   "metadata": {},
   "outputs": [
    {
     "ename": "NameError",
     "evalue": "name 'd' is not defined",
     "output_type": "error",
     "traceback": [
      "\u001b[0;31m---------------------------------------------------------------------------\u001b[0m",
      "\u001b[0;31mNameError\u001b[0m                                 Traceback (most recent call last)",
      "Cell \u001b[0;32mIn[22], line 1\u001b[0m\n\u001b[0;32m----> 1\u001b[0m \u001b[43md\u001b[49m\n",
      "\u001b[0;31mNameError\u001b[0m: name 'd' is not defined"
     ]
    }
   ],
   "source": [
    "d"
   ]
  },
  {
   "cell_type": "code",
   "execution_count": 28,
   "id": "5d1b32ba",
   "metadata": {},
   "outputs": [
    {
     "data": {
      "text/html": [
       "<div>\n",
       "<style scoped>\n",
       "    .dataframe tbody tr th:only-of-type {\n",
       "        vertical-align: middle;\n",
       "    }\n",
       "\n",
       "    .dataframe tbody tr th {\n",
       "        vertical-align: top;\n",
       "    }\n",
       "\n",
       "    .dataframe thead tr th {\n",
       "        text-align: left;\n",
       "    }\n",
       "\n",
       "    .dataframe thead tr:last-of-type th {\n",
       "        text-align: right;\n",
       "    }\n",
       "</style>\n",
       "<table border=\"1\" class=\"dataframe\">\n",
       "  <thead>\n",
       "    <tr>\n",
       "      <th></th>\n",
       "      <th colspan=\"6\" halign=\"left\">Ligand RMSD $\\downarrow$</th>\n",
       "      <th colspan=\"6\" halign=\"left\">Centroid Distance $\\downarrow$</th>\n",
       "      <th colspan=\"2\" halign=\"left\">KABSCH</th>\n",
       "    </tr>\n",
       "    <tr>\n",
       "      <th></th>\n",
       "      <th></th>\n",
       "      <th colspan=\"3\" halign=\"left\">Percentiles $\\downarrow$</th>\n",
       "      <th colspan=\"2\" halign=\"left\">% Below Threshold $\\uparrow$</th>\n",
       "      <th></th>\n",
       "      <th colspan=\"3\" halign=\"left\">Percentiles $\\downarrow$</th>\n",
       "      <th colspan=\"2\" halign=\"left\">% Below Threshold $\\uparrow$</th>\n",
       "      <th colspan=\"2\" halign=\"left\">RMSD $\\downarrow$</th>\n",
       "    </tr>\n",
       "    <tr>\n",
       "      <th></th>\n",
       "      <th>mean</th>\n",
       "      <th>25%</th>\n",
       "      <th>50%</th>\n",
       "      <th>75%</th>\n",
       "      <th>5A</th>\n",
       "      <th>2A</th>\n",
       "      <th>mean</th>\n",
       "      <th>25%</th>\n",
       "      <th>50%</th>\n",
       "      <th>75%</th>\n",
       "      <th>5A</th>\n",
       "      <th>2A</th>\n",
       "      <th>mean</th>\n",
       "      <th>median</th>\n",
       "    </tr>\n",
       "    <tr>\n",
       "      <th>Methods</th>\n",
       "      <th></th>\n",
       "      <th></th>\n",
       "      <th></th>\n",
       "      <th></th>\n",
       "      <th></th>\n",
       "      <th></th>\n",
       "      <th></th>\n",
       "      <th></th>\n",
       "      <th></th>\n",
       "      <th></th>\n",
       "      <th></th>\n",
       "      <th></th>\n",
       "      <th></th>\n",
       "      <th></th>\n",
       "    </tr>\n",
       "  </thead>\n",
       "  <tbody>\n",
       "    <tr>\n",
       "      <th>TankBind</th>\n",
       "      <td>8.26</td>\n",
       "      <td>2.38</td>\n",
       "      <td>4.46</td>\n",
       "      <td>8.7</td>\n",
       "      <td>55.1</td>\n",
       "      <td>19.83</td>\n",
       "      <td>6.18</td>\n",
       "      <td>0.83</td>\n",
       "      <td>1.75</td>\n",
       "      <td>4.53</td>\n",
       "      <td>76.58</td>\n",
       "      <td>55.37</td>\n",
       "      <td>2.55</td>\n",
       "      <td>1.96</td>\n",
       "    </tr>\n",
       "  </tbody>\n",
       "</table>\n",
       "</div>"
      ],
      "text/plain": [
       "         Ligand RMSD $\\downarrow$                                      \\\n",
       "                                  Percentiles $\\downarrow$              \n",
       "                             mean                      25%   50%  75%   \n",
       "Methods                                                                 \n",
       "TankBind                     8.26                     2.38  4.46  8.7   \n",
       "\n",
       "                                             Centroid Distance $\\downarrow$  \\\n",
       "         % Below Threshold $\\uparrow$                                         \n",
       "                                   5A     2A                           mean   \n",
       "Methods                                                                       \n",
       "TankBind                         55.1  19.83                           6.18   \n",
       "\n",
       "                                                                            \\\n",
       "         Percentiles $\\downarrow$             % Below Threshold $\\uparrow$   \n",
       "                              25%   50%   75%                           5A   \n",
       "Methods                                                                      \n",
       "TankBind                     0.83  1.75  4.53                        76.58   \n",
       "\n",
       "                           KABSCH         \n",
       "                RMSD $\\downarrow$         \n",
       "             2A              mean median  \n",
       "Methods                                   \n",
       "TankBind  55.37              2.55   1.96  "
      ]
     },
     "execution_count": 28,
     "metadata": {},
     "output_type": "execute_result"
    }
   ],
   "source": [
    "d = pd.DataFrame(info, columns=['pdb', 'TankBind_RMSD', 'TankBind_COM_DIST', 'TankBind_KABSCH'])\n",
    "custom_description(d)"
   ]
  },
  {
   "cell_type": "code",
   "execution_count": 33,
   "id": "952cd02f",
   "metadata": {},
   "outputs": [],
   "source": [
    "list_y_truth = []"
   ]
  },
  {
   "cell_type": "code",
   "execution_count": 34,
   "id": "da3e48db",
   "metadata": {},
   "outputs": [
    {
     "name": "stderr",
     "output_type": "stream",
     "text": [
      "  0%|                                                                                                                                              | 0/363 [00:00<?, ?it/s]"
     ]
    },
    {
     "name": "stderr",
     "output_type": "stream",
     "text": [
      "100%|███████████████████████████████████████████████████████████████████████████████████████████████████████████████████████████████████| 363/363 [00:01<00:00, 207.53it/s]\n"
     ]
    }
   ],
   "source": [
    "for idx, line in tqdm(chosen.iterrows(), total=chosen.shape[0]):\n",
    "    dataset_index = line['dataset_index']\n",
    "    y = dataset[dataset_index].dis_map\n",
    "    list_y_truth.append(y)"
   ]
  },
  {
   "cell_type": "code",
   "execution_count": 35,
   "id": "704528a7",
   "metadata": {},
   "outputs": [],
   "source": [
    "cat_truth = torch.cat(list_y_truth)"
   ]
  },
  {
   "cell_type": "code",
   "execution_count": 36,
   "id": "2d4b7ce1",
   "metadata": {},
   "outputs": [],
   "source": [
    "cat_truth_np = cat_truth.cpu().numpy()"
   ]
  },
  {
   "cell_type": "code",
   "execution_count": 37,
   "id": "a6468ed0",
   "metadata": {},
   "outputs": [],
   "source": [
    "cat_pred = torch.cat(y_pred_list, dim=0)"
   ]
  },
  {
   "cell_type": "code",
   "execution_count": 38,
   "id": "314bb5d6",
   "metadata": {},
   "outputs": [],
   "source": [
    "cat_np = cat_pred.detach().cpu().numpy()"
   ]
  },
  {
   "cell_type": "code",
   "execution_count": 39,
   "id": "0c1ab7af",
   "metadata": {},
   "outputs": [],
   "source": [
    "%matplotlib inline"
   ]
  },
  {
   "cell_type": "code",
   "execution_count": 40,
   "id": "e581d43c",
   "metadata": {},
   "outputs": [
    {
     "data": {
      "image/png": "[encoded data removed]",
      "text/plain": [
       "<Figure size 640x480 with 1 Axes>"
      ]
     },
     "metadata": {},
     "output_type": "display_data"
    }
   ],
   "source": [
    "plt.hist(cat_truth_np, bins=100, edgecolor='black')\n",
    "plt.yscale('log')\n",
    "plt.title(\"Histogram for real distances (log scale)\")\n",
    "plt.xlabel(\"value\")\n",
    "plt.ylabel(\"frequency (log scale)\")\n",
    "plt.show()\n"
   ]
  },
  {
   "cell_type": "code",
   "execution_count": 41,
   "id": "2f590df4",
   "metadata": {},
   "outputs": [
    {
     "data": {
      "image/png": "[encoded data removed]",
      "text/plain": [
       "<Figure size 640x480 with 1 Axes>"
      ]
     },
     "metadata": {},
     "output_type": "display_data"
    }
   ],
   "source": [
    "plt.hist(cat_np, bins=100, edgecolor='black')\n",
    "plt.yscale('log')\n",
    "plt.title(\"Histogram for predicted distances (log scale)\")\n",
    "plt.xlabel(\"value\")\n",
    "plt.ylabel(\"frequency (log scale)\")\n",
    "plt.show()\n"
   ]
  }
 ],
 "metadata": {
  "kernelspec": {
   "display_name": "Python 3 (ipykernel)",
   "language": "python",
   "name": "python3"
  },
  "language_info": {
   "codemirror_mode": {
    "name": "ipython",
    "version": 3
   },
   "file_extension": ".py",
   "mimetype": "text/x-python",
   "name": "python",
   "nbconvert_exporter": "python",
   "pygments_lexer": "ipython3",
   "version": "3.8.19"
  }
 },
 "nbformat": 4,
 "nbformat_minor": 5
}
